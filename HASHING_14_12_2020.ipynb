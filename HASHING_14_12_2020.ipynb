{
 "cells": [
  {
   "cell_type": "code",
   "execution_count": 1,
   "metadata": {},
   "outputs": [],
   "source": [
    "#from scipy.stats.mstats import hmean  \n",
    "import math\n",
    "import statistics"
   ]
  },
  {
   "cell_type": "code",
   "execution_count": 36,
   "metadata": {},
   "outputs": [],
   "source": [
    "#hash function\n",
    "#size=log in base 2 di 4Gb=32\n",
    "SIZE=32\n",
    "def hash_fun(string, SIZE):\n",
    "    out = 0\n",
    "    for i in range(len(string)):\n",
    "        out += (ord(string[i])+109)%SIZE\n",
    "    return '{:032b}'.format(out)"
   ]
  },
  {
   "cell_type": "code",
   "execution_count": 172,
   "metadata": {},
   "outputs": [],
   "source": [
    "def hyper_log2(f):\n",
    "   \n",
    "    stringhe=f.read().split('\\n')\n",
    "    bucket=[[]for i in range (SIZE)]\n",
    "    bucket_index=0\n",
    "\n",
    "    for line in range(len(stringhe)):\n",
    "        a=hash_function_2(stringhe[line],n,A)\n",
    "        \n",
    "        bucket_index=int(a[0])*16+int(a[1])*8+int(a[2])*4+int(a[3]) #i primi 4 bit mi danno il bucket\n",
    "        \n",
    "        bucket_index=int(bucket_index%SIZE) #per evitare 'index out of bound'\n",
    "        cont_zero=0 #contatori di zeri\n",
    "        j=4 #indice per il conteggio degli zeri\n",
    "        #devo inserire nel bucket il numero di zeri contati da sinistra (j=4 perchè li conto dopo il bucket)\n",
    "        while a[j]== '0':\n",
    "            cont_zero +=1\n",
    "            j +=1\n",
    "        if not bucket[bucket_index]: #se il bucket nella posizione bucket_index è vuoto\n",
    "            bucket[bucket_index]=cont_zero#aggiungo il numero di zeri che ho contato\n",
    "        else : #se il bucket in quella posizione ha già un valore\n",
    "            bucket[bucket_index]=max(bucket[bucket_index],cont_zero)#scelgo il massimo tra il valore presente nel bucket e quello calcolato\n",
    "        print(cont_zero,a)\n",
    "    #la cardinalità è data da 2^(media armonica del numero di zeri)\n",
    "    print(bucket)\n",
    "    lista=[]\n",
    "    for b in bucket:\n",
    "        if b!=[] and b>0:\n",
    "            lista.append(b)\n",
    "    print(lista)\n",
    "    print(statistics.harmonic_mean(lista))\n",
    "    media_arm=statistics.harmonic_mean(lista)\n",
    "    print(media_arm)\n",
    "    card=2**(media_arm)\n",
    "    #errore\n",
    "    err=1.04*math.sqrt(SIZE)\n",
    "    return card,err\n",
    " "
   ]
  },
  {
   "cell_type": "markdown",
   "metadata": {},
   "source": [
    "statistics.harmonic_mean(list) calcola la media armonica dei valori nel bucket ,noi vogliamo la media armonica di $2^{M[j]} $"
   ]
  },
  {
   "attachments": {
    "mediaarmonica.PNG": {
     "image/png": "[encoded data removed]"
    }
   },
   "cell_type": "markdown",
   "metadata": {},
   "source": [
    "![mediaarmonica.PNG](attachment:mediaarmonica.PNG)"
   ]
  },
  {
   "cell_type": "code",
   "execution_count": 5,
   "metadata": {},
   "outputs": [],
   "source": [
    "a=[1,2,3]"
   ]
  },
  {
   "cell_type": "code",
   "execution_count": 9,
   "metadata": {},
   "outputs": [
    {
     "data": {
      "text/plain": [
       "1.6363636363636365"
      ]
     },
     "execution_count": 9,
     "metadata": {},
     "output_type": "execute_result"
    }
   ],
   "source": [
    "statistics.harmonic_mean(a)"
   ]
  },
  {
   "cell_type": "markdown",
   "metadata": {},
   "source": [
    "# Hash function dal pdf di Aris"
   ]
  },
  {
   "cell_type": "markdown",
   "metadata": {},
   "source": [
    "valori possibili iniziali =16^32 (dominio di partenza)\n",
    "vogliamo mapparli con 32 bit ,quindi 2^32 possibili combinazioni e valori\n",
    "2^32=4294967296\n",
    "il numero n per fare il mod deve essere maggiore e vicino a questo \n",
    "ho trovato n=4654223003 ma si puo scegliere un numero intorno a questo "
   ]
  },
  {
   "cell_type": "code",
   "execution_count": 22,
   "metadata": {},
   "outputs": [],
   "source": [
    "import random \n",
    "import numpy as np"
   ]
  },
  {
   "cell_type": "markdown",
   "metadata": {},
   "source": [
    "In base esadecimale 'a'=10,'b'=11,'c'=12,'d'=13,'e'=14,'f'=15\n",
    "\n",
    "Creiamo un dizionario di partenza che assegna ad ogni lettera questi valori"
   ]
  },
  {
   "cell_type": "code",
   "execution_count": 73,
   "metadata": {},
   "outputs": [],
   "source": [
    "n=4654223003\n",
    "coeff=np.random.randint(1,high=2**32,size=32,dtype='int64')\n",
    "d={ 'a':10,'b':11,'c':12,'d':13,'e':14,'f':15}\n",
    "\n",
    "def hash_function_2(s,n,a):\n",
    "    out=0\n",
    "    x=[]\n",
    "    for elem in s:\n",
    "        if elem in d:\n",
    "            x.append(d[elem])\n",
    "        else:\n",
    "            x.append(int(elem))\n",
    "    x=np.array(x)\n",
    "    out=np.dot(x,coeff)\n",
    "    return '{:032b}'.format(out%n)"
   ]
  },
  {
   "cell_type": "markdown",
   "metadata": {},
   "source": [
    "# Tentativo con pandas"
   ]
  },
  {
   "cell_type": "code",
   "execution_count": 127,
   "metadata": {},
   "outputs": [],
   "source": [
    "import pandas as pd"
   ]
  },
  {
   "cell_type": "code",
   "execution_count": 131,
   "metadata": {},
   "outputs": [],
   "source": [
    "f=pd.read_csv('hash.txt',delimiter='\\t',names=['Title'],nrows=10000000)"
   ]
  },
  {
   "cell_type": "code",
   "execution_count": 132,
   "metadata": {},
   "outputs": [
    {
     "data": {
      "text/html": [
       "<div>\n",
       "<style scoped>\n",
       "    .dataframe tbody tr th:only-of-type {\n",
       "        vertical-align: middle;\n",
       "    }\n",
       "\n",
       "    .dataframe tbody tr th {\n",
       "        vertical-align: top;\n",
       "    }\n",
       "\n",
       "    .dataframe thead th {\n",
       "        text-align: right;\n",
       "    }\n",
       "</style>\n",
       "<table border=\"1\" class=\"dataframe\">\n",
       "  <thead>\n",
       "    <tr style=\"text-align: right;\">\n",
       "      <th></th>\n",
       "      <th>Title</th>\n",
       "    </tr>\n",
       "  </thead>\n",
       "  <tbody>\n",
       "    <tr>\n",
       "      <th>0</th>\n",
       "      <td>844082e02a27ddee8d99ea1af94a2969</td>\n",
       "    </tr>\n",
       "    <tr>\n",
       "      <th>1</th>\n",
       "      <td>ff96d6665b5c59d3a70bb8f2ba4f10be</td>\n",
       "    </tr>\n",
       "    <tr>\n",
       "      <th>2</th>\n",
       "      <td>b64a85884e2b159829331c19e05dbac9</td>\n",
       "    </tr>\n",
       "    <tr>\n",
       "      <th>3</th>\n",
       "      <td>1c8836719e84867c26ba2cfeb372c53d</td>\n",
       "    </tr>\n",
       "    <tr>\n",
       "      <th>4</th>\n",
       "      <td>b66f73ffd9008d9c99159e164261df51</td>\n",
       "    </tr>\n",
       "  </tbody>\n",
       "</table>\n",
       "</div>"
      ],
      "text/plain": [
       "                              Title\n",
       "0  844082e02a27ddee8d99ea1af94a2969\n",
       "1  ff96d6665b5c59d3a70bb8f2ba4f10be\n",
       "2  b64a85884e2b159829331c19e05dbac9\n",
       "3  1c8836719e84867c26ba2cfeb372c53d\n",
       "4  b66f73ffd9008d9c99159e164261df51"
      ]
     },
     "execution_count": 132,
     "metadata": {},
     "output_type": "execute_result"
    }
   ],
   "source": [
    "f.head()"
   ]
  },
  {
   "cell_type": "code",
   "execution_count": 141,
   "metadata": {},
   "outputs": [],
   "source": [
    "file=open('hash.txt','r',encoding='utf-8')"
   ]
  },
  {
   "cell_type": "code",
   "execution_count": 142,
   "metadata": {},
   "outputs": [
    {
     "name": "stdout",
     "output_type": "stream",
     "text": [
      "20000\n"
     ]
    }
   ],
   "source": [
    "l=[]\n",
    "i=1\n",
    "for row in file:\n",
    "    l.append(row)\n",
    "    if i==20000:\n",
    "        print(i)\n",
    "    if i==100001:\n",
    "        break\n",
    "    i=i+1\n",
    "        "
   ]
  },
  {
   "cell_type": "markdown",
   "metadata": {},
   "source": [
    "# Hyperloglog"
   ]
  },
  {
   "attachments": {
    "hyperloglog.PNG": {
     "image/png": "[encoded data removed]"
    }
   },
   "cell_type": "markdown",
   "metadata": {},
   "source": [
    "![hyperloglog.PNG](attachment:hyperloglog.PNG)"
   ]
  },
  {
   "attachments": {
    "cdaca.PNG": {
     "image/png": "[encoded data removed]"
    }
   },
   "cell_type": "markdown",
   "metadata": {},
   "source": [
    "![cdaca.PNG](attachment:cdaca.PNG)"
   ]
  },
  {
   "cell_type": "markdown",
   "metadata": {},
   "source": [
    "<center>La formula per il calcolo della cardinalità puo essere riscritta come</center> "
   ]
  },
  {
   "attachments": {
    "hll2.PNG": {
     "image/png": "[encoded data removed]"
    }
   },
   "cell_type": "markdown",
   "metadata": {},
   "source": [
    "![hll2.PNG](attachment:hll2.PNG)"
   ]
  },
  {
   "cell_type": "markdown",
   "metadata": {},
   "source": [
    "<center>dove la costante equivale ad $\\alpha_m$ e vale 0.7942</center>"
   ]
  },
  {
   "cell_type": "code",
   "execution_count": 88,
   "metadata": {},
   "outputs": [],
   "source": [
    "SIZE=32\n",
    "def hyper_log_log_version2(f):\n",
    "   \n",
    "    stringhe=f.read().split('\\n')\n",
    "    bucket=[[]for i in range (SIZE)]#32 bucket ??\n",
    "    bucket_index=0\n",
    "\n",
    "    for line in range(len(stringhe)):\n",
    "        a=hash_function_2(stringhe[line],n,A)\n",
    "        \n",
    "        \n",
    "        #the binary address determined by the first 5 bits of x determine the bucket index\n",
    "        #togliamo 1+ perchè i bucket partono da 0\n",
    "        #quindi il bucket 0 è il M[1] della figura\n",
    "        #e il bucket 31 è il M[32] della figura\n",
    "        bucket_index= int(a[:5],2)\n",
    "        \n",
    "        cont_zero=0 #contatori di zeri\n",
    "        j=5 #indice per il conteggio degli zeri\n",
    "        #devo inserire nel bucket il numero di zeri contati da sinistra\n",
    "        \n",
    "        while a[j]== '0':\n",
    "            cont_zero +=1\n",
    "            j +=1\n",
    "         \n",
    "        \n",
    "        #se il bucket nella posizione bucket_index è vuoto\n",
    "        #aggiungo il numero di zeri che ho contato\n",
    "        #se il bucket in quella posizione ha già un valore\n",
    "        #scelgo il massimo tra il valore presente nel bucket e quello calcolato\n",
    "        \n",
    "        if not bucket[bucket_index]: \n",
    "            bucket[bucket_index]=cont_zero\n",
    "        else :\n",
    "            bucket[bucket_index]=max(bucket[bucket_index],cont_zero)\n",
    "    \n",
    "    #la cardinalità è data da 2^(media armonica del numero di zeri)\n",
    "    print(bucket)\n",
    "    lista=[]\n",
    "    for b in bucket:\n",
    "        if b!=[] and b>0:\n",
    "            lista.append(b)\n",
    "            \n",
    "    s=0\n",
    "    for elem in lista:\n",
    "        s+=2**(-elem)\n",
    "    s=s**(-1)\n",
    "    card=0.79402*(SIZE**2)*s\n",
    "    #errore\n",
    "    err=1.04/math.sqrt(SIZE)\n",
    "    return card,err"
   ]
  },
  {
   "cell_type": "markdown",
   "metadata": {},
   "source": [
    "# Tentativo con 2 milioni di righe"
   ]
  },
  {
   "cell_type": "code",
   "execution_count": 89,
   "metadata": {},
   "outputs": [],
   "source": [
    "f.close()"
   ]
  },
  {
   "cell_type": "code",
   "execution_count": 90,
   "metadata": {},
   "outputs": [],
   "source": [
    "f=open('hash_2_mln.txt','r')"
   ]
  },
  {
   "cell_type": "code",
   "execution_count": 91,
   "metadata": {},
   "outputs": [
    {
     "name": "stdout",
     "output_type": "stream",
     "text": [
      "[16, 17, 12, 17, 19, 14, 19, 19, 17, 16, 15, 16, 15, 15, 16, 15, 15, 18, 18, 16, 15, 21, 17, 16, 17, 16, 17, 20, 20, 15, 17, 18]\n"
     ]
    }
   ],
   "source": [
    "card,err=hyper_log_log_version2(f)"
   ]
  },
  {
   "cell_type": "code",
   "execution_count": 92,
   "metadata": {},
   "outputs": [
    {
     "data": {
      "text/plain": [
       "1163921.478624546"
      ]
     },
     "execution_count": 92,
     "metadata": {},
     "output_type": "execute_result"
    }
   ],
   "source": [
    "card"
   ]
  },
  {
   "cell_type": "code",
   "execution_count": 93,
   "metadata": {},
   "outputs": [
    {
     "data": {
      "text/plain": [
       "0.18384776310850234"
      ]
     },
     "execution_count": 93,
     "metadata": {},
     "output_type": "execute_result"
    }
   ],
   "source": [
    "err"
   ]
  },
  {
   "cell_type": "markdown",
   "metadata": {},
   "source": [
    "## risultato plausibile,ma da riguardare\n",
    "## rivedere problema 32 bit!!"
   ]
  },
  {
   "cell_type": "code",
   "execution_count": null,
   "metadata": {},
   "outputs": [],
   "source": []
  },
  {
   "cell_type": "markdown",
   "metadata": {},
   "source": [
    "# Costruire file prova"
   ]
  },
  {
   "cell_type": "code",
   "execution_count": 59,
   "metadata": {},
   "outputs": [],
   "source": [
    "file=open('hash.txt','r')"
   ]
  },
  {
   "cell_type": "code",
   "execution_count": 61,
   "metadata": {},
   "outputs": [
    {
     "name": "stderr",
     "output_type": "stream",
     "text": [
      "100%|████████████████████████████| 2000000/2000000 [00:02<00:00, 719758.29it/s]\n"
     ]
    }
   ],
   "source": [
    "from tqdm import tqdm\n",
    "l=[]\n",
    "for i in tqdm(range(2000000)):\n",
    "    l.append(file.readline())        "
   ]
  }
 ],
 "metadata": {
  "kernelspec": {
   "display_name": "Python 3",
   "language": "python",
   "name": "python3"
  },
  "language_info": {
   "codemirror_mode": {
    "name": "ipython",
    "version": 3
   },
   "file_extension": ".py",
   "mimetype": "text/x-python",
   "name": "python",
   "nbconvert_exporter": "python",
   "pygments_lexer": "ipython3",
   "version": "3.8.3"
  }
 },
 "nbformat": 4,
 "nbformat_minor": 4
}
