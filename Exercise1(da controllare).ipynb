{
 "cells": [
  {
   "cell_type": "code",
   "execution_count": 1,
   "metadata": {},
   "outputs": [],
   "source": [
    "import math\n",
    "import statistics\n",
    "import numpy as np\n",
    "from tqdm import tqdm"
   ]
  },
  {
   "cell_type": "code",
   "execution_count": 2,
   "metadata": {},
   "outputs": [],
   "source": [
    "n=4294967311\n",
    "coeff=np.random.randint(1,high=2**32-1,size=32,dtype='int64')\n",
    "d={ 'a':10,'b':11,'c':12,'d':13,'e':14,'f':15}\n",
    "\n",
    "def hash_function_2(s,n=n,coeff=coeff):\n",
    "    out=0\n",
    "    x=[]\n",
    "    for elem in s:\n",
    "        if elem in d:\n",
    "            x.append(d[elem])\n",
    "        else:\n",
    "            x.append(int(elem))\n",
    "    x=np.array(x)\n",
    "    out=np.dot(x,coeff)\n",
    "    #if 2**32-1<out%n<4294967311:\n",
    "        #print(out%n)\n",
    "        \n",
    "  \n",
    "    #print(len('{:032b}'.format(out%n))==32)\n",
    "    return '{:032b}'.format(out%n)"
   ]
  },
  {
   "cell_type": "code",
   "execution_count": 3,
   "metadata": {},
   "outputs": [],
   "source": [
    "SIZE=32\n",
    "\n",
    "\n",
    "def hyper_log_log_version2(f):\n",
    "    bucket=[0]*SIZE#32 bucket \n",
    "    bucket_index=0\n",
    "    for i in tqdm(range(139000000)):\n",
    "        riga=f.readline().strip('\\n')\n",
    "        a=hash_function_2(riga)\n",
    "        bucket_index=0\n",
    "        #the binary address determined by the first 5 bits of x determine the bucket index\n",
    "        #togliamo 1+ perchè i bucket partono da 0\n",
    "        #quindi il bucket 0 è il M[1] della figura\n",
    "        #e il bucket 31 è il M[32] della figura\n",
    "        bucket_index= int(a[:5],2)\n",
    "        \n",
    "        cont_zero=0 #contatori di zeri\n",
    "        j=5 #indice per il conteggio degli zeri\n",
    "        #devo inserire nel bucket il numero di zeri contati da sinistra\n",
    "        \n",
    "        while a[j]== '0':\n",
    "            cont_zero +=1\n",
    "            j +=1\n",
    "        \n",
    "        #se il bucket nella posizione bucket_index è vuoto\n",
    "        #aggiungo il numero di zeri che ho contato\n",
    "        #se il bucket in quella posizione ha già un valore\n",
    "        #scelgo il massimo tra il valore presente nel bucket e quello calcolato\n",
    "        #print(bucket[bucket_index])\n",
    "        #print(cont_zero)\n",
    "        if bucket[bucket_index]==0: \n",
    "            bucket[bucket_index]=cont_zero\n",
    "        else :\n",
    "            bucket[bucket_index]=max(bucket[bucket_index],cont_zero)\n",
    "                \n",
    "    s=0\n",
    "    for elem in bucket:\n",
    "        s+=2**(-elem)\n",
    "    s=s**(-1)\n",
    "    card=0.697*(SIZE**2)*s\n",
    "    #errore\n",
    "    err=1.04/math.sqrt(SIZE)\n",
    "    return card,err"
   ]
  },
  {
   "cell_type": "code",
   "execution_count": 4,
   "metadata": {},
   "outputs": [],
   "source": [
    "f=open('hash.txt','r', encoding='utf-8')"
   ]
  },
  {
   "cell_type": "code",
   "execution_count": 5,
   "metadata": {},
   "outputs": [
    {
     "name": "stderr",
     "output_type": "stream",
     "text": [
      "100%|██████████| 139000000/139000000 [36:11<00:00, 63997.81it/s] \n"
     ]
    }
   ],
   "source": [
    "card,err=hyper_log_log_version2(f)"
   ]
  },
  {
   "cell_type": "code",
   "execution_count": 6,
   "metadata": {},
   "outputs": [],
   "source": [
    "f.close()"
   ]
  },
  {
   "cell_type": "code",
   "execution_count": 9,
   "metadata": {},
   "outputs": [
    {
     "name": "stdout",
     "output_type": "stream",
     "text": [
      "101049525.91770463\n"
     ]
    }
   ],
   "source": [
    "print(card)"
   ]
  },
  {
   "cell_type": "code",
   "execution_count": 10,
   "metadata": {},
   "outputs": [
    {
     "name": "stdout",
     "output_type": "stream",
     "text": [
      "0.18384776310850234\n"
     ]
    }
   ],
   "source": [
    "print(err)"
   ]
  },
  {
   "cell_type": "code",
   "execution_count": null,
   "metadata": {},
   "outputs": [],
   "source": []
  }
 ],
 "metadata": {
  "kernelspec": {
   "display_name": "Python 3",
   "language": "python",
   "name": "python3"
  },
  "language_info": {
   "codemirror_mode": {
    "name": "ipython",
    "version": 3
   },
   "file_extension": ".py",
   "mimetype": "text/x-python",
   "name": "python",
   "nbconvert_exporter": "python",
   "pygments_lexer": "ipython3",
   "version": "3.7.7"
  }
 },
 "nbformat": 4,
 "nbformat_minor": 4
}
