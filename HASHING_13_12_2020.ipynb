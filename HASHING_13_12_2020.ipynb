{
 "cells": [
  {
   "cell_type": "code",
   "execution_count": 80,
   "metadata": {},
   "outputs": [],
   "source": [
    "#from scipy.stats.mstats import hmean  \n",
    "import math\n",
    "import statistics"
   ]
  },
  {
   "cell_type": "code",
   "execution_count": 81,
   "metadata": {},
   "outputs": [],
   "source": [
    "#hash function\n",
    "#size=log in base 2 di 4Gb=32\n",
    "SIZE=32\n",
    "def hash_fun(string, SIZE):\n",
    "    out = 0\n",
    "    for i in range(len(string)):\n",
    "        out += (ord(string[i])+109)%SIZE\n",
    "    return '{:032b}'.format(out)"
   ]
  },
  {
   "cell_type": "code",
   "execution_count": 118,
   "metadata": {},
   "outputs": [],
   "source": [
    "def hyper_log2(f):\n",
    "   \n",
    "    stringhe=f.read().split('\\n')\n",
    "    bucket=[[]for i in range (SIZE)]\n",
    "    bucket_index=0\n",
    "    for line in range(len(stringhe)):\n",
    "        a=hash_function_2(stringhe[line],n,A)\n",
    "        \n",
    "        bucket_index=int(a[0])*16+int(a[1])*8+int(a[2])*4+int(a[3]) #i primi 4 bit mi danno il bucket\n",
    "        \n",
    "        bucket_index=int(bucket_index%SIZE) #per evitare 'index out of bound'\n",
    "        cont_zero=0 #contatori di zeri\n",
    "        j=4 #indice per il conteggio degli zeri\n",
    "        #devo inserire nel bucket il numero di zeri contati da sinistra (j=4 perchè li conto dopo il bucket)\n",
    "        while a[j]== '0':\n",
    "            cont_zero +=1\n",
    "            j +=1\n",
    "        if not bucket[bucket_index]: #se il bucket nella posizione bucket_index è vuoto\n",
    "            bucket[bucket_index]=cont_zero #aggiungo il numero di zeri che ho contato\n",
    "        else : #se il bucket in quella posizione ha già un valore\n",
    "            bucket[bucket_index]=max(bucket[bucket_index],cont_zero)#scelgo il massimo tra il valore presente nel bucket e quello calcolato\n",
    "        \n",
    "    #la cardinalità è data da 2^(media armonica del numero di zeri)\n",
    "    print(bucket)\n",
    "    lista=[]\n",
    "    for b in bucket:\n",
    "        if b!=[] and b>0:\n",
    "            lista.append(b)\n",
    "    print(lista)\n",
    "    print(statistics.harmonic_mean(lista))\n",
    "    media_arm=statistics.harmonic_mean(lista)\n",
    "    print(media_arm)\n",
    "    card=2**(media_arm)\n",
    "    #errore\n",
    "    err=1.04*math.sqrt(SIZE)\n",
    "    return card,err\n",
    " "
   ]
  },
  {
   "cell_type": "code",
   "execution_count": null,
   "metadata": {},
   "outputs": [],
   "source": []
  },
  {
   "cell_type": "code",
   "execution_count": 120,
   "metadata": {},
   "outputs": [],
   "source": [
    "f=open(\"prova.txt\", 'r')"
   ]
  },
  {
   "cell_type": "code",
   "execution_count": 121,
   "metadata": {},
   "outputs": [
    {
     "name": "stdout",
     "output_type": "stream",
     "text": [
      "[6, 6, [], [], 2, 2, [], [], 4, 6, [], [], 3, 2, [], [], 5, 2, [], [], 5, 1, [], [], 1, 4, [], [], 0, 5, [], []]\n",
      "[6, 6, 2, 2, 4, 6, 3, 2, 5, 2, 5, 1, 1, 4, 5]\n",
      "2.5280898876404496\n",
      "2.5280898876404496\n"
     ]
    }
   ],
   "source": [
    "card,err=hyper_log2(f)"
   ]
  },
  {
   "cell_type": "code",
   "execution_count": 119,
   "metadata": {},
   "outputs": [],
   "source": [
    "f.close()"
   ]
  },
  {
   "cell_type": "markdown",
   "metadata": {},
   "source": [
    "### credo che la cardinalità sia così bassa a causa delle poche righe analizzate, che mi danno media armonica pari a 0"
   ]
  },
  {
   "cell_type": "code",
   "execution_count": 122,
   "metadata": {},
   "outputs": [
    {
     "data": {
      "text/plain": [
       "5.768074856652084"
      ]
     },
     "execution_count": 122,
     "metadata": {},
     "output_type": "execute_result"
    }
   ],
   "source": [
    "card"
   ]
  },
  {
   "cell_type": "code",
   "execution_count": 124,
   "metadata": {},
   "outputs": [
    {
     "data": {
      "text/plain": [
       "5.883128419472076"
      ]
     },
     "execution_count": 124,
     "metadata": {},
     "output_type": "execute_result"
    }
   ],
   "source": [
    "err"
   ]
  },
  {
   "cell_type": "markdown",
   "metadata": {},
   "source": [
    "# Esempi"
   ]
  },
  {
   "cell_type": "code",
   "execution_count": 4,
   "metadata": {},
   "outputs": [],
   "source": [
    "file=open('hash.txt','r')"
   ]
  },
  {
   "cell_type": "code",
   "execution_count": 7,
   "metadata": {},
   "outputs": [
    {
     "data": {
      "text/plain": [
       "'aa77d485a97846893bb145d0b5ee6099\\n'"
      ]
     },
     "execution_count": 7,
     "metadata": {},
     "output_type": "execute_result"
    }
   ],
   "source": [
    "file.readline()"
   ]
  },
  {
   "cell_type": "code",
   "execution_count": 9,
   "metadata": {},
   "outputs": [],
   "source": [
    "prova=file.readline()"
   ]
  },
  {
   "cell_type": "code",
   "execution_count": 12,
   "metadata": {},
   "outputs": [],
   "source": [
    "prova=prova.strip('\\n')"
   ]
  },
  {
   "cell_type": "code",
   "execution_count": 16,
   "metadata": {},
   "outputs": [
    {
     "data": {
      "text/plain": [
       "'00000000000000000000000010011010'"
      ]
     },
     "execution_count": 16,
     "metadata": {},
     "output_type": "execute_result"
    }
   ],
   "source": [
    "hash_fun(prova,10)"
   ]
  },
  {
   "cell_type": "code",
   "execution_count": 17,
   "metadata": {},
   "outputs": [],
   "source": [
    "prova2=file.readline()"
   ]
  },
  {
   "cell_type": "code",
   "execution_count": 18,
   "metadata": {},
   "outputs": [],
   "source": [
    "prova2=prova2.strip('\\n')"
   ]
  },
  {
   "cell_type": "code",
   "execution_count": 19,
   "metadata": {},
   "outputs": [
    {
     "data": {
      "text/plain": [
       "'87f031db98b9b2ac39e3fdfdbd646da9'"
      ]
     },
     "execution_count": 19,
     "metadata": {},
     "output_type": "execute_result"
    }
   ],
   "source": [
    "prova2"
   ]
  },
  {
   "cell_type": "code",
   "execution_count": 20,
   "metadata": {},
   "outputs": [
    {
     "data": {
      "text/plain": [
       "'00000000000000000000000010100101'"
      ]
     },
     "execution_count": 20,
     "metadata": {},
     "output_type": "execute_result"
    }
   ],
   "source": [
    "hash_fun(prova2,10)"
   ]
  },
  {
   "cell_type": "code",
   "execution_count": 21,
   "metadata": {},
   "outputs": [],
   "source": [
    "prova3=file.readline()"
   ]
  },
  {
   "cell_type": "code",
   "execution_count": 22,
   "metadata": {},
   "outputs": [
    {
     "data": {
      "text/plain": [
       "'b4023def713fcabd9178e9642271766a\\n'"
      ]
     },
     "execution_count": 22,
     "metadata": {},
     "output_type": "execute_result"
    }
   ],
   "source": [
    "prova3"
   ]
  },
  {
   "cell_type": "code",
   "execution_count": 23,
   "metadata": {},
   "outputs": [],
   "source": [
    "prova3=prova3.strip('\\n')"
   ]
  },
  {
   "cell_type": "code",
   "execution_count": 24,
   "metadata": {},
   "outputs": [
    {
     "data": {
      "text/plain": [
       "'00000000000000000000000010011100'"
      ]
     },
     "execution_count": 24,
     "metadata": {},
     "output_type": "execute_result"
    }
   ],
   "source": [
    "hash_fun(prova3,10)"
   ]
  },
  {
   "cell_type": "code",
   "execution_count": 26,
   "metadata": {},
   "outputs": [],
   "source": [
    "prova4=file.readline()"
   ]
  },
  {
   "cell_type": "code",
   "execution_count": 27,
   "metadata": {},
   "outputs": [],
   "source": [
    "prova4=prova4.strip('\\n')"
   ]
  },
  {
   "cell_type": "code",
   "execution_count": 28,
   "metadata": {},
   "outputs": [
    {
     "data": {
      "text/plain": [
       "'2d5ba0dfdb2d8436728cbbad2c5ec765'"
      ]
     },
     "execution_count": 28,
     "metadata": {},
     "output_type": "execute_result"
    }
   ],
   "source": [
    "prova4"
   ]
  },
  {
   "cell_type": "code",
   "execution_count": 29,
   "metadata": {},
   "outputs": [
    {
     "data": {
      "text/plain": [
       "'00000000000000000000000010111000'"
      ]
     },
     "execution_count": 29,
     "metadata": {},
     "output_type": "execute_result"
    }
   ],
   "source": [
    "hash_fun(prova4,10)"
   ]
  },
  {
   "cell_type": "code",
   "execution_count": null,
   "metadata": {},
   "outputs": [],
   "source": [
    "#il problema è che i valori mappati in binario sono troppo simili tra loro\n",
    "#vanno a finire tutti nello stesso bucket\n",
    "#perche li stiamo cercando di rappresentare con pochi bit,cioe"
   ]
  },
  {
   "cell_type": "markdown",
   "metadata": {},
   "source": [
    "# Dal pdf di Aris"
   ]
  },
  {
   "cell_type": "markdown",
   "metadata": {},
   "source": [
    "valori possibili iniziali =16^32 (dominio di partenza)\n",
    "vogliamo mapparli con 32 bit ,quindi 2^32 possibili combinazioni e valori\n",
    "2^32=4294967296\n",
    "il numero n per fare il mod deve essere maggiore e vicino a questo \n",
    "ho trovato n=4654223003 ma si puo scegliere un numero intorno a questo "
   ]
  },
  {
   "cell_type": "code",
   "execution_count": null,
   "metadata": {},
   "outputs": [],
   "source": []
  },
  {
   "cell_type": "code",
   "execution_count": 125,
   "metadata": {},
   "outputs": [],
   "source": [
    "import random \n",
    "\n",
    "n=4654223003\n",
    "A=random.sample(range(1,2**32), 32)\n",
    "\n",
    "def hash_function_2(s,n,A):\n",
    "    out=0\n",
    "    for i in range(len(s)):\n",
    "        if s[i].isdigit():\n",
    "            out+=A[i]*int(s[i])\n",
    "        else:\n",
    "            out+=A[i]*(ord(s[i])-96)\n",
    "    return '{:032b}'.format(out%n)\n"
   ]
  },
  {
   "cell_type": "code",
   "execution_count": null,
   "metadata": {},
   "outputs": [],
   "source": []
  },
  {
   "cell_type": "code",
   "execution_count": null,
   "metadata": {},
   "outputs": [],
   "source": []
  },
  {
   "cell_type": "code",
   "execution_count": 126,
   "metadata": {},
   "outputs": [
    {
     "data": {
      "text/plain": [
       "'100000111111000001100011001010111'"
      ]
     },
     "execution_count": 126,
     "metadata": {},
     "output_type": "execute_result"
    }
   ],
   "source": [
    "hash_function_2(prova,n,A)"
   ]
  },
  {
   "cell_type": "code",
   "execution_count": 57,
   "metadata": {},
   "outputs": [
    {
     "data": {
      "text/plain": [
       "2285524876"
      ]
     },
     "execution_count": 57,
     "metadata": {},
     "output_type": "execute_result"
    }
   ],
   "source": [
    "hash_function_2(prova2,n,A)"
   ]
  },
  {
   "cell_type": "code",
   "execution_count": 58,
   "metadata": {},
   "outputs": [
    {
     "data": {
      "text/plain": [
       "571381219"
      ]
     },
     "execution_count": 58,
     "metadata": {},
     "output_type": "execute_result"
    }
   ],
   "source": [
    "hash_function_2(prova3,n,A)"
   ]
  },
  {
   "cell_type": "code",
   "execution_count": 59,
   "metadata": {},
   "outputs": [
    {
     "data": {
      "text/plain": [
       "571381219"
      ]
     },
     "execution_count": 59,
     "metadata": {},
     "output_type": "execute_result"
    }
   ],
   "source": [
    "hash_function_2(prova4,n,A)"
   ]
  },
  {
   "cell_type": "code",
   "execution_count": 66,
   "metadata": {},
   "outputs": [
    {
     "data": {
      "text/plain": [
       "'0b1000100000111010010101111000110'"
      ]
     },
     "execution_count": 66,
     "metadata": {},
     "output_type": "execute_result"
    }
   ],
   "source": [
    "bin(1142762438)"
   ]
  },
  {
   "cell_type": "code",
   "execution_count": 67,
   "metadata": {},
   "outputs": [
    {
     "data": {
      "text/plain": [
       "'0b10001000001110100101011110001100'"
      ]
     },
     "execution_count": 67,
     "metadata": {},
     "output_type": "execute_result"
    }
   ],
   "source": [
    "bin(2285524876)"
   ]
  },
  {
   "cell_type": "code",
   "execution_count": 68,
   "metadata": {},
   "outputs": [
    {
     "data": {
      "text/plain": [
       "'0b100010000011101001010111100011'"
      ]
     },
     "execution_count": 68,
     "metadata": {},
     "output_type": "execute_result"
    }
   ],
   "source": [
    "bin(571381219)"
   ]
  },
  {
   "cell_type": "code",
   "execution_count": null,
   "metadata": {},
   "outputs": [],
   "source": []
  },
  {
   "cell_type": "code",
   "execution_count": 69,
   "metadata": {},
   "outputs": [],
   "source": [
    "file.close()"
   ]
  },
  {
   "cell_type": "code",
   "execution_count": 70,
   "metadata": {},
   "outputs": [],
   "source": [
    "file=open('prova.txt','r')"
   ]
  },
  {
   "cell_type": "code",
   "execution_count": 73,
   "metadata": {},
   "outputs": [
    {
     "name": "stdout",
     "output_type": "stream",
     "text": [
      "01111010000000110010110000101100\n",
      "00111101000000011001011000010110\n",
      "10110111000001001100001001000010\n",
      "00000000000000000000000000000000\n",
      "00111101000000011001011000010110\n",
      "10011000100000111111011100110111\n",
      "10011000100000111111011100110111\n",
      "00000000000000000000000000000000\n",
      "00000000000000000000000000000000\n",
      "01011011100000100110000100100001\n",
      "10110111000001001100001001000010\n",
      "11110100000001100101100001011000\n",
      "11110100000001100101100001011000\n",
      "100010010100001110010001101100011\n",
      "10110111000001001100001001000010\n",
      "00111101000000011001011000010110\n",
      "11110100000001100101100001011000\n",
      "00111101000000011001011000010110\n",
      "100010010100001110010001101100011\n",
      "00011110100000001100101100001011\n",
      "10110111000001001100001001000010\n",
      "10011000100000111111011100110111\n",
      "00011110100000001100101100001011\n",
      "11010101100001011000110101001101\n",
      "10110111000001001100001001000010\n",
      "11010101100001011000110101001101\n",
      "10011000100000111111011100110111\n",
      "00011110100000001100101100001011\n",
      "10110111000001001100001001000010\n",
      "10110111000001001100001001000010\n",
      "00011110100000001100101100001011\n",
      "01111010000000110010110000101100\n",
      "01111010000000110010110000101100\n",
      "00000000000000000000000000000000\n",
      "01011011100000100110000100100001\n",
      "10011000100000111111011100110111\n",
      "01111010000000110010110000101100\n",
      "00111101000000011001011000010110\n",
      "11010101100001011000110101001101\n",
      "10110111000001001100001001000010\n",
      "00000000000000000000000000000000\n",
      "10110111000001001100001001000010\n",
      "10110111000001001100001001000010\n",
      "01011011100000100110000100100001\n",
      "10011000100000111111011100110111\n",
      "00011110100000001100101100001011\n",
      "11110100000001100101100001011000\n",
      "00011110100000001100101100001011\n",
      "10110111000001001100001001000010\n",
      "10110111000001001100001001000010\n",
      "10011000100000111111011100110111\n",
      "11010101100001011000110101001101\n",
      "10110111000001001100001001000010\n",
      "10011000100000111111011100110111\n",
      "01111010000000110010110000101100\n",
      "10110111000001001100001001000010\n",
      "00111101000000011001011000010110\n",
      "11110100000001100101100001011000\n",
      "11110100000001100101100001011000\n",
      "10011000100000111111011100110111\n",
      "10011000100000111111011100110111\n",
      "100010010100001110010001101100011\n",
      "100010010100001110010001101100011\n",
      "10011000100000111111011100110111\n",
      "10110111000001001100001001000010\n",
      "10110111000001001100001001000010\n",
      "10011000100000111111011100110111\n",
      "01111010000000110010110000101100\n",
      "10011000100000111111011100110111\n",
      "10110111000001001100001001000010\n",
      "10110111000001001100001001000010\n",
      "01111010000000110010110000101100\n",
      "11010101100001011000110101001101\n",
      "00111101000000011001011000010110\n",
      "00011110100000001100101100001011\n",
      "11110100000001100101100001011000\n",
      "10011000100000111111011100110111\n",
      "00111101000000011001011000010110\n",
      "01111010000000110010110000101100\n",
      "100010010100001110010001101100011\n",
      "10011000100000111111011100110111\n",
      "00111101000000011001011000010110\n",
      "00111101000000011001011000010110\n",
      "10110111000001001100001001000010\n",
      "00111101000000011001011000010110\n",
      "01111010000000110010110000101100\n"
     ]
    }
   ],
   "source": [
    "for line in file:\n",
    "    print(hash_function_2(line,n,A))\n",
    "    "
   ]
  },
  {
   "cell_type": "code",
   "execution_count": 75,
   "metadata": {},
   "outputs": [
    {
     "data": {
      "text/plain": [
       "33"
      ]
     },
     "execution_count": 75,
     "metadata": {},
     "output_type": "execute_result"
    }
   ],
   "source": [
    "len('100010010100001110010001101100011')"
   ]
  },
  {
   "cell_type": "code",
   "execution_count": 79,
   "metadata": {},
   "outputs": [],
   "source": [
    "f.close()"
   ]
  },
  {
   "cell_type": "code",
   "execution_count": 110,
   "metadata": {},
   "outputs": [],
   "source": [
    "a=[10,20,30]"
   ]
  },
  {
   "cell_type": "code",
   "execution_count": 112,
   "metadata": {},
   "outputs": [
    {
     "ename": "NameError",
     "evalue": "name 'mean' is not defined",
     "output_type": "error",
     "traceback": [
      "\u001b[1;31m---------------------------------------------------------------------------\u001b[0m",
      "\u001b[1;31mNameError\u001b[0m                                 Traceback (most recent call last)",
      "\u001b[1;32m<ipython-input-112-fb4f3b0cf81f>\u001b[0m in \u001b[0;36m<module>\u001b[1;34m\u001b[0m\n\u001b[1;32m----> 1\u001b[1;33m \u001b[0mmean\u001b[0m\u001b[1;33m(\u001b[0m\u001b[0ma\u001b[0m\u001b[1;33m)\u001b[0m\u001b[1;33m\u001b[0m\u001b[1;33m\u001b[0m\u001b[0m\n\u001b[0m",
      "\u001b[1;31mNameError\u001b[0m: name 'mean' is not defined"
     ]
    }
   ],
   "source": []
  },
  {
   "cell_type": "code",
   "execution_count": null,
   "metadata": {},
   "outputs": [],
   "source": []
  },
  {
   "cell_type": "code",
   "execution_count": 117,
   "metadata": {},
   "outputs": [
    {
     "data": {
      "text/plain": [
       "0"
      ]
     },
     "execution_count": 117,
     "metadata": {},
     "output_type": "execute_result"
    }
   ],
   "source": [
    "statistics.harmonic_mean([6, 6, 2, 2, 4, 6, 3, 2, 5, 2, 5, 1, 1, 4, 0, 5])"
   ]
  },
  {
   "cell_type": "code",
   "execution_count": null,
   "metadata": {},
   "outputs": [],
   "source": []
  },
  {
   "cell_type": "code",
   "execution_count": null,
   "metadata": {},
   "outputs": [],
   "source": []
  },
  {
   "cell_type": "code",
   "execution_count": null,
   "metadata": {},
   "outputs": [],
   "source": []
  },
  {
   "cell_type": "code",
   "execution_count": null,
   "metadata": {},
   "outputs": [],
   "source": []
  },
  {
   "cell_type": "code",
   "execution_count": null,
   "metadata": {},
   "outputs": [],
   "source": []
  },
  {
   "cell_type": "code",
   "execution_count": null,
   "metadata": {},
   "outputs": [],
   "source": []
  },
  {
   "cell_type": "code",
   "execution_count": null,
   "metadata": {},
   "outputs": [],
   "source": []
  }
 ],
 "metadata": {
  "kernelspec": {
   "display_name": "Python 3",
   "language": "python",
   "name": "python3"
  },
  "language_info": {
   "codemirror_mode": {
    "name": "ipython",
    "version": 3
   },
   "file_extension": ".py",
   "mimetype": "text/x-python",
   "name": "python",
   "nbconvert_exporter": "python",
   "pygments_lexer": "ipython3",
   "version": "3.8.3"
  }
 },
 "nbformat": 4,
 "nbformat_minor": 4
}
