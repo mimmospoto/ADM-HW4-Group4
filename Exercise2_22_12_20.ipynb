{
 "cells": [
  {
   "cell_type": "markdown",
   "metadata": {},
   "source": [
    "# Clustering"
   ]
  },
  {
   "cell_type": "code",
   "execution_count": 1,
   "metadata": {},
   "outputs": [
    {
     "name": "stderr",
     "output_type": "stream",
     "text": [
      "/Users/domenicospoto/opt/anaconda3/envs/algotrading/lib/python3.7/site-packages/tqdm/std.py:668: FutureWarning: The Panel class is removed from pandas. Accessing it from the top-level namespace will also be removed in the next version\n",
      "  from pandas import Panel\n"
     ]
    }
   ],
   "source": [
    "# Useful libraries\n",
    "import pandas as pd\n",
    "import pickle\n",
    "import ast\n",
    "from tqdm import tqdm\n",
    "from collections import Counter\n",
    "from collections import defaultdict\n",
    "from nltk.corpus import stopwords\n",
    "from nltk.tokenize import word_tokenize\n",
    "from nltk.stem import SnowballStemmer\n",
    "from nltk.tokenize import RegexpTokenizer\n",
    "import numpy as np\n",
    "from scipy import sparse\n",
    "import matplotlib.pyplot as plt\n",
    "import scipy.sparse as sp\n",
    "from sklearn.cluster import KMeans\n",
    "tqdm.pandas()"
   ]
  },
  {
   "cell_type": "markdown",
   "metadata": {},
   "source": [
    "# Read the dataset"
   ]
  },
  {
   "cell_type": "code",
   "execution_count": 23,
   "metadata": {},
   "outputs": [],
   "source": [
    "df=pd.read_csv('Reviews.csv')"
   ]
  },
  {
   "cell_type": "code",
   "execution_count": 24,
   "metadata": {},
   "outputs": [
    {
     "data": {
      "text/html": [
       "<div>\n",
       "<style scoped>\n",
       "    .dataframe tbody tr th:only-of-type {\n",
       "        vertical-align: middle;\n",
       "    }\n",
       "\n",
       "    .dataframe tbody tr th {\n",
       "        vertical-align: top;\n",
       "    }\n",
       "\n",
       "    .dataframe thead th {\n",
       "        text-align: right;\n",
       "    }\n",
       "</style>\n",
       "<table border=\"1\" class=\"dataframe\">\n",
       "  <thead>\n",
       "    <tr style=\"text-align: right;\">\n",
       "      <th></th>\n",
       "      <th>Id</th>\n",
       "      <th>ProductId</th>\n",
       "      <th>UserId</th>\n",
       "      <th>ProfileName</th>\n",
       "      <th>HelpfulnessNumerator</th>\n",
       "      <th>HelpfulnessDenominator</th>\n",
       "      <th>Score</th>\n",
       "      <th>Time</th>\n",
       "      <th>Summary</th>\n",
       "      <th>Text</th>\n",
       "    </tr>\n",
       "  </thead>\n",
       "  <tbody>\n",
       "    <tr>\n",
       "      <th>0</th>\n",
       "      <td>1</td>\n",
       "      <td>B001E4KFG0</td>\n",
       "      <td>A3SGXH7AUHU8GW</td>\n",
       "      <td>delmartian</td>\n",
       "      <td>1</td>\n",
       "      <td>1</td>\n",
       "      <td>5</td>\n",
       "      <td>1303862400</td>\n",
       "      <td>Good Quality Dog Food</td>\n",
       "      <td>I have bought several of the Vitality canned d...</td>\n",
       "    </tr>\n",
       "    <tr>\n",
       "      <th>1</th>\n",
       "      <td>2</td>\n",
       "      <td>B00813GRG4</td>\n",
       "      <td>A1D87F6ZCVE5NK</td>\n",
       "      <td>dll pa</td>\n",
       "      <td>0</td>\n",
       "      <td>0</td>\n",
       "      <td>1</td>\n",
       "      <td>1346976000</td>\n",
       "      <td>Not as Advertised</td>\n",
       "      <td>Product arrived labeled as Jumbo Salted Peanut...</td>\n",
       "    </tr>\n",
       "    <tr>\n",
       "      <th>2</th>\n",
       "      <td>3</td>\n",
       "      <td>B000LQOCH0</td>\n",
       "      <td>ABXLMWJIXXAIN</td>\n",
       "      <td>Natalia Corres \"Natalia Corres\"</td>\n",
       "      <td>1</td>\n",
       "      <td>1</td>\n",
       "      <td>4</td>\n",
       "      <td>1219017600</td>\n",
       "      <td>\"Delight\" says it all</td>\n",
       "      <td>This is a confection that has been around a fe...</td>\n",
       "    </tr>\n",
       "    <tr>\n",
       "      <th>3</th>\n",
       "      <td>4</td>\n",
       "      <td>B000UA0QIQ</td>\n",
       "      <td>A395BORC6FGVXV</td>\n",
       "      <td>Karl</td>\n",
       "      <td>3</td>\n",
       "      <td>3</td>\n",
       "      <td>2</td>\n",
       "      <td>1307923200</td>\n",
       "      <td>Cough Medicine</td>\n",
       "      <td>If you are looking for the secret ingredient i...</td>\n",
       "    </tr>\n",
       "    <tr>\n",
       "      <th>4</th>\n",
       "      <td>5</td>\n",
       "      <td>B006K2ZZ7K</td>\n",
       "      <td>A1UQRSCLF8GW1T</td>\n",
       "      <td>Michael D. Bigham \"M. Wassir\"</td>\n",
       "      <td>0</td>\n",
       "      <td>0</td>\n",
       "      <td>5</td>\n",
       "      <td>1350777600</td>\n",
       "      <td>Great taffy</td>\n",
       "      <td>Great taffy at a great price.  There was a wid...</td>\n",
       "    </tr>\n",
       "  </tbody>\n",
       "</table>\n",
       "</div>"
      ],
      "text/plain": [
       "   Id   ProductId          UserId                      ProfileName  \\\n",
       "0   1  B001E4KFG0  A3SGXH7AUHU8GW                       delmartian   \n",
       "1   2  B00813GRG4  A1D87F6ZCVE5NK                           dll pa   \n",
       "2   3  B000LQOCH0   ABXLMWJIXXAIN  Natalia Corres \"Natalia Corres\"   \n",
       "3   4  B000UA0QIQ  A395BORC6FGVXV                             Karl   \n",
       "4   5  B006K2ZZ7K  A1UQRSCLF8GW1T    Michael D. Bigham \"M. Wassir\"   \n",
       "\n",
       "   HelpfulnessNumerator  HelpfulnessDenominator  Score        Time  \\\n",
       "0                     1                       1      5  1303862400   \n",
       "1                     0                       0      1  1346976000   \n",
       "2                     1                       1      4  1219017600   \n",
       "3                     3                       3      2  1307923200   \n",
       "4                     0                       0      5  1350777600   \n",
       "\n",
       "                 Summary                                               Text  \n",
       "0  Good Quality Dog Food  I have bought several of the Vitality canned d...  \n",
       "1      Not as Advertised  Product arrived labeled as Jumbo Salted Peanut...  \n",
       "2  \"Delight\" says it all  This is a confection that has been around a fe...  \n",
       "3         Cough Medicine  If you are looking for the secret ingredient i...  \n",
       "4            Great taffy  Great taffy at a great price.  There was a wid...  "
      ]
     },
     "execution_count": 24,
     "metadata": {},
     "output_type": "execute_result"
    }
   ],
   "source": [
    "df.head()"
   ]
  },
  {
   "cell_type": "markdown",
   "metadata": {},
   "source": [
    "Number of unique products"
   ]
  },
  {
   "cell_type": "code",
   "execution_count": 25,
   "metadata": {},
   "outputs": [
    {
     "data": {
      "text/plain": [
       "74258"
      ]
     },
     "execution_count": 25,
     "metadata": {},
     "output_type": "execute_result"
    }
   ],
   "source": [
    "df.ProductId.nunique()"
   ]
  },
  {
   "cell_type": "markdown",
   "metadata": {},
   "source": [
    "Number of total reviews"
   ]
  },
  {
   "cell_type": "code",
   "execution_count": 26,
   "metadata": {},
   "outputs": [
    {
     "data": {
      "text/plain": [
       "568454"
      ]
     },
     "execution_count": 26,
     "metadata": {},
     "output_type": "execute_result"
    }
   ],
   "source": [
    "len(df)"
   ]
  },
  {
   "cell_type": "markdown",
   "metadata": {},
   "source": [
    "From some kaggle researches we noted there are some duplicates, for example the same User published the same rewiew at the same time for different products which belong to the same family but having different flavour (chocolate,nut,vanilla...) or different size packaging (package of 8,16,32 pieces). We decide to mantain only one unique review for this family product."
   ]
  },
  {
   "cell_type": "code",
   "execution_count": 27,
   "metadata": {},
   "outputs": [],
   "source": [
    "sorted_data=df.sort_values('ProductId', axis=0, ascending=True, inplace=False, kind='quicksort', na_position='last')"
   ]
  },
  {
   "cell_type": "code",
   "execution_count": 28,
   "metadata": {},
   "outputs": [
    {
     "data": {
      "text/plain": [
       "(393933, 10)"
      ]
     },
     "execution_count": 28,
     "metadata": {},
     "output_type": "execute_result"
    }
   ],
   "source": [
    "final=sorted_data.drop_duplicates(subset={\"UserId\",\"ProfileName\",\"Time\",\"Text\"}, keep='first', inplace=False)\n",
    "final.shape"
   ]
  },
  {
   "cell_type": "markdown",
   "metadata": {},
   "source": [
    "Then we decide to merge all the reviews written by different Users but refered to the same product. This passage is necessary for the future clustering operations, otherwise the same product can belong to differet clusters."
   ]
  },
  {
   "cell_type": "code",
   "execution_count": 30,
   "metadata": {},
   "outputs": [],
   "source": [
    "final_series=final.groupby('ProductId').Text.apply(lambda x :','.join(x))"
   ]
  },
  {
   "cell_type": "code",
   "execution_count": 31,
   "metadata": {},
   "outputs": [],
   "source": [
    "final_df=pd.DataFrame(final_series).reset_index()"
   ]
  },
  {
   "cell_type": "code",
   "execution_count": 32,
   "metadata": {},
   "outputs": [
    {
     "data": {
      "text/html": [
       "<div>\n",
       "<style scoped>\n",
       "    .dataframe tbody tr th:only-of-type {\n",
       "        vertical-align: middle;\n",
       "    }\n",
       "\n",
       "    .dataframe tbody tr th {\n",
       "        vertical-align: top;\n",
       "    }\n",
       "\n",
       "    .dataframe thead th {\n",
       "        text-align: right;\n",
       "    }\n",
       "</style>\n",
       "<table border=\"1\" class=\"dataframe\">\n",
       "  <thead>\n",
       "    <tr style=\"text-align: right;\">\n",
       "      <th></th>\n",
       "      <th>ProductId</th>\n",
       "      <th>Text</th>\n",
       "    </tr>\n",
       "  </thead>\n",
       "  <tbody>\n",
       "    <tr>\n",
       "      <th>0</th>\n",
       "      <td>0006641040</td>\n",
       "      <td>In June&lt;br /&gt;I saw a charming group&lt;br /&gt;of ro...</td>\n",
       "    </tr>\n",
       "    <tr>\n",
       "      <th>1</th>\n",
       "      <td>141278509X</td>\n",
       "      <td>This product by Archer Farms is the best drink...</td>\n",
       "    </tr>\n",
       "    <tr>\n",
       "      <th>2</th>\n",
       "      <td>2734888454</td>\n",
       "      <td>My dogs loves this chicken but its a product f...</td>\n",
       "    </tr>\n",
       "    <tr>\n",
       "      <th>3</th>\n",
       "      <td>2841233731</td>\n",
       "      <td>This book is easy to read and the ingredients ...</td>\n",
       "    </tr>\n",
       "    <tr>\n",
       "      <th>4</th>\n",
       "      <td>7310172001</td>\n",
       "      <td>My dogs love these treats. The only problems I...</td>\n",
       "    </tr>\n",
       "    <tr>\n",
       "      <th>...</th>\n",
       "      <td>...</td>\n",
       "      <td>...</td>\n",
       "    </tr>\n",
       "    <tr>\n",
       "      <th>67552</th>\n",
       "      <td>B009RSR8HO</td>\n",
       "      <td>I've been using Fat to Skinny Zero since it wa...</td>\n",
       "    </tr>\n",
       "    <tr>\n",
       "      <th>67553</th>\n",
       "      <td>B009SF0TN6</td>\n",
       "      <td>You have to try this sauce to believe it! It s...</td>\n",
       "    </tr>\n",
       "    <tr>\n",
       "      <th>67554</th>\n",
       "      <td>B009SR4OQ2</td>\n",
       "      <td>I bought this Hazelnut Paste (Nocciola Spread)...</td>\n",
       "    </tr>\n",
       "    <tr>\n",
       "      <th>67555</th>\n",
       "      <td>B009WSNWC4</td>\n",
       "      <td>Purchased this product at a local store in NY ...</td>\n",
       "    </tr>\n",
       "    <tr>\n",
       "      <th>67556</th>\n",
       "      <td>B009WVB40S</td>\n",
       "      <td>I purchased this to send to my son who's away ...</td>\n",
       "    </tr>\n",
       "  </tbody>\n",
       "</table>\n",
       "<p>67557 rows × 2 columns</p>\n",
       "</div>"
      ],
      "text/plain": [
       "        ProductId                                               Text\n",
       "0      0006641040  In June<br />I saw a charming group<br />of ro...\n",
       "1      141278509X  This product by Archer Farms is the best drink...\n",
       "2      2734888454  My dogs loves this chicken but its a product f...\n",
       "3      2841233731  This book is easy to read and the ingredients ...\n",
       "4      7310172001  My dogs love these treats. The only problems I...\n",
       "...           ...                                                ...\n",
       "67552  B009RSR8HO  I've been using Fat to Skinny Zero since it wa...\n",
       "67553  B009SF0TN6  You have to try this sauce to believe it! It s...\n",
       "67554  B009SR4OQ2  I bought this Hazelnut Paste (Nocciola Spread)...\n",
       "67555  B009WSNWC4  Purchased this product at a local store in NY ...\n",
       "67556  B009WVB40S  I purchased this to send to my son who's away ...\n",
       "\n",
       "[67557 rows x 2 columns]"
      ]
     },
     "execution_count": 32,
     "metadata": {},
     "output_type": "execute_result"
    }
   ],
   "source": [
    "final_df"
   ]
  },
  {
   "cell_type": "markdown",
   "metadata": {},
   "source": [
    "# Preprocessing \n",
    "\n",
    "At this point we have an organized dataset and we can preprocess all the reviews, for example removing stopwords, normalizing and keeping only the stem of each word.\n",
    "\n",
    "Then we decide to remove all the words with length of 2 or less, because with a quickly visual analysis we discover that there are some writing mistakes made by the Users or some special review such : **'G-R-E-A-T-P-R-O-D-U-C-T'** and we don't want to consider this special cases."
   ]
  },
  {
   "cell_type": "code",
   "execution_count": 33,
   "metadata": {},
   "outputs": [
    {
     "name": "stderr",
     "output_type": "stream",
     "text": [
      "100%|██████████| 67557/67557 [03:45<00:00, 299.64it/s]\n"
     ]
    }
   ],
   "source": [
    "tokenizer = RegexpTokenizer(r'[a-z]+') \n",
    "stop_words = set(stopwords.words(\"english\"))\n",
    "stemmer= SnowballStemmer(\"english\") # PorterStemmer \n",
    "new_text = []\n",
    "for text in tqdm(final_df['Text']):\n",
    "    letters = []\n",
    "    words=tokenizer.tokenize(text.lower())\n",
    "    tokens_without_sw = [stemmer.stem(word) for word in words if word not in stop_words]\n",
    "    for t in tokens_without_sw:\n",
    "        if len(t)>2:\n",
    "            letters.append(t)\n",
    "    new_text.append(letters)\n",
    "    "
   ]
  },
  {
   "cell_type": "code",
   "execution_count": 34,
   "metadata": {},
   "outputs": [],
   "source": [
    "final_df['Reviews_Text'] = new_text"
   ]
  },
  {
   "cell_type": "code",
   "execution_count": 35,
   "metadata": {},
   "outputs": [],
   "source": [
    "final_df.drop(columns=['Text'],inplace=True)"
   ]
  },
  {
   "cell_type": "code",
   "execution_count": 36,
   "metadata": {},
   "outputs": [
    {
     "data": {
      "text/html": [
       "<div>\n",
       "<style scoped>\n",
       "    .dataframe tbody tr th:only-of-type {\n",
       "        vertical-align: middle;\n",
       "    }\n",
       "\n",
       "    .dataframe tbody tr th {\n",
       "        vertical-align: top;\n",
       "    }\n",
       "\n",
       "    .dataframe thead th {\n",
       "        text-align: right;\n",
       "    }\n",
       "</style>\n",
       "<table border=\"1\" class=\"dataframe\">\n",
       "  <thead>\n",
       "    <tr style=\"text-align: right;\">\n",
       "      <th></th>\n",
       "      <th>ProductId</th>\n",
       "      <th>Reviews_Text</th>\n",
       "    </tr>\n",
       "  </thead>\n",
       "  <tbody>\n",
       "    <tr>\n",
       "      <th>0</th>\n",
       "      <td>0006641040</td>\n",
       "      <td>[june, saw, charm, group, rose, begin, droop, ...</td>\n",
       "    </tr>\n",
       "    <tr>\n",
       "      <th>1</th>\n",
       "      <td>141278509X</td>\n",
       "      <td>[product, archer, farm, best, drink, mix, ever...</td>\n",
       "    </tr>\n",
       "    <tr>\n",
       "      <th>2</th>\n",
       "      <td>2734888454</td>\n",
       "      <td>[dog, love, chicken, product, china, wont, buy...</td>\n",
       "    </tr>\n",
       "    <tr>\n",
       "      <th>3</th>\n",
       "      <td>2841233731</td>\n",
       "      <td>[book, easi, read, ingredi, avail, store, unli...</td>\n",
       "    </tr>\n",
       "    <tr>\n",
       "      <th>4</th>\n",
       "      <td>7310172001</td>\n",
       "      <td>[dog, love, treat, problem, encount, left, pow...</td>\n",
       "    </tr>\n",
       "  </tbody>\n",
       "</table>\n",
       "</div>"
      ],
      "text/plain": [
       "    ProductId                                       Reviews_Text\n",
       "0  0006641040  [june, saw, charm, group, rose, begin, droop, ...\n",
       "1  141278509X  [product, archer, farm, best, drink, mix, ever...\n",
       "2  2734888454  [dog, love, chicken, product, china, wont, buy...\n",
       "3  2841233731  [book, easi, read, ingredi, avail, store, unli...\n",
       "4  7310172001  [dog, love, treat, problem, encount, left, pow..."
      ]
     },
     "execution_count": 36,
     "metadata": {},
     "output_type": "execute_result"
    }
   ],
   "source": [
    "final_df.head()"
   ]
  },
  {
   "cell_type": "code",
   "execution_count": 37,
   "metadata": {},
   "outputs": [],
   "source": [
    "final_df.to_csv('Final_df.csv')"
   ]
  },
  {
   "cell_type": "markdown",
   "metadata": {},
   "source": [
    "## Upload the preprocessed dataset"
   ]
  },
  {
   "cell_type": "code",
   "execution_count": 38,
   "metadata": {},
   "outputs": [],
   "source": [
    "df=pd.read_csv('Final_df.csv',index_col=0)"
   ]
  },
  {
   "cell_type": "code",
   "execution_count": 39,
   "metadata": {},
   "outputs": [
    {
     "data": {
      "text/html": [
       "<div>\n",
       "<style scoped>\n",
       "    .dataframe tbody tr th:only-of-type {\n",
       "        vertical-align: middle;\n",
       "    }\n",
       "\n",
       "    .dataframe tbody tr th {\n",
       "        vertical-align: top;\n",
       "    }\n",
       "\n",
       "    .dataframe thead th {\n",
       "        text-align: right;\n",
       "    }\n",
       "</style>\n",
       "<table border=\"1\" class=\"dataframe\">\n",
       "  <thead>\n",
       "    <tr style=\"text-align: right;\">\n",
       "      <th></th>\n",
       "      <th>ProductId</th>\n",
       "      <th>Reviews_Text</th>\n",
       "    </tr>\n",
       "  </thead>\n",
       "  <tbody>\n",
       "    <tr>\n",
       "      <th>0</th>\n",
       "      <td>0006641040</td>\n",
       "      <td>['june', 'saw', 'charm', 'group', 'rose', 'beg...</td>\n",
       "    </tr>\n",
       "    <tr>\n",
       "      <th>1</th>\n",
       "      <td>141278509X</td>\n",
       "      <td>['product', 'archer', 'farm', 'best', 'drink',...</td>\n",
       "    </tr>\n",
       "    <tr>\n",
       "      <th>2</th>\n",
       "      <td>2734888454</td>\n",
       "      <td>['dog', 'love', 'chicken', 'product', 'china',...</td>\n",
       "    </tr>\n",
       "    <tr>\n",
       "      <th>3</th>\n",
       "      <td>2841233731</td>\n",
       "      <td>['book', 'easi', 'read', 'ingredi', 'avail', '...</td>\n",
       "    </tr>\n",
       "    <tr>\n",
       "      <th>4</th>\n",
       "      <td>7310172001</td>\n",
       "      <td>['dog', 'love', 'treat', 'problem', 'encount',...</td>\n",
       "    </tr>\n",
       "  </tbody>\n",
       "</table>\n",
       "</div>"
      ],
      "text/plain": [
       "    ProductId                                       Reviews_Text\n",
       "0  0006641040  ['june', 'saw', 'charm', 'group', 'rose', 'beg...\n",
       "1  141278509X  ['product', 'archer', 'farm', 'best', 'drink',...\n",
       "2  2734888454  ['dog', 'love', 'chicken', 'product', 'china',...\n",
       "3  2841233731  ['book', 'easi', 'read', 'ingredi', 'avail', '...\n",
       "4  7310172001  ['dog', 'love', 'treat', 'problem', 'encount',..."
      ]
     },
     "execution_count": 39,
     "metadata": {},
     "output_type": "execute_result"
    }
   ],
   "source": [
    "df.head()"
   ]
  },
  {
   "cell_type": "code",
   "execution_count": 40,
   "metadata": {},
   "outputs": [
    {
     "name": "stderr",
     "output_type": "stream",
     "text": [
      "100%|██████████| 67557/67557 [01:05<00:00, 1024.18it/s]\n"
     ]
    }
   ],
   "source": [
    "#for reading the column Reviews_Text as list\n",
    "df['Reviews_Text']=df.Reviews_Text.progress_apply(lambda s: list(ast.literal_eval(s)))"
   ]
  },
  {
   "cell_type": "markdown",
   "metadata": {},
   "source": [
    "## Creating our TF_IDF\n",
    "First we count the number of documents in which every word appears , this is useful for the computation of tfidf score."
   ]
  },
  {
   "cell_type": "code",
   "execution_count": 44,
   "metadata": {},
   "outputs": [
    {
     "name": "stderr",
     "output_type": "stream",
     "text": [
      "100%|██████████| 67557/67557 [00:03<00:00, 17147.13it/s]\n"
     ]
    }
   ],
   "source": [
    "# - keys: word\n",
    "# - values: number of reviews in which the word appears\n",
    "word_numberdoc = {}\n",
    "\n",
    "for text in tqdm(df['Reviews_Text']):\n",
    "    p = list(set(text))\n",
    "    for word in p:\n",
    "        if word in word_numberdoc:\n",
    "            word_numberdoc[word]+=1\n",
    "        else:\n",
    "            word_numberdoc[word]=1  \n"
   ]
  },
  {
   "cell_type": "code",
   "execution_count": 46,
   "metadata": {},
   "outputs": [],
   "source": [
    "with open('word_numberdoc.pkl', 'wb') as handle:\n",
    "    pickle.dump(word_numberdoc, handle)"
   ]
  },
  {
   "cell_type": "markdown",
   "metadata": {},
   "source": [
    "We decide to mantain all that words that are at least in 10 reviews and at most in 100000 reviews. This choice is made because the words which are in few reviews aren't meaningful because they are not enough to identify a product. Instead words that appear in too many reviews caracterize almost all the product so they aren't so important for the clustering. The result is saved in separated dict."
   ]
  },
  {
   "cell_type": "code",
   "execution_count": 47,
   "metadata": {},
   "outputs": [
    {
     "name": "stderr",
     "output_type": "stream",
     "text": [
      "100%|██████████| 78973/78973 [00:00<00:00, 1827150.30it/s]\n"
     ]
    }
   ],
   "source": [
    "# - keys: word\n",
    "# - values: number of reduced reviews in which the word appears \n",
    "word_numberdoc_useful = {}\n",
    "\n",
    "for key, value in tqdm(word_numberdoc.items()):\n",
    "    if value >= 10 and value <= 100000:\n",
    "        word_numberdoc_useful[key] = value"
   ]
  },
  {
   "cell_type": "markdown",
   "metadata": {},
   "source": [
    "Excluding the words with low document frequency and with high frequency, we reduce the original number of words from approximately 78900 to 14573.\n"
   ]
  },
  {
   "cell_type": "code",
   "execution_count": 49,
   "metadata": {},
   "outputs": [],
   "source": [
    "with open('word_numberdoc_useful.pkl', 'wb') as handle:\n",
    "    pickle.dump(word_numberdoc_useful, handle)"
   ]
  },
  {
   "cell_type": "code",
   "execution_count": 50,
   "metadata": {},
   "outputs": [],
   "source": [
    "with open('word_numberdoc_useful.pkl', 'rb') as handle:\n",
    "    word_numberdoc_useful = pickle.load(handle)"
   ]
  },
  {
   "cell_type": "markdown",
   "metadata": {},
   "source": [
    "We map all the word with an integer and save them in a vocabulary."
   ]
  },
  {
   "cell_type": "code",
   "execution_count": 51,
   "metadata": {},
   "outputs": [],
   "source": [
    "# - keys: word\n",
    "# - values: index of the word\n",
    "useful_vocabulary={}\n",
    "for i,word in enumerate(word_numberdoc_useful):\n",
    "    useful_vocabulary[word]=i    "
   ]
  },
  {
   "cell_type": "code",
   "execution_count": 52,
   "metadata": {},
   "outputs": [],
   "source": [
    "with open('useful_vocabulary.pkl', 'wb') as handle:\n",
    "    pickle.dump(useful_vocabulary, handle)"
   ]
  },
  {
   "cell_type": "code",
   "execution_count": 53,
   "metadata": {},
   "outputs": [],
   "source": [
    "with open('useful_vocabulary.pkl', 'rb') as handle:\n",
    "    useful_vocabulary = pickle.load(handle)"
   ]
  },
  {
   "cell_type": "markdown",
   "metadata": {},
   "source": [
    "At this point, we can compute the TfIdf score, according to the changes we made."
   ]
  },
  {
   "cell_type": "code",
   "execution_count": 103,
   "metadata": {},
   "outputs": [
    {
     "name": "stderr",
     "output_type": "stream",
     "text": [
      "100%|██████████| 67557/67557 [00:52<00:00, 1280.49it/s]\n"
     ]
    }
   ],
   "source": [
    "# - keys: index number of a word\n",
    "# - values: {review in which the word appears, score of the word with respect to the review}\n",
    "N_doc = len(df)\n",
    "tfidf = defaultdict(list)\n",
    "\n",
    "count = 0\n",
    "for text in tqdm(df['Reviews_Text']):\n",
    "    n=len(text)\n",
    "    n_ij=dict(Counter(text))\n",
    "    for word in n_ij:\n",
    "        if word in word_numberdoc_useful.keys():\n",
    "            tf=n_ij[word]/n\n",
    "            Idf=np.log(N_doc/word_numberdoc_useful[word])\n",
    "            tfidf[useful_vocabulary[word]].append((count,round(tf*Idf,5)))\n",
    "        \n",
    "    count += 1"
   ]
  },
  {
   "cell_type": "code",
   "execution_count": 104,
   "metadata": {},
   "outputs": [],
   "source": [
    "with open('tfidf_useful_word.pkl', 'wb') as handle:\n",
    "    pickle.dump(tfidf, handle)"
   ]
  },
  {
   "cell_type": "code",
   "execution_count": 105,
   "metadata": {},
   "outputs": [],
   "source": [
    "with open('tfidf_useful_word.pkl', 'rb') as handle:\n",
    "    tfidf_useful_word = pickle.load(handle)"
   ]
  },
  {
   "cell_type": "markdown",
   "metadata": {},
   "source": [
    "Once we have the tfidf we create a sparse matrix with size [number of reviews,number of features], the non-zero values are the tf_idf scores for that review and the corrispondent words which contains. "
   ]
  },
  {
   "cell_type": "code",
   "execution_count": 58,
   "metadata": {},
   "outputs": [
    {
     "name": "stderr",
     "output_type": "stream",
     "text": [
      "100%|██████████| 14573/14573 [00:02<00:00, 6763.90it/s]\n"
     ]
    }
   ],
   "source": [
    "rows, cols, vals = [], [], []\n",
    "for key, values in tqdm(tfidf_useful_word.items()):\n",
    "    for value in values:\n",
    "        rows.append(value[0])\n",
    "        cols.append(key)\n",
    "        vals.append(value[1])\n",
    "\n",
    "X = sp.csr_matrix((vals, (rows, cols)))"
   ]
  },
  {
   "cell_type": "markdown",
   "metadata": {},
   "source": [
    "Here we import the TruncatedSVD model for dimensionality reduction of sklearn, and we calculate the variance explained by different number of features to be able to find the number which explains more than the 60% of the variance."
   ]
  },
  {
   "cell_type": "code",
   "execution_count": 60,
   "metadata": {},
   "outputs": [],
   "source": [
    "from sklearn.decomposition import TruncatedSVD"
   ]
  },
  {
   "cell_type": "code",
   "execution_count": 61,
   "metadata": {
    "scrolled": true
   },
   "outputs": [
    {
     "name": "stderr",
     "output_type": "stream",
     "text": [
      "  9%|▉         | 1/11 [00:01<00:10,  1.06s/it]"
     ]
    },
    {
     "name": "stdout",
     "output_type": "stream",
     "text": [
      "Number of components = 4 and explained variance = 0.023372309133083396\n"
     ]
    },
    {
     "name": "stderr",
     "output_type": "stream",
     "text": [
      "\r",
      " 18%|█▊        | 2/11 [00:02<00:09,  1.07s/it]"
     ]
    },
    {
     "name": "stdout",
     "output_type": "stream",
     "text": [
      "Number of components = 10 and explained variance = 0.04502301745143647\n"
     ]
    },
    {
     "name": "stderr",
     "output_type": "stream",
     "text": [
      "\r",
      " 27%|██▋       | 3/11 [00:03<00:09,  1.19s/it]"
     ]
    },
    {
     "name": "stdout",
     "output_type": "stream",
     "text": [
      "Number of components = 15 and explained variance = 0.057641359566548846\n"
     ]
    },
    {
     "name": "stderr",
     "output_type": "stream",
     "text": [
      "\r",
      " 36%|███▋      | 4/11 [00:05<00:09,  1.33s/it]"
     ]
    },
    {
     "name": "stdout",
     "output_type": "stream",
     "text": [
      "Number of components = 20 and explained variance = 0.06849020358363807\n"
     ]
    },
    {
     "name": "stderr",
     "output_type": "stream",
     "text": [
      "\r",
      " 45%|████▌     | 5/11 [00:08<00:11,  1.91s/it]"
     ]
    },
    {
     "name": "stdout",
     "output_type": "stream",
     "text": [
      "Number of components = 50 and explained variance = 0.11704679013847143\n"
     ]
    },
    {
     "name": "stderr",
     "output_type": "stream",
     "text": [
      "\r",
      " 55%|█████▍    | 6/11 [00:14<00:16,  3.27s/it]"
     ]
    },
    {
     "name": "stdout",
     "output_type": "stream",
     "text": [
      "Number of components = 100 and explained variance = 0.17231321487035609\n"
     ]
    },
    {
     "name": "stderr",
     "output_type": "stream",
     "text": [
      "\r",
      " 64%|██████▎   | 7/11 [00:24<00:20,  5.24s/it]"
     ]
    },
    {
     "name": "stdout",
     "output_type": "stream",
     "text": [
      "Number of components = 150 and explained variance = 0.2142230501314303\n"
     ]
    },
    {
     "name": "stderr",
     "output_type": "stream",
     "text": [
      "\r",
      " 73%|███████▎  | 8/11 [00:36<00:21,  7.31s/it]"
     ]
    },
    {
     "name": "stdout",
     "output_type": "stream",
     "text": [
      "Number of components = 200 and explained variance = 0.24941187111889895\n"
     ]
    },
    {
     "name": "stderr",
     "output_type": "stream",
     "text": [
      "\r",
      " 82%|████████▏ | 9/11 [01:15<00:33, 16.54s/it]"
     ]
    },
    {
     "name": "stdout",
     "output_type": "stream",
     "text": [
      "Number of components = 500 and explained variance = 0.39823140598363005\n"
     ]
    },
    {
     "name": "stderr",
     "output_type": "stream",
     "text": [
      "\r",
      " 91%|█████████ | 10/11 [02:05<00:26, 26.70s/it]"
     ]
    },
    {
     "name": "stdout",
     "output_type": "stream",
     "text": [
      "Number of components = 700 and explained variance = 0.46844681777854585\n"
     ]
    },
    {
     "name": "stderr",
     "output_type": "stream",
     "text": [
      "100%|██████████| 11/11 [03:05<00:00, 16.88s/it]"
     ]
    },
    {
     "name": "stdout",
     "output_type": "stream",
     "text": [
      "Number of components = 800 and explained variance = 0.49851030429353405\n"
     ]
    },
    {
     "name": "stderr",
     "output_type": "stream",
     "text": [
      "\n"
     ]
    }
   ],
   "source": [
    "n_comp = [4,10,15,20,50,100,150,200,500,700,800] \n",
    "explained_ = [] \n",
    "for x in tqdm(n_comp):\n",
    "    svd = TruncatedSVD(n_components=x)\n",
    "    svd.fit(X)\n",
    "    explained_.append(svd.explained_variance_ratio_.sum())\n",
    "    print(\"Number of components = %r and explained variance = %r\"%(x,svd.explained_variance_ratio_.sum()))"
   ]
  },
  {
   "cell_type": "code",
   "execution_count": 62,
   "metadata": {},
   "outputs": [
    {
     "name": "stderr",
     "output_type": "stream",
     "text": [
      " 50%|█████     | 1/2 [01:41<01:41, 101.21s/it]"
     ]
    },
    {
     "name": "stdout",
     "output_type": "stream",
     "text": [
      "Number of components = 1200 and explained variance = 0.5959196782893105\n"
     ]
    },
    {
     "name": "stderr",
     "output_type": "stream",
     "text": [
      "100%|██████████| 2/2 [03:52<00:00, 116.45s/it]"
     ]
    },
    {
     "name": "stdout",
     "output_type": "stream",
     "text": [
      "Number of components = 1500 and explained variance = 0.6517713132551776\n"
     ]
    },
    {
     "name": "stderr",
     "output_type": "stream",
     "text": [
      "\n"
     ]
    }
   ],
   "source": [
    "n_comp = [1200, 1500]\n",
    "for x in tqdm(n_comp):\n",
    "    svd = TruncatedSVD(n_components=x)\n",
    "    svd.fit(X)\n",
    "    explained_.append(svd.explained_variance_ratio_.sum())\n",
    "    print(\"Number of components = %r and explained variance = %r\"%(x,svd.explained_variance_ratio_.sum()))"
   ]
  },
  {
   "cell_type": "code",
   "execution_count": 67,
   "metadata": {},
   "outputs": [
    {
     "data": {
      "image/png": "[encoded data removed]",
      "text/plain": [
       "<Figure size 432x288 with 1 Axes>"
      ]
     },
     "metadata": {
      "needs_background": "light"
     },
     "output_type": "display_data"
    }
   ],
   "source": [
    "plt.plot(n_comp, explained_)\n",
    "plt.xlabel('Number of components')\n",
    "plt.ylabel(\"Explained Variance\")\n",
    "plt.title(\"SVD\")\n",
    "plt.show()"
   ]
  },
  {
   "cell_type": "markdown",
   "metadata": {},
   "source": [
    "As shown in the graph above, from the results obtaind from the SVD Truncated method for the reduction of the number of features, we can note the words that explain the 65% of the variance of the reviews are 1500.\n",
    "\n",
    "Therefore each review instead of being represented with 14k old features we can represent each review with top 1500 components obtained from the truncated SVD."
   ]
  },
  {
   "cell_type": "markdown",
   "metadata": {},
   "source": [
    "## Find the best 1500 features"
   ]
  },
  {
   "cell_type": "markdown",
   "metadata": {},
   "source": [
    "SVD dimension are linear combination of the original features. So for finding the 1500 features that explain 65% of the data we:\n",
    "1. Obtain all the features(words) from an inverted vocabulary dictionary, where each index is mapped in each word.\n",
    "\n",
    "2. We order the features in decreasing order using the svd.components which is a matrix of coefficient of each features are multiplied by. \n",
    "\n",
    "3. To obtain the top 1500 we sort the first dimension of svd_components and we find the relative features"
   ]
  },
  {
   "cell_type": "code",
   "execution_count": 97,
   "metadata": {},
   "outputs": [],
   "source": [
    "# create an inverted vocabulary index \n",
    "# - keys: index number of a word\n",
    "# - values: word\n",
    "inverted_useful_vocabulary=defaultdict(list)\n",
    "for i,word in enumerate(word_numberdoc_useful):\n",
    "    inverted_useful_vocabulary[i]=word"
   ]
  },
  {
   "cell_type": "code",
   "execution_count": 116,
   "metadata": {},
   "outputs": [],
   "source": [
    "best_features = [inverted_useful_vocabulary[i] for i in svd.components_[0].argsort()[::-1]]"
   ]
  },
  {
   "cell_type": "code",
   "execution_count": 117,
   "metadata": {},
   "outputs": [
    {
     "name": "stdout",
     "output_type": "stream",
     "text": [
      "['tea', 'coffe', 'flavor', 'tast', 'chocol', 'dog', 'love', 'great', 'like', 'good', 'product', 'use', 'order', 'bag', 'one', 'drink', 'candi', 'tri', 'food', 'price', 'buy', 'make', 'sauc', 'best', 'get', 'would', 'find', 'cup', 'realli', 'amazon', 'box', 'time', 'cat', 'sweet', 'eat', 'store', 'green', 'sugar', 'treat', 'mix', 'purchas', 'much', 'delici', 'cooki', 'hot', 'packag', 'littl', 'brand', 'ship', 'well', 'recommend', 'bar', 'gift', 'nice', 'better', 'favorit', 'bought', 'fresh', 'look', 'enjoy', 'also', 'bean', 'year', 'perfect', 'even', 'bottl', 'high', 'pack', 'qualiti', 'day', 'ever', 'found', 'wonder', 'want', 'salt', 'free', 'arriv', 'snack', 'made', 'ice', 'water', 'organ', 'add', 'excel', 'item', 'give', 'local', 'got', 'first', 'receiv', 'way', 'work', 'need', 'hard', 'oil', 'say', 'differ', 'milk', 'could', 'soup', 'smell', 'rice', 'cook', 'chees', 'think', 'spice', 'lot', 'chicken', 'strong', 'tasti', 'stuff', 'black', 'bit', 'thank', 'know', 'pasta', 'quick', 'blend', 'alway', 'roast', 'easi', 'size', 'mani', 'gum', 'happi', 'two', 'still', 'chip', 'never', 'sinc', 'fruit', 'come', 'cake', 'right', 'brew', 'dri', 'definit', 'thing', 'keep', 'honey', 'peanut', 'disappoint', 'mint', 'last', 'everi', 'small', 'ingredi', 'friend', 'bitter', 'without', 'can', 'expect', 'whole', 'long', 'worth', 'butter', 'back', 'seem', 'vanilla', 'put', 'smooth', 'compani', 'cracker', 'natur', 'contain', 'groceri', 'dark', 'jar', 'came', 'old', 'season', 'sure', 'regular', 'thought', 'white', 'kid', 'syrup', 'healthi', 'enough', 'lemon', 'take', 'decaf', 'bad', 'less', 'someth', 'famili', 'expens', 'howev', 'quit', 'nut', 'though', 'pleas', 'far', 'big', 'spici', 'open', 'absolut', 'light', 'bread', 'fast', 'chew', 'avail', 'cost', 'review', 'oliv', 'real', 'gluten', 'serv', 'pretti', 'calori', 'textur', 'cereal', 'juic', 'actual', 'see', 'help', 'piec', 'varieti', 'cream', 'recip', 'amaz', 'salad', 'star', 'wish', 'bake', 'home', 'ginger', 'amount', 'rich', 'seed', 'color', 'cinnamon', 'money', 'pepper', 'low', 'feel', 'husband', 'morn', 'new', 'month', 'usual', 'kind', 'christma', 'full', 'almost', 'powder', 'anoth', 'chai', 'problem', 'almond', 'anyth', 'half', 'sever', 'reason', 'carri', 'orang', 'red', 'top', 'abl', 'larg', 'case', 'per', 'around', 'leav', 'aroma', 'live', 'popcorn', 'hope', 'com', 'coconut', 'seller', 'said', 'prefer', 'deal', 'noth', 'fine', 'breakfast', 'glad', 'appl', 'especi', 'dish', 'servic', 'sweeten', 'save', 'start', 'onlin', 'peopl', 'meat', 'packet', 'caffein', 'away', 'diet', 'meal', 'ounc', 'sell', 'yummi', 'instead', 'week', 'noodl', 'cherri', 'market', 'stick', 'fill', 'surpris', 'pound', 'probabl', 'exact', 'fat', 'pay', 'may', 'corn', 'place', 'must', 'sent', 'everyth', 'minut', 'cold', 'satisfi', 'gave', 'compar', 'pod', 'type', 'mild', 'pictur', 'stock', 'three', 'everyon', 'mustard', 'sour', 'anyon', 'hous', 'awesom', 'soft', 'melt', 'hand', 'ago', 'list', 'date', 'cheaper', 'heat', 'garlic', 'yet', 'fan', 'care', 'son', 'dress', 'extra', 'valu', 'deliveri', 'chili', 'peach', 'salti', 'call', 'origin', 'mayb', 'health', 'jelli', 'mouth', 'fish', 'licoric', 'tin', 'went', 'might', 'daughter', 'longer', 'stop', 'strawberri', 'next', 'other', 'wife', 'parti', 'loos', 'super', 'beef', 'end', 'els', 'tomato', 'pot', 'potato', 'wheat', 'french', 'offer', 'flour', 'refresh', 'deliv', 'special', 'bone', 'ground', 'plus', 'addict', 'version', 'past', 'shop', 'fantast', 'second', 'person', 'least', 'let', 'fact', 'wrap', 'return', 'pop', 'although', 'individu', 'slight', 'includ', 'restaur', 'run', 'bite', 'goe', 'either', 'raspberri', 'dip', 'turn', 'bulk', 'addit', 'decid', 'read', 'conveni', 'plastic', 'crunchi', 'total', 'chang', 'soda', 'caramel', 'wait', 'descript', 'tell', 'coupl', 'line', 'www', 'protein', 'delight', 'leaf', 'took', 'starbuck', 'http', 'babi', 'wine', 'espresso', 'wrong', 'cannot', 'part', 'href', 'plain', 'egg', 'drinker', 'basket', 'normal', 'direct', 'grey', 'gummi', 'hint', 'side', 'experi', 'rememb', 'earl', 'label', 'brown', 'ask', 'jasmin', 'wast', 'creami', 'pick', 'energi', 'condit', 'vinegar', 'combin', 'stale', 'peppermint', 'lover', 'weight', 'grain', 'instant', 'believ', 'pleasant', 'custom', 'continu', 'particular', 'broken', 'consist', 'feed', 'rather', 'choic', 'beauti', 'recent', 'artifici', 'etc', 'bodi', 'close', 'search', 'cut', 'cocoa', 'sold', 'smaller', 'state', 'hit', 'share', 'machin', 'soy', 'simpli', 'plant', 'fair', 'guess', 'clean', 'veget', 'base', 'shape', 'night', 'mango', 'prompt', 'describ', 'notic', 'huge', 'chewi', 'world', 'mother', 'prepar', 'pure', 'sometim', 'near', 'area', 'coat', 'extrem', 'jerki', 'lime', 'supermarket', 'steep', 'glass', 'altern', 'often', 'fri', 'name', 'sodium', 'teeth', 'vendor', 'birthday', 'pet', 'except', 'bold', 'sale', 'blue', 'someon', 'cover', 'dinner', 'unfortun', 'life', 'flower', 'anywher', 'finish', 'steak', 'eaten', 'stay', 'raw', 'soon', 'acid', 'insid', 'bring', 'balanc', 'becom', 'smoke', 'berri', 'singl', 'larger', 'seal', 'final', 'similar', 'send', 'four', 'complet', 'cours', 'rate', 'hour', 'truffl', 'expir', 'salmon', 'advertis', 'dollar', 'discov', 'english', 'excit', 'certain', 'tuna', 'summer', 'stomach', 'present', 'quantiti', 'onion', 'hazelnut', 'bowl', 'cheap', 'carb', 'issu', 'alreadi', 'suppos', 'blueberri', 'holiday', 'pricey', 'set', 'left', 'yum', 'dessert', 'pork', 'result', 'curri', 'miss', 'roll', 'check', 'italian', 'tart', 'mean', 'show', 'along', 'lunch', 'note', 'oatmeal', 'pie', 'replac', 'fun', 'ate', 'bbq', 'difficult', 'beat', 'impress', 'truli', 'toast', 'uniqu', 'aftertast', 'jam', 'weak', 'saw', 'biscuit', 'extract', 'consid', 'gone', 'true', 'togeth', 'sampl', 'picki', 'overal', 'grill', 'thick', 'drop', 'mine', 'futur', 'herbal', 'easili', 'given', 'keurig', 'warm', 'mom', 'fruiti', 'hook', 'rose', 'gourmet', 'sit', 'crunch', 'told', 'idea', 'kick', 'break', 'slice', 'paid', 'china', 'throw', 'medium', 'plan', 'sprinkl', 'charg', 'non', 'content', 'pretzel', 'salsa', 'suggest', 'tradit', 'overpow', 'clear', 'bland', 'banana', 'thin', 'process', 'preserv', 'provid', 'busi', 'pumpkin', 'veggi', 'beer', 'sandwich', 'tini', 'due', 'anymor', 'batch', 'maker', 'pancak', 'opinion', 'granola', 'puppi', 'subtl', 'shipment', 'crave', 'boil', 'substitut', 'benefit', 'decent', 'entir', 'option', 'trip', 'five', 'brought', 'effect', 'fiber', 'cute', 'today', 'herb', 'yes', 'pour', 'interest', 'twice', 'sourc', 'crazi', 'spread', 'crisp', 'formula', 'count', 'import', 'simpl', 'nutrit', 'remind', 'favor', 'touch', 'allergi', 'pouch', 'diabet', 'wow', 'pickl', 'none', 'thrill', 'daili', 'homemad', 'websit', 'point', 'produc', 'rest', 'subscrib', 'style', 'mushroom', 'easier', 'caus', 'six', 'moist', 'pizza', 'relax', 'seen', 'complaint', 'anyway', 'liquid', 'raisin', 'cool', 'microwav', 'vet', 'switch', 'horribl', 'sea', 'visit', 'site', 'happen', 'grind', 'matter', 'delic', 'done', 'select', 'oolong', 'later', 'word', 'bubbl', 'within', 'shell', 'lower', 'mind', 'incred', 'appreci', 'cranberri', 'lbs', 'ball', 'travel', 'walmart', 'chamomil', 'chemic', 'okay', 'indian', 'general', 'gravi', 'stir', 'kitchen', 'offic', 'sorri', 'follow', 'unlik', 'yogurt', 'american', 'guest', 'unless', 'kona', 'stevia', 'doubl', 'dont', 'watch', 'hate', 'digest', 'usa', 'forward', 'marinad', 'previous', 'lack', 'worri', 'train', 'rub', 'hold', 'grape', 'browni', 'bacon', 'vitamin', 'short', 'costco', 'lipton', 'fit', 'stronger', 'serious', 'pea', 'suppli', 'fabul', 'gram', 'cashew', 'sort', 'grow', 'everyday', 'over', 'turkey', 'bigger', 'winter', 'terribl', 'bear', 'afternoon', 'readi', 'sister', 'mapl', 'root', 'otherwis', 'figur', 'mail', 'shelf', 'beverag', 'mountain', 'mention', 'crystal', 'creamer', 'basic', 'possibl', 'chunk', 'immedi', 'main', 'rip', 'realiz', 'overwhelm', 'chines', 'job', 'children', 'twine', 'wed', 'mess', 'typic', 'flavour', 'late', 'pineappl', 'yellow', 'sardin', 'frost', 'inform', 'muffin', 'crispi', 'healthier', 'standard', 'kit', 'perhap', 'heaven', 'refund', 'instruct', 'consum', 'allow', 'manufactur', 'move', 'assort', 'somewhat', 'cent', 'vegan', 'stand', 'higher', 'form', 'spoon', 'rooibo', 'sesam', 'level', 'prime', 'plenti', 'oat', 'skin', 'fell', 'wild', 'threw', 'pecan', 'tree', 'alot', 'dent', 'heard', 'sooth', 'paper', 'matcha', 'chanc', 'apricot', 'freez', 'pear', 'bottom', 'poor', 'number', 'gold', 'asian', 'honest', 'agre', 'refriger', 'rock', 'imagin', 'learn', 'most', 'fall', 'latt', 'spend', 'worst', 'power', 'smoothi', 'burn', 'outstand', 'avoid', 'heavi', 'afford', 'age', 'sick', 'sprout', 'frozen', 'farm', 'chop', 'appear', 'grew', 'buck', 'outsid', 'blood', 'decor', 'law', 'broth', 'requir', 'tabl', 'door', 'cupcak', 'scent', 'sausag', 'contact', 'mocha', 'lol', 'infus', 'sip', 'equal', 'correct', 'shake', 'sticki', 'straight', 'mini', 'handl', 'crumbl', 'premium', 'round', 'whatev', 'kept', 'rawhid', 'portion', 'thai', 'taffi', 'school', 'retail', 'knew', 'mistak', 'known', 'pud', 'damag', 'boy', 'fridg', 'discontinu', 'gallon', 'concentr', 'room', 'sad', 'nutti', 'troubl', 'across', 'intens', 'shrimp', 'tend', 'write', 'japanes', 'sound', 'cheddar', 'wafer', 'remov', 'flake', 'control', 'test', 'understand', 'concern', 'upon', 'drank', 'crust', 'warn', 'felt', 'pantri', 'distinct', 'tazo', 'terrif', 'heart', 'fix', 'manner', 'eater', 'town', 'splenda', 'introduc', 'citrus', 'bud', 'mate', 'lid', 'reorder', 'alon', 'stuck', 'pink', 'robust', 'authent', 'sensit', 'joe', 'gotten', 'mellow', 'aromat', 'reciev', 'child', 'hershey', 'tangi', 'comment', 'breath', 'pan', 'superior', 'lose', 'various', 'father', 'countri', 'spot', 'safe', 'crush', 'relat', 'tire', 'enhanc', 'stapl', 'cafe', 'deep', 'fudg', 'toffe', 'bewar', 'guy', 'adult', 'pass', 'irish', 'fanci', 'overpr', 'press', 'improv', 'south', 'hesit', 'balsam', 'pistachio', 'creat', 'lemonad', 'toy', 'tooth', 'lost', 'sampler', 'england', 'filter', 'solid', 'nasti', 'stew', 'weird', 'taco', 'supplier', 'pomegran', 'walnut', 'bunch', 'memori', 'german', 'hair', 'teaspoon', 'internet', 'cant', 'dairi', 'bigelow', 'carrot', 'teabag', 'itali', 'girl', 'upset', 'mexican', 'air', 'limit', 'freezer', 'club', 'boost', 'shot', 'liter', 'mill', 'golden', 'wrapper', 'stash', 'defin', 'senseo', 'mug', 'research', 'rave', 'strang', 'childhood', 'mislead', 'ham', 'averag', 'classic', 'trade', 'reduc', 'trust', 'msg', 'current', 'brother', 'dad', 'head', 'tablespoon', 'photo', 'everywher', 'obvious', 'promis', 'numi', 'claim', 'elsewher', 'california', 'odd', 'whether', 'grinder', 'allerg', 'apart', 'germani', 'whenev', 'ridicul', 'superb', 'wet', 'spaghetti', 'bed', 'grown', 'gas', 'burger', 'yeast', 'lamb', 'waffl', 'purpos', 'clove', 'drive', 'eye', 'post', 'measur', 'handi', 'antioxid', 'tender', 'sam', 'creme', 'specif', 'lollipop', 'grade', 'soak', 'book', 'third', 'popular', 'lavend', 'alcohol', 'peel', 'pull', 'crumb', 'separ', 'awhil', 'doubt', 'cube', 'ton', 'bother', 'middl', 'system', 'fig', 'choos', 'oven', 'locat', 'bare', 'imposs', 'scratch', 'toss', 'island', 'rum', 'die', 'bargain', 'theme', 'proper', 'email', 'sleep', 'buyer', 'butteri', 'fragrant', 'firm', 'recipi', 'belli', 'strength', 'shown', 'via', 'mixtur', 'kitti', 'assum', 'sunflow', 'spoil', 'sens', 'cane', 'jalapeno', 'complex', 'kibbl', 'titl', 'sun', 'remain', 'fashion', 'major', 'clam', 'occas', 'earli', 'leak', 'respons', 'tip', 'forev', 'center', 'web', 'hibiscus', 'admit', 'talk', 'bergamot', 'grab', 'layer', 'complain', 'punch', 'bonus', 'throat', 'pre', 'foil', 'ran', 'sweeter', 'saffron', 'celesti', 'collect', 'pleasur', 'car', 'hawaii', 'marshmallow', 'becam', 'cardboard', 'awar', 'inch', 'texa', 'reseal', 'basi', 'trader', 'harder', 'rib', 'bill', 'increas', 'crack', 'rare', 'tough', 'whip', 'unabl', 'fructos', 'san', 'earth', 'anytim', 'comparison', 'updat', 'pearl', 'folk', 'ador', 'calm', 'win', 'wasabi', 'darjeel', 'wake', 'vegetarian', 'edibl', 'spray', 'squar', 'penni', 'anim', 'depend', 'occasion', 'palat', 'purs', 'smoki', 'man', 'seafood', 'compliment', 'halloween', 'parent', 'brewer', 'design', 'load', 'bright', 'ramen', 'shelv', 'tongu', 'spent', 'donut', 'chef', 'vacat', 'medicin', 'zero', 'dissolv', 'bulli', 'grate', 'lentil', 'ten', 'ear', 'empti', 'dust', 'question', 'comfort', 'canist', 'shame', 'japan', 'appar', 'beyond', 'negat', 'malt', 'grass', 'ketchup', 'disgust', 'paprika', 'cocktail', 'luck', 'taken', 'member', 'floral', 'xylitol', 'wors', 'biscotti', 'frequent', 'nutriti', 'decaffein', 'smokey', 'subscript', 'bob', 'accord', 'sugari', 'buffalo', 'gross', 'begin', 'warehous', 'pain', 'indic', 'lab', 'play', 'desir', 'discount', 'easter', 'regret', 'pocket', 'match', 'face', 'watermelon', 'tropic', 'valentin', 'duck', 'glaze', 'lighter', 'savori', 'tub', 'scoop', 'mart', 'front', 'pill', 'target', 'tight', 'tasteless', 'hungri', 'ceylon', 'min', 'junk', 'reach', 'filler', 'ranch', 'weather', 'unit', 'supplement', 'mac', 'appeal', 'request', 'besid', 'minti', 'among', 'shower', 'chipotl', 'walk', 'mushi', 'period', 'disappear', 'grocer', 'ahmad', 'kinda', 'royal', 'dough', 'wont', 'plum', 'winner', 'cider', 'fault', 'funni', 'stuf', 'agav', 'trick', 'florida', 'worker', 'finger', 'mayo', 'wide', 'wing', 'quinoa', 'initi', 'multipl', 'accept', 'young', 'older', 'flat', 'oili', 'econom', 'india', 'therefor', 'neither', 'folger', 'inexpens', 'wash', 'thicker', 'dissapoint', 'somewher', 'garden', 'experienc', 'common', 'citi', 'shortbread', 'british', 'manag', 'dozen', 'spring', 'fragranc', 'caviar', 'pitcher', 'sushi', 'reward', 'movi', 'seattl', 'spearmint', 'dispens', 'forget', 'europ', 'drip', 'class', 'wateri', 'sharp', 'fake', 'flax', 'twist', 'success', 'thru', 'temperatur', 'that', 'attent', 'burnt', 'bore', 'toler', 'cola', 'human', 'tortilla', 'thumb', 'tassimo', 'macadamia']\n"
     ]
    }
   ],
   "source": [
    "print(best_features[:1500])"
   ]
  },
  {
   "cell_type": "code",
   "execution_count": 118,
   "metadata": {},
   "outputs": [],
   "source": [
    "best_features_1500 = best_features[:1500]"
   ]
  },
  {
   "cell_type": "markdown",
   "metadata": {},
   "source": [
    "We create a TfIdf dictionary mapping only the best 1500 features from the svd.components."
   ]
  },
  {
   "cell_type": "code",
   "execution_count": 140,
   "metadata": {},
   "outputs": [],
   "source": [
    "# create an vocabulary index with only 1500 words\n",
    "# - keys: word\n",
    "# - values: index number of a word\n",
    "vocabulary_1500={}\n",
    "i=0\n",
    "for elem in best_features_1500:\n",
    "    vocabulary_1500[elem]=i\n",
    "    i+=1"
   ]
  },
  {
   "cell_type": "code",
   "execution_count": 143,
   "metadata": {},
   "outputs": [
    {
     "name": "stderr",
     "output_type": "stream",
     "text": [
      "100%|██████████| 67557/67557 [02:18<00:00, 488.78it/s] \n"
     ]
    }
   ],
   "source": [
    "# create a TfIdf dict with only the best 1500 words\n",
    "# - keys: index number of a word\n",
    "# - values: {review in which the word appears, score of the word with respect to the review}\n",
    "N_doc = len(df)\n",
    "tfidf_1500 = defaultdict(list)\n",
    "\n",
    "count = 0\n",
    "for text in tqdm(df['Reviews_Text']):\n",
    "    n=len(text)\n",
    "    n_ij=dict(Counter(text))\n",
    "    for word in n_ij:\n",
    "        if word in best_features_1500:\n",
    "            tf=n_ij[word]/n\n",
    "            Idf=np.log(N_doc/word_numberdoc_useful[word])\n",
    "            tfidf_1500[vocabulary_1500[word]].append((count,round(tf*Idf,5)))\n",
    "        \n",
    "    count += 1"
   ]
  },
  {
   "cell_type": "markdown",
   "metadata": {},
   "source": [
    "We initialize a matrix of shape (67557,1500) where the rows are the number of unique ProductId of the dataset and the columns the number of words that explain the 65% of the variance of the reviews."
   ]
  },
  {
   "cell_type": "code",
   "execution_count": 144,
   "metadata": {},
   "outputs": [],
   "source": [
    "a=np.zeros((67557,1500),dtype='float32')"
   ]
  },
  {
   "cell_type": "markdown",
   "metadata": {},
   "source": [
    "We fill the matrix with the TfIdf dictionary of the best 1500 words."
   ]
  },
  {
   "cell_type": "code",
   "execution_count": 145,
   "metadata": {},
   "outputs": [
    {
     "name": "stderr",
     "output_type": "stream",
     "text": [
      "100%|██████████| 1500/1500 [00:05<00:00, 261.52it/s]\n"
     ]
    }
   ],
   "source": [
    "for key,value in tqdm(tfidf_1500.items()):\n",
    "    for va in value:\n",
    "        a[va[0],key]=va[1]"
   ]
  },
  {
   "cell_type": "markdown",
   "metadata": {},
   "source": [
    "Here we create the new dataframe where the rows are the number of unique products and the columns are the ProdcutId and the best 1500 words."
   ]
  },
  {
   "cell_type": "code",
   "execution_count": 147,
   "metadata": {},
   "outputs": [],
   "source": [
    "matrix_df = pd.DataFrame(a,columns=best_features_1500)\n",
    "matrix_df.insert(loc=0,column='ProductId',value=df['ProductId'])"
   ]
  },
  {
   "cell_type": "code",
   "execution_count": 149,
   "metadata": {},
   "outputs": [
    {
     "data": {
      "text/html": [
       "<div>\n",
       "<style scoped>\n",
       "    .dataframe tbody tr th:only-of-type {\n",
       "        vertical-align: middle;\n",
       "    }\n",
       "\n",
       "    .dataframe tbody tr th {\n",
       "        vertical-align: top;\n",
       "    }\n",
       "\n",
       "    .dataframe thead th {\n",
       "        text-align: right;\n",
       "    }\n",
       "</style>\n",
       "<table border=\"1\" class=\"dataframe\">\n",
       "  <thead>\n",
       "    <tr style=\"text-align: right;\">\n",
       "      <th></th>\n",
       "      <th>ProductId</th>\n",
       "      <th>tea</th>\n",
       "      <th>coffe</th>\n",
       "      <th>flavor</th>\n",
       "      <th>tast</th>\n",
       "      <th>chocol</th>\n",
       "      <th>dog</th>\n",
       "      <th>love</th>\n",
       "      <th>great</th>\n",
       "      <th>like</th>\n",
       "      <th>...</th>\n",
       "      <th>attent</th>\n",
       "      <th>burnt</th>\n",
       "      <th>bore</th>\n",
       "      <th>toler</th>\n",
       "      <th>cola</th>\n",
       "      <th>human</th>\n",
       "      <th>tortilla</th>\n",
       "      <th>thumb</th>\n",
       "      <th>tassimo</th>\n",
       "      <th>macadamia</th>\n",
       "    </tr>\n",
       "  </thead>\n",
       "  <tbody>\n",
       "    <tr>\n",
       "      <th>0</th>\n",
       "      <td>0006641040</td>\n",
       "      <td>0.0</td>\n",
       "      <td>0.00000</td>\n",
       "      <td>0.00000</td>\n",
       "      <td>0.00000</td>\n",
       "      <td>0.0</td>\n",
       "      <td>0.00000</td>\n",
       "      <td>0.01074</td>\n",
       "      <td>0.00703</td>\n",
       "      <td>0.00354</td>\n",
       "      <td>...</td>\n",
       "      <td>0.00290</td>\n",
       "      <td>0.0</td>\n",
       "      <td>0.00000</td>\n",
       "      <td>0.0</td>\n",
       "      <td>0.0</td>\n",
       "      <td>0.00000</td>\n",
       "      <td>0.0</td>\n",
       "      <td>0.0</td>\n",
       "      <td>0.0</td>\n",
       "      <td>0.0</td>\n",
       "    </tr>\n",
       "    <tr>\n",
       "      <th>1</th>\n",
       "      <td>141278509X</td>\n",
       "      <td>0.0</td>\n",
       "      <td>0.00000</td>\n",
       "      <td>0.04172</td>\n",
       "      <td>0.01719</td>\n",
       "      <td>0.0</td>\n",
       "      <td>0.00000</td>\n",
       "      <td>0.00000</td>\n",
       "      <td>0.01949</td>\n",
       "      <td>0.00000</td>\n",
       "      <td>...</td>\n",
       "      <td>0.00000</td>\n",
       "      <td>0.0</td>\n",
       "      <td>0.00000</td>\n",
       "      <td>0.0</td>\n",
       "      <td>0.0</td>\n",
       "      <td>0.00000</td>\n",
       "      <td>0.0</td>\n",
       "      <td>0.0</td>\n",
       "      <td>0.0</td>\n",
       "      <td>0.0</td>\n",
       "    </tr>\n",
       "    <tr>\n",
       "      <th>2</th>\n",
       "      <td>2734888454</td>\n",
       "      <td>0.0</td>\n",
       "      <td>0.00000</td>\n",
       "      <td>0.00000</td>\n",
       "      <td>0.00000</td>\n",
       "      <td>0.0</td>\n",
       "      <td>0.13303</td>\n",
       "      <td>0.03974</td>\n",
       "      <td>0.00000</td>\n",
       "      <td>0.00000</td>\n",
       "      <td>...</td>\n",
       "      <td>0.00000</td>\n",
       "      <td>0.0</td>\n",
       "      <td>0.00000</td>\n",
       "      <td>0.0</td>\n",
       "      <td>0.0</td>\n",
       "      <td>0.00000</td>\n",
       "      <td>0.0</td>\n",
       "      <td>0.0</td>\n",
       "      <td>0.0</td>\n",
       "      <td>0.0</td>\n",
       "    </tr>\n",
       "    <tr>\n",
       "      <th>3</th>\n",
       "      <td>2841233731</td>\n",
       "      <td>0.0</td>\n",
       "      <td>0.00000</td>\n",
       "      <td>0.00000</td>\n",
       "      <td>0.00000</td>\n",
       "      <td>0.0</td>\n",
       "      <td>0.00000</td>\n",
       "      <td>0.00000</td>\n",
       "      <td>0.02815</td>\n",
       "      <td>0.04611</td>\n",
       "      <td>...</td>\n",
       "      <td>0.00000</td>\n",
       "      <td>0.0</td>\n",
       "      <td>0.00000</td>\n",
       "      <td>0.0</td>\n",
       "      <td>0.0</td>\n",
       "      <td>0.00000</td>\n",
       "      <td>0.0</td>\n",
       "      <td>0.0</td>\n",
       "      <td>0.0</td>\n",
       "      <td>0.0</td>\n",
       "    </tr>\n",
       "    <tr>\n",
       "      <th>4</th>\n",
       "      <td>7310172001</td>\n",
       "      <td>0.0</td>\n",
       "      <td>0.00077</td>\n",
       "      <td>0.00105</td>\n",
       "      <td>0.00074</td>\n",
       "      <td>0.0</td>\n",
       "      <td>0.12824</td>\n",
       "      <td>0.01602</td>\n",
       "      <td>0.00827</td>\n",
       "      <td>0.00517</td>\n",
       "      <td>...</td>\n",
       "      <td>0.00677</td>\n",
       "      <td>0.0</td>\n",
       "      <td>0.00077</td>\n",
       "      <td>0.0</td>\n",
       "      <td>0.0</td>\n",
       "      <td>0.00074</td>\n",
       "      <td>0.0</td>\n",
       "      <td>0.0</td>\n",
       "      <td>0.0</td>\n",
       "      <td>0.0</td>\n",
       "    </tr>\n",
       "  </tbody>\n",
       "</table>\n",
       "<p>5 rows × 1501 columns</p>\n",
       "</div>"
      ],
      "text/plain": [
       "    ProductId  tea    coffe   flavor     tast  chocol      dog     love  \\\n",
       "0  0006641040  0.0  0.00000  0.00000  0.00000     0.0  0.00000  0.01074   \n",
       "1  141278509X  0.0  0.00000  0.04172  0.01719     0.0  0.00000  0.00000   \n",
       "2  2734888454  0.0  0.00000  0.00000  0.00000     0.0  0.13303  0.03974   \n",
       "3  2841233731  0.0  0.00000  0.00000  0.00000     0.0  0.00000  0.00000   \n",
       "4  7310172001  0.0  0.00077  0.00105  0.00074     0.0  0.12824  0.01602   \n",
       "\n",
       "     great     like  ...   attent  burnt     bore  toler  cola    human  \\\n",
       "0  0.00703  0.00354  ...  0.00290    0.0  0.00000    0.0   0.0  0.00000   \n",
       "1  0.01949  0.00000  ...  0.00000    0.0  0.00000    0.0   0.0  0.00000   \n",
       "2  0.00000  0.00000  ...  0.00000    0.0  0.00000    0.0   0.0  0.00000   \n",
       "3  0.02815  0.04611  ...  0.00000    0.0  0.00000    0.0   0.0  0.00000   \n",
       "4  0.00827  0.00517  ...  0.00677    0.0  0.00077    0.0   0.0  0.00074   \n",
       "\n",
       "   tortilla  thumb  tassimo  macadamia  \n",
       "0       0.0    0.0      0.0        0.0  \n",
       "1       0.0    0.0      0.0        0.0  \n",
       "2       0.0    0.0      0.0        0.0  \n",
       "3       0.0    0.0      0.0        0.0  \n",
       "4       0.0    0.0      0.0        0.0  \n",
       "\n",
       "[5 rows x 1501 columns]"
      ]
     },
     "execution_count": 149,
     "metadata": {},
     "output_type": "execute_result"
    }
   ],
   "source": [
    "matrix_df.head()"
   ]
  },
  {
   "cell_type": "code",
   "execution_count": 150,
   "metadata": {},
   "outputs": [],
   "source": [
    "with open('matrix_df.pkl', 'wb') as handle:\n",
    "    pickle.dump(matrix_df, handle)"
   ]
  },
  {
   "cell_type": "code",
   "execution_count": 2,
   "metadata": {},
   "outputs": [],
   "source": [
    "with open('matrix_df.pkl', 'rb') as handle:\n",
    "    matrix_df = pickle.load(handle)"
   ]
  },
  {
   "cell_type": "markdown",
   "metadata": {},
   "source": [
    "## Point 1: Implement the k-means clustering algorithm "
   ]
  },
  {
   "cell_type": "markdown",
   "metadata": {},
   "source": [
    "The K-means algorithm follows this steps:\n",
    "\n",
    "1. random initialization of the centroid vectors\n",
    "2. assign each point to the closest centroid\n",
    "3. update centroids by taking the mean of the points belonging to the relative cluster\n",
    "4. calculate the cost function given buy the within-cluster sum of squares"
   ]
  },
  {
   "cell_type": "code",
   "execution_count": 56,
   "metadata": {},
   "outputs": [],
   "source": [
    "# choose random initial centroid vectors\n",
    "def initial_centroids(k, point_matrix):\n",
    "    m=point_matrix.shape[0]\n",
    "    initial_centroids = []        \n",
    "    for i in range(k):\n",
    "        initial_centroids.append(point_matrix.loc[np.random.randint(0,m-1)]) # we choose k random vectors\n",
    "    return initial_centroids"
   ]
  },
  {
   "cell_type": "code",
   "execution_count": 57,
   "metadata": {},
   "outputs": [],
   "source": [
    "# compute euclidean distance between vectors\n",
    "def distance(v1, v2):\n",
    "    return np.linalg.norm(v1-v2)\n",
    "# compute power of 2 of norm_2 of each cluster\n",
    "def dist_inertia(v1,v2):\n",
    "    return np.sum((v1-v2)**2)"
   ]
  },
  {
   "cell_type": "code",
   "execution_count": 58,
   "metadata": {},
   "outputs": [],
   "source": [
    "# create clusters\n",
    "def create_clusters(centroids, point_matrix):\n",
    "    clusters=[]\n",
    "    for i in range(point_matrix.shape[0]):\n",
    "        x = np.array(point_matrix.loc[i]) # get the array at index i\n",
    "        dist=[]       \n",
    "        for j in centroids:\n",
    "            dist.append(distance(np.array(j),x))  # calculate the distance between each vector and centroid\n",
    "        clusters.append(dist.index(min(dist)))    # assign the point to the closest centroid\n",
    "    return clusters"
   ]
  },
  {
   "cell_type": "code",
   "execution_count": 59,
   "metadata": {},
   "outputs": [],
   "source": [
    "# update new centroids\n",
    "def update_centroids(cluster, point_matrix):\n",
    "    new_centroids = []\n",
    "    cluster_df = pd.concat([point_matrix,\n",
    "                            pd.DataFrame(cluster, \n",
    "                            columns=['cluster'])], axis=1) # create a new dataset: scoring matrix and we add a column 'cluster'\n",
    "    for i in set(cluster):\n",
    "        new_centroids.append(cluster_df[cluster_df['cluster']==i][cluster_df.columns[:-1]].mean(axis=0)) # compute the mean of the points of each cluster\n",
    "    return new_centroids, cluster_df"
   ]
  },
  {
   "cell_type": "code",
   "execution_count": 60,
   "metadata": {},
   "outputs": [],
   "source": [
    "# compute inertia for all clusters\n",
    "def inertia(clusters,centroids,cluster_df):\n",
    "    inertia=0\n",
    "    for c in set(clusters):\n",
    "        for i,row in cluster_df[cluster_df['cluster']==c][cluster_df.columns[:-1]].iterrows():\n",
    "            inertia+=dist_inertia(row,centroids[c])     # compute the cost function between the each vector and the centroid\n",
    "    return inertia"
   ]
  },
  {
   "cell_type": "markdown",
   "metadata": {},
   "source": [
    "Our K-means algorithm has been implemented with the above functions. \n",
    "\n",
    "The goal of this algorithm is to mimize the cost function. Due to the fact the K-means converges after many iterations (i.e. 300), we assume that after performing 10 iterations the change in the within-cluster sum of squares is not relevant."
   ]
  },
  {
   "cell_type": "code",
   "execution_count": 61,
   "metadata": {},
   "outputs": [],
   "source": [
    "# kmeans cluster\n",
    "def k_means(k):\n",
    "    point_matrix = matrix_df.iloc[:,1:]             # slice the ProductId from the matrix\n",
    "    centroids = initial_centroids(k, point_matrix)  # initialize the k centroids  \n",
    "    cluster = create_clusters(centroids, point_matrix)  # assign the point to the closest centroid\n",
    "    # loop for each iteration\n",
    "    for i in tqdm(range(10)):\n",
    "        new_centroids, cluster_df = update_centroids(cluster, point_matrix) # update the k centroids\n",
    "        cluster = create_clusters(new_centroids, point_matrix)              # update cluster\n",
    "    variance_iter = inertia(cluster, new_centroids, cluster_df)             # take the last (smallest) inertia\n",
    "    return variance_iter, cluster_df"
   ]
  },
  {
   "cell_type": "markdown",
   "metadata": {},
   "source": [
    "Here we perform the Elbow method from 2 to 20 k."
   ]
  },
  {
   "cell_type": "code",
   "execution_count": 62,
   "metadata": {
    "scrolled": true
   },
   "outputs": [
    {
     "name": "stderr",
     "output_type": "stream",
     "text": [
      "  0%|          | 0/18 [00:00<?, ?it/s]\n",
      "  0%|          | 0/10 [00:00<?, ?it/s]\u001b[A\n",
      " 10%|█         | 1/10 [00:12<01:49, 12.21s/it]\u001b[A\n",
      " 20%|██        | 2/10 [00:22<01:32, 11.55s/it]\u001b[A\n",
      " 30%|███       | 3/10 [00:31<01:16, 10.93s/it]\u001b[A\n",
      " 40%|████      | 4/10 [00:41<01:02, 10.47s/it]\u001b[A\n",
      " 50%|█████     | 5/10 [00:50<00:50, 10.12s/it]\u001b[A\n",
      " 60%|██████    | 6/10 [00:59<00:39,  9.87s/it]\u001b[A\n",
      " 70%|███████   | 7/10 [01:09<00:29,  9.72s/it]\u001b[A\n",
      " 80%|████████  | 8/10 [01:19<00:19,  9.92s/it]\u001b[A\n",
      " 90%|█████████ | 9/10 [01:30<00:10, 10.14s/it]\u001b[A\n",
      "100%|██████████| 10/10 [01:40<00:00, 10.07s/it]\u001b[A\n",
      "  6%|▌         | 1/18 [02:20<39:54, 140.88s/it]\n",
      "  0%|          | 0/10 [00:00<?, ?it/s]\u001b[A\n",
      " 10%|█         | 1/10 [00:11<01:39, 11.09s/it]\u001b[A\n",
      " 20%|██        | 2/10 [00:22<01:30, 11.31s/it]\u001b[A\n",
      " 30%|███       | 3/10 [00:34<01:19, 11.38s/it]\u001b[A\n",
      " 40%|████      | 4/10 [00:45<01:08, 11.42s/it]\u001b[A\n",
      " 50%|█████     | 5/10 [00:57<00:57, 11.58s/it]\u001b[A\n",
      " 60%|██████    | 6/10 [01:10<00:47, 11.88s/it]\u001b[A\n",
      " 70%|███████   | 7/10 [01:22<00:35, 11.94s/it]\u001b[A\n",
      " 80%|████████  | 8/10 [01:34<00:23, 11.93s/it]\u001b[A\n",
      " 90%|█████████ | 9/10 [01:45<00:11, 11.76s/it]\u001b[A\n",
      "100%|██████████| 10/10 [01:57<00:00, 11.75s/it]\u001b[A\n",
      " 11%|█         | 2/18 [04:58<38:52, 145.78s/it]\n",
      "  0%|          | 0/10 [00:00<?, ?it/s]\u001b[A\n",
      " 10%|█         | 1/10 [00:12<01:49, 12.15s/it]\u001b[A\n",
      " 20%|██        | 2/10 [00:23<01:35, 11.97s/it]\u001b[A\n",
      " 30%|███       | 3/10 [00:35<01:23, 11.87s/it]\u001b[A\n",
      " 40%|████      | 4/10 [00:46<01:10, 11.81s/it]\u001b[A\n",
      " 50%|█████     | 5/10 [00:58<00:58, 11.78s/it]\u001b[A\n",
      " 60%|██████    | 6/10 [01:10<00:46, 11.73s/it]\u001b[A\n",
      " 70%|███████   | 7/10 [01:22<00:35, 11.72s/it]\u001b[A\n",
      " 80%|████████  | 8/10 [01:33<00:23, 11.68s/it]\u001b[A\n",
      " 90%|█████████ | 9/10 [01:45<00:11, 11.66s/it]\u001b[A\n",
      "100%|██████████| 10/10 [01:56<00:00, 11.68s/it]\u001b[A\n",
      " 17%|█▋        | 3/18 [07:33<37:11, 148.75s/it]\n",
      "  0%|          | 0/10 [00:00<?, ?it/s]\u001b[A\n",
      " 10%|█         | 1/10 [00:12<01:52, 12.54s/it]\u001b[A\n",
      " 20%|██        | 2/10 [00:25<01:40, 12.56s/it]\u001b[A\n",
      " 30%|███       | 3/10 [00:37<01:28, 12.59s/it]\u001b[A\n",
      " 40%|████      | 4/10 [00:50<01:16, 12.75s/it]\u001b[A\n",
      " 50%|█████     | 5/10 [01:03<01:04, 12.83s/it]\u001b[A\n",
      " 60%|██████    | 6/10 [01:17<00:51, 12.90s/it]\u001b[A\n",
      " 70%|███████   | 7/10 [01:30<00:39, 13.07s/it]\u001b[A\n",
      " 80%|████████  | 8/10 [01:43<00:26, 13.16s/it]\u001b[A\n",
      " 90%|█████████ | 9/10 [01:57<00:13, 13.21s/it]\u001b[A\n",
      "100%|██████████| 10/10 [02:10<00:00, 13.05s/it]\u001b[A\n",
      " 22%|██▏       | 4/18 [10:23<36:10, 155.01s/it]\n",
      "  0%|          | 0/10 [00:00<?, ?it/s]\u001b[A\n",
      " 10%|█         | 1/10 [00:12<01:54, 12.76s/it]\u001b[A\n",
      " 20%|██        | 2/10 [00:25<01:42, 12.80s/it]\u001b[A\n",
      " 30%|███       | 3/10 [00:38<01:29, 12.81s/it]\u001b[A\n",
      " 40%|████      | 4/10 [00:51<01:17, 12.86s/it]\u001b[A\n",
      " 50%|█████     | 5/10 [01:04<01:04, 12.82s/it]\u001b[A\n",
      " 60%|██████    | 6/10 [01:16<00:51, 12.82s/it]\u001b[A\n",
      " 70%|███████   | 7/10 [01:29<00:38, 12.79s/it]\u001b[A\n",
      " 80%|████████  | 8/10 [01:42<00:25, 12.83s/it]\u001b[A\n",
      " 90%|█████████ | 9/10 [01:55<00:12, 12.83s/it]\u001b[A\n",
      "100%|██████████| 10/10 [02:08<00:00, 12.83s/it]\u001b[A\n",
      " 28%|██▊       | 5/18 [13:10<34:22, 158.64s/it]\n",
      "  0%|          | 0/10 [00:00<?, ?it/s]\u001b[A\n",
      " 10%|█         | 1/10 [00:13<02:02, 13.64s/it]\u001b[A\n",
      " 20%|██        | 2/10 [00:27<01:49, 13.69s/it]\u001b[A\n",
      " 30%|███       | 3/10 [00:41<01:36, 13.76s/it]\u001b[A\n",
      " 40%|████      | 4/10 [00:56<01:24, 14.14s/it]\u001b[A\n",
      " 50%|█████     | 5/10 [01:13<01:14, 14.99s/it]\u001b[A\n",
      " 60%|██████    | 6/10 [01:29<01:00, 15.21s/it]\u001b[A\n",
      " 70%|███████   | 7/10 [01:44<00:46, 15.39s/it]\u001b[A\n",
      " 80%|████████  | 8/10 [02:00<00:30, 15.48s/it]\u001b[A\n",
      " 90%|█████████ | 9/10 [02:16<00:15, 15.68s/it]\u001b[A\n",
      "100%|██████████| 10/10 [02:32<00:00, 15.23s/it]\u001b[A\n",
      " 33%|███▎      | 6/18 [16:29<34:07, 170.65s/it]\n",
      "  0%|          | 0/10 [00:00<?, ?it/s]\u001b[A\n",
      " 10%|█         | 1/10 [00:17<02:32, 17.00s/it]\u001b[A\n",
      " 20%|██        | 2/10 [00:33<02:14, 16.81s/it]\u001b[A\n",
      " 30%|███       | 3/10 [00:49<01:55, 16.53s/it]\u001b[A\n",
      " 40%|████      | 4/10 [01:04<01:37, 16.26s/it]\u001b[A\n",
      " 50%|█████     | 5/10 [01:20<01:21, 16.20s/it]\u001b[A\n",
      " 60%|██████    | 6/10 [01:36<01:04, 16.12s/it]\u001b[A\n",
      " 70%|███████   | 7/10 [01:53<00:48, 16.21s/it]\u001b[A\n",
      " 80%|████████  | 8/10 [02:09<00:32, 16.21s/it]\u001b[A\n",
      " 90%|█████████ | 9/10 [02:25<00:16, 16.19s/it]\u001b[A\n",
      "100%|██████████| 10/10 [02:42<00:00, 16.21s/it]\u001b[A\n",
      " 39%|███▉      | 7/18 [19:56<33:17, 181.57s/it]\n",
      "  0%|          | 0/10 [00:00<?, ?it/s]\u001b[A\n",
      " 10%|█         | 1/10 [00:17<02:39, 17.67s/it]\u001b[A\n",
      " 20%|██        | 2/10 [00:34<02:19, 17.40s/it]\u001b[A\n",
      " 30%|███       | 3/10 [00:50<01:59, 17.11s/it]\u001b[A\n",
      " 40%|████      | 4/10 [01:08<01:42, 17.12s/it]\u001b[A\n",
      " 50%|█████     | 5/10 [01:23<01:23, 16.71s/it]\u001b[A\n",
      " 60%|██████    | 6/10 [01:39<01:05, 16.42s/it]\u001b[A\n",
      " 70%|███████   | 7/10 [01:55<00:48, 16.20s/it]\u001b[A\n",
      " 80%|████████  | 8/10 [02:10<00:31, 16.00s/it]\u001b[A\n",
      " 90%|█████████ | 9/10 [02:26<00:15, 15.93s/it]\u001b[A\n",
      "100%|██████████| 10/10 [02:43<00:00, 16.34s/it]\u001b[A\n",
      " 44%|████▍     | 8/18 [23:30<31:53, 191.34s/it]\n",
      "  0%|          | 0/10 [00:00<?, ?it/s]\u001b[A\n",
      " 10%|█         | 1/10 [00:18<02:44, 18.29s/it]\u001b[A\n",
      " 20%|██        | 2/10 [00:38<02:31, 18.91s/it]\u001b[A\n",
      " 30%|███       | 3/10 [00:59<02:17, 19.61s/it]\u001b[A\n",
      " 40%|████      | 4/10 [01:19<01:57, 19.55s/it]\u001b[A\n",
      " 50%|█████     | 5/10 [01:38<01:36, 19.33s/it]\u001b[A\n",
      " 60%|██████    | 6/10 [01:57<01:17, 19.30s/it]\u001b[A\n",
      " 70%|███████   | 7/10 [02:20<01:01, 20.50s/it]\u001b[A\n",
      " 80%|████████  | 8/10 [02:42<00:41, 20.85s/it]\u001b[A\n",
      " 90%|█████████ | 9/10 [02:59<00:19, 19.68s/it]\u001b[A\n",
      "100%|██████████| 10/10 [03:15<00:00, 19.58s/it]\u001b[A\n",
      " 50%|█████     | 9/18 [27:30<30:54, 206.10s/it]\n",
      "  0%|          | 0/10 [00:00<?, ?it/s]\u001b[A\n",
      " 10%|█         | 1/10 [00:17<02:36, 17.39s/it]\u001b[A\n",
      " 20%|██        | 2/10 [00:34<02:19, 17.41s/it]\u001b[A\n",
      " 30%|███       | 3/10 [00:52<02:02, 17.46s/it]\u001b[A\n",
      " 40%|████      | 4/10 [01:09<01:44, 17.47s/it]\u001b[A\n",
      " 50%|█████     | 5/10 [01:27<01:27, 17.45s/it]\u001b[A\n",
      " 60%|██████    | 6/10 [01:44<01:09, 17.46s/it]\u001b[A\n",
      " 70%|███████   | 7/10 [02:02<00:52, 17.44s/it]\u001b[A\n",
      " 80%|████████  | 8/10 [02:19<00:34, 17.50s/it]\u001b[A\n",
      " 90%|█████████ | 9/10 [02:37<00:17, 17.48s/it]\u001b[A\n",
      "100%|██████████| 10/10 [02:54<00:00, 17.46s/it]\u001b[A\n",
      " 56%|█████▌    | 10/18 [31:09<27:57, 209.70s/it]\n",
      "  0%|          | 0/10 [00:00<?, ?it/s]\u001b[A\n",
      " 10%|█         | 1/10 [00:18<02:42, 18.01s/it]\u001b[A\n",
      " 20%|██        | 2/10 [00:36<02:24, 18.10s/it]\u001b[A\n",
      " 30%|███       | 3/10 [00:54<02:06, 18.10s/it]\u001b[A\n",
      " 40%|████      | 4/10 [01:12<01:48, 18.11s/it]\u001b[A\n",
      " 50%|█████     | 5/10 [01:30<01:30, 18.12s/it]\u001b[A\n",
      " 60%|██████    | 6/10 [01:48<01:12, 18.11s/it]\u001b[A\n",
      " 70%|███████   | 7/10 [02:06<00:54, 18.12s/it]\u001b[A\n",
      " 80%|████████  | 8/10 [02:25<00:36, 18.14s/it]\u001b[A\n",
      " 90%|█████████ | 9/10 [02:43<00:18, 18.19s/it]\u001b[A\n",
      "100%|██████████| 10/10 [03:01<00:00, 18.14s/it]\u001b[A\n",
      " 61%|██████    | 11/18 [34:54<25:01, 214.43s/it]\n",
      "  0%|          | 0/10 [00:00<?, ?it/s]\u001b[A\n",
      " 10%|█         | 1/10 [00:18<02:48, 18.73s/it]\u001b[A\n",
      " 20%|██        | 2/10 [00:37<02:30, 18.83s/it]\u001b[A\n",
      " 30%|███       | 3/10 [00:56<02:12, 18.88s/it]\u001b[A\n",
      " 40%|████      | 4/10 [01:15<01:53, 18.93s/it]\u001b[A\n",
      " 50%|█████     | 5/10 [01:34<01:34, 18.92s/it]\u001b[A\n",
      " 60%|██████    | 6/10 [01:53<01:15, 18.91s/it]\u001b[A\n",
      " 70%|███████   | 7/10 [02:12<00:56, 18.90s/it]\u001b[A\n",
      " 80%|████████  | 8/10 [02:31<00:37, 18.91s/it]\u001b[A\n",
      " 90%|█████████ | 9/10 [02:50<00:18, 18.93s/it]\u001b[A\n",
      "100%|██████████| 10/10 [03:09<00:00, 18.94s/it]\u001b[A\n",
      " 67%|██████▋   | 12/18 [38:48<22:02, 220.35s/it]\n",
      "  0%|          | 0/10 [00:00<?, ?it/s]\u001b[A\n",
      " 10%|█         | 1/10 [00:19<02:56, 19.58s/it]\u001b[A\n",
      " 20%|██        | 2/10 [00:39<02:37, 19.64s/it]\u001b[A\n",
      " 30%|███       | 3/10 [00:59<02:18, 19.84s/it]\u001b[A\n",
      " 40%|████      | 4/10 [01:19<01:59, 19.85s/it]\u001b[A\n",
      " 50%|█████     | 5/10 [01:39<01:39, 19.81s/it]\u001b[A\n",
      " 60%|██████    | 6/10 [01:58<01:18, 19.75s/it]\u001b[A\n",
      " 70%|███████   | 7/10 [02:18<00:59, 19.72s/it]\u001b[A\n",
      " 80%|████████  | 8/10 [02:38<00:39, 19.72s/it]\u001b[A\n",
      " 90%|█████████ | 9/10 [02:58<00:19, 19.74s/it]\u001b[A\n",
      "100%|██████████| 10/10 [03:17<00:00, 19.77s/it]\u001b[A\n",
      " 72%|███████▏  | 13/18 [42:52<18:56, 227.26s/it]\n",
      "  0%|          | 0/10 [00:00<?, ?it/s]\u001b[A\n",
      " 10%|█         | 1/10 [00:20<03:04, 20.48s/it]\u001b[A\n",
      " 20%|██        | 2/10 [00:41<02:44, 20.52s/it]\u001b[A\n",
      " 30%|███       | 3/10 [01:01<02:24, 20.61s/it]\u001b[A\n",
      " 40%|████      | 4/10 [01:22<02:03, 20.62s/it]\u001b[A\n",
      " 50%|█████     | 5/10 [01:43<01:43, 20.61s/it]\u001b[A\n",
      " 60%|██████    | 6/10 [02:03<01:22, 20.59s/it]\u001b[A\n",
      " 70%|███████   | 7/10 [02:24<01:01, 20.55s/it]\u001b[A\n",
      " 80%|████████  | 8/10 [02:44<00:41, 20.55s/it]\u001b[A\n"
     ]
    },
    {
     "name": "stderr",
     "output_type": "stream",
     "text": [
      " 90%|█████████ | 9/10 [03:05<00:20, 20.61s/it]\u001b[A\n",
      "100%|██████████| 10/10 [03:26<00:00, 20.60s/it]\u001b[A\n",
      " 78%|███████▊  | 14/18 [47:04<15:39, 234.81s/it]\n",
      "  0%|          | 0/10 [00:00<?, ?it/s]\u001b[A\n",
      " 10%|█         | 1/10 [00:21<03:11, 21.24s/it]\u001b[A\n",
      " 20%|██        | 2/10 [00:42<02:50, 21.31s/it]\u001b[A\n",
      " 30%|███       | 3/10 [01:04<02:29, 21.35s/it]\u001b[A\n",
      " 40%|████      | 4/10 [01:25<02:08, 21.39s/it]\u001b[A\n",
      " 50%|█████     | 5/10 [01:46<01:46, 21.37s/it]\u001b[A\n",
      " 60%|██████    | 6/10 [02:08<01:25, 21.36s/it]\u001b[A\n",
      " 70%|███████   | 7/10 [02:29<01:04, 21.37s/it]\u001b[A\n",
      " 80%|████████  | 8/10 [02:51<00:42, 21.46s/it]\u001b[A\n",
      " 90%|█████████ | 9/10 [03:12<00:21, 21.46s/it]\u001b[A\n",
      "100%|██████████| 10/10 [03:34<00:00, 21.43s/it]\u001b[A\n",
      " 83%|████████▎ | 15/18 [51:26<12:08, 242.84s/it]\n",
      "  0%|          | 0/10 [00:00<?, ?it/s]\u001b[A\n",
      " 10%|█         | 1/10 [00:22<03:18, 22.09s/it]\u001b[A\n",
      " 20%|██        | 2/10 [00:44<02:57, 22.14s/it]\u001b[A\n",
      " 30%|███       | 3/10 [01:06<02:34, 22.13s/it]\u001b[A\n",
      " 40%|████      | 4/10 [01:28<02:12, 22.12s/it]\u001b[A\n",
      " 50%|█████     | 5/10 [01:50<01:50, 22.14s/it]\u001b[A\n",
      " 60%|██████    | 6/10 [02:13<01:28, 22.23s/it]\u001b[A\n",
      " 70%|███████   | 7/10 [02:35<01:06, 22.24s/it]\u001b[A\n",
      " 80%|████████  | 8/10 [02:57<00:44, 22.21s/it]\u001b[A\n",
      " 90%|█████████ | 9/10 [03:20<00:22, 22.50s/it]\u001b[A\n",
      "100%|██████████| 10/10 [03:44<00:00, 22.46s/it]\u001b[A\n",
      " 89%|████████▉ | 16/18 [55:59<08:23, 251.97s/it]\n",
      "  0%|          | 0/10 [00:00<?, ?it/s]\u001b[A\n",
      " 10%|█         | 1/10 [00:23<03:30, 23.42s/it]\u001b[A\n",
      " 20%|██        | 2/10 [00:47<03:07, 23.49s/it]\u001b[A\n",
      " 30%|███       | 3/10 [01:10<02:44, 23.55s/it]\u001b[A\n",
      " 40%|████      | 4/10 [01:34<02:21, 23.53s/it]\u001b[A\n",
      " 50%|█████     | 5/10 [01:57<01:57, 23.48s/it]\u001b[A\n",
      " 60%|██████    | 6/10 [02:21<01:33, 23.49s/it]\u001b[A\n",
      " 70%|███████   | 7/10 [02:44<01:10, 23.51s/it]\u001b[A\n",
      " 80%|████████  | 8/10 [03:08<00:47, 23.52s/it]\u001b[A\n",
      " 90%|█████████ | 9/10 [03:31<00:23, 23.57s/it]\u001b[A\n",
      "100%|██████████| 10/10 [03:55<00:00, 23.58s/it]\u001b[A\n",
      " 94%|█████████▍| 17/18 [1:00:45<04:22, 262.33s/it]\n",
      "  0%|          | 0/10 [00:00<?, ?it/s]\u001b[A\n",
      " 10%|█         | 1/10 [00:27<04:06, 27.36s/it]\u001b[A\n",
      " 20%|██        | 2/10 [00:54<03:37, 27.18s/it]\u001b[A\n",
      " 30%|███       | 3/10 [01:20<03:09, 27.03s/it]\u001b[A\n",
      " 40%|████      | 4/10 [01:47<02:41, 26.96s/it]\u001b[A\n",
      " 50%|█████     | 5/10 [02:13<02:13, 26.61s/it]\u001b[A\n",
      " 60%|██████    | 6/10 [02:39<01:46, 26.54s/it]\u001b[A\n",
      " 70%|███████   | 7/10 [03:06<01:19, 26.48s/it]\u001b[A\n",
      " 80%|████████  | 8/10 [03:32<00:52, 26.36s/it]\u001b[A\n",
      " 90%|█████████ | 9/10 [04:01<00:27, 27.23s/it]\u001b[A\n",
      "100%|██████████| 10/10 [04:27<00:00, 26.79s/it]\u001b[A\n",
      "100%|██████████| 18/18 [1:06:08<00:00, 220.49s/it]\n"
     ]
    }
   ],
   "source": [
    "variance = []\n",
    "for k in tqdm(range(2,20)):  \n",
    "    variance.append(k_means(k)[0])\n",
    "    #if (variance[-1]/variance[-2] - 1) <= :"
   ]
  },
  {
   "cell_type": "code",
   "execution_count": 63,
   "metadata": {},
   "outputs": [
    {
     "data": {
      "text/plain": [
       "[<matplotlib.lines.Line2D at 0x7fa19b65ab50>]"
      ]
     },
     "execution_count": 63,
     "metadata": {},
     "output_type": "execute_result"
    },
    {
     "data": {
      "image/png": "[encoded data removed]",
      "text/plain": [
       "<Figure size 432x288 with 1 Axes>"
      ]
     },
     "metadata": {
      "needs_background": "light"
     },
     "output_type": "display_data"
    }
   ],
   "source": [
    "plt.plot([x for x in range(2,20)], variance)"
   ]
  },
  {
   "cell_type": "code",
   "execution_count": 64,
   "metadata": {},
   "outputs": [
    {
     "data": {
      "text/plain": [
       "[12231.803767075296,\n",
       " 12144.110544376075,\n",
       " 12013.64221738698,\n",
       " 12073.047490709927,\n",
       " 12007.410359113943,\n",
       " 11895.34104230348,\n",
       " 12011.373030871153,\n",
       " 11748.73669251427,\n",
       " 11833.530826288275,\n",
       " 11953.191755777225,\n",
       " 11813.801156780683,\n",
       " 11726.066290749703,\n",
       " 11765.40299979411,\n",
       " 11601.481289385818,\n",
       " 11595.934554846957,\n",
       " 11714.45281099854,\n",
       " 11528.815290405415,\n",
       " 11603.478868933395]"
      ]
     },
     "execution_count": 64,
     "metadata": {},
     "output_type": "execute_result"
    }
   ],
   "source": [
    "variance"
   ]
  },
  {
   "cell_type": "markdown",
   "metadata": {},
   "source": [
    "## Point 2: Implement version of k-means++"
   ]
  },
  {
   "cell_type": "code",
   "execution_count": 65,
   "metadata": {},
   "outputs": [],
   "source": [
    "slice = matrix_df.iloc[:,1:]"
   ]
  },
  {
   "cell_type": "code",
   "execution_count": 67,
   "metadata": {},
   "outputs": [
    {
     "name": "stderr",
     "output_type": "stream",
     "text": [
      "100%|██████████| 18/18 [15:20<00:00, 51.17s/it]\n"
     ]
    }
   ],
   "source": [
    "from sklearn.cluster import KMeans\n",
    "elbow = {}\n",
    "for k in tqdm(range(2, 20)):\n",
    "    model = KMeans(k)\n",
    "    model.fit(slice)\n",
    "    model.predict(slice)    \n",
    "    elbow[k] = model.inertia_"
   ]
  },
  {
   "cell_type": "code",
   "execution_count": 68,
   "metadata": {},
   "outputs": [
    {
     "data": {
      "text/plain": [
       "[<matplotlib.lines.Line2D at 0x7fa1a243fb10>]"
      ]
     },
     "execution_count": 68,
     "metadata": {},
     "output_type": "execute_result"
    },
    {
     "data": {
      "image/png": "[encoded data removed]",
      "text/plain": [
       "<Figure size 432x288 with 1 Axes>"
      ]
     },
     "metadata": {
      "needs_background": "light"
     },
     "output_type": "display_data"
    }
   ],
   "source": [
    "plt.plot(list(elbow.keys()), list(elbow.values()))"
   ]
  },
  {
   "cell_type": "code",
   "execution_count": null,
   "metadata": {},
   "outputs": [],
   "source": []
  }
 ],
 "metadata": {
  "kernelspec": {
   "display_name": "Python 3",
   "language": "python",
   "name": "python3"
  },
  "language_info": {
   "codemirror_mode": {
    "name": "ipython",
    "version": 3
   },
   "file_extension": ".py",
   "mimetype": "text/x-python",
   "name": "python",
   "nbconvert_exporter": "python",
   "pygments_lexer": "ipython3",
   "version": "3.7.7"
  }
 },
 "nbformat": 4,
 "nbformat_minor": 4
}
