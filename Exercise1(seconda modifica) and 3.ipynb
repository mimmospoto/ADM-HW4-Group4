{
 "cells": [
  {
   "cell_type": "markdown",
   "metadata": {},
   "source": [
    "# Question 1-Hashing\n"
   ]
  },
  {
   "cell_type": "code",
   "execution_count": 2,
   "metadata": {},
   "outputs": [],
   "source": [
    "import math\n",
    "import statistics\n",
    "import numpy as np\n",
    "from tqdm import tqdm"
   ]
  },
  {
   "cell_type": "markdown",
   "metadata": {},
   "source": [
    "We decide to implement a particular hash function called ***DOT HASH FUNCTION***\n",
    "Steps:\n",
    "* 1. We fixed a large prime number , in our case $4294967311$ \n",
    "* 2. Divide each esadecimal number of the file ***hash.txt*** in 32 elements and put them into an array $x$\n",
    "* 3. Generate 32 random number from 0 to the chosen prime number.\n",
    "* 4. Calculate hash function as $h_a(x)=(\\sum_{i=0}^{32} a_i x_i)mod p $"
   ]
  },
  {
   "cell_type": "code",
   "execution_count": 2,
   "metadata": {},
   "outputs": [],
   "source": [
    "n=4294967311\n",
    "coeff=np.random.randint(1,high=2**32-1,size=32,dtype='int64')\n",
    "d={ 'a':10,'b':11,'c':12,'d':13,'e':14,'f':15}\n",
    "\n",
    "def hash_function_2(s,n=n,coeff=coeff):\n",
    "    out=0\n",
    "    x=[]\n",
    "    \n",
    "    for elem in s:\n",
    "        if elem in d:\n",
    "            x.append(d[elem])\n",
    "        else:\n",
    "            x.append(int(elem))\n",
    "    x=np.array(x)\n",
    "    out=np.dot(x,coeff)\n",
    "    \n",
    "    return '{:032b}'.format(out%n)"
   ]
  },
  {
   "cell_type": "markdown",
   "metadata": {},
   "source": [
    "The hash function defined above maps esadecimal integers to binary number with 32 digits."
   ]
  },
  {
   "cell_type": "markdown",
   "metadata": {},
   "source": [
    "# Hyper log log"
   ]
  },
  {
   "cell_type": "markdown",
   "metadata": {},
   "source": [
    "Since we work with binary number of 32 bits the recommended number bits allocated to the buckets is 5,in this way we have $2^5=32$ different buckets. For each binary number we count the number of consecutive $0$ after the five bits reseved for the buckets.Then we store the max result **k** obtained in the corrispondent bucket.\n",
    "Once we have processed all the inputs we calculate the number of unique values with the formula\n",
    "\n",
    "$E=\\alpha_m m^2(\\sum_{j=1}^{m}2^{-M_j})^{-1}$  where $m$ is the number of buckets and $\\alpha=0.697$ for 32 buckets.\n",
    "\n",
    "The corrispondent error is $err$ =${1.04}\\over{\\sqrt(m)}$, so it is fixed for each number of buckets."
   ]
  },
  {
   "cell_type": "code",
   "execution_count": 4,
   "metadata": {},
   "outputs": [],
   "source": [
    "SIZE=32\n",
    "\n",
    "def hyper_log_log_version(f):\n",
    "    bucket=[0]*SIZE                            #32 bucket \n",
    "    bucket_index=0\n",
    "    for i in tqdm(range(139000000)):\n",
    "        riga=f.readline().strip('\\n')\n",
    "        a=hash_function_2(riga)\n",
    "        bucket_index=0\n",
    "        bucket_index= int(a[:5],2)\n",
    "        \n",
    "        cont_zero=0                           \n",
    "        j=5 \n",
    "        while a[j]== '0':\n",
    "            cont_zero +=1\n",
    "            j +=1\n",
    "        \n",
    "        if bucket[bucket_index]==0: \n",
    "            bucket[bucket_index]=cont_zero\n",
    "        else :\n",
    "            bucket[bucket_index]=max(bucket[bucket_index],cont_zero)\n",
    "                \n",
    "    s=0\n",
    "    for elem in bucket:\n",
    "        s+=2**(-elem)\n",
    "    s=s**(-1)\n",
    "    \n",
    "    card=0.697*(SIZE**2)*s                    #cardinality\n",
    "    err=1.04/math.sqrt(SIZE)                  #error\n",
    "    \n",
    "    return card,err"
   ]
  },
  {
   "cell_type": "code",
   "execution_count": 5,
   "metadata": {},
   "outputs": [],
   "source": [
    "f=open('hash.txt','r', encoding='utf-8')"
   ]
  },
  {
   "cell_type": "code",
   "execution_count": 6,
   "metadata": {},
   "outputs": [
    {
     "name": "stderr",
     "output_type": "stream",
     "text": [
      "100%|█████████████████████████| 139000000/139000000 [50:28<00:00, 45895.85it/s]\n"
     ]
    }
   ],
   "source": [
    "card,err=hyper_log_log_version2(f)"
   ]
  },
  {
   "cell_type": "code",
   "execution_count": 7,
   "metadata": {},
   "outputs": [],
   "source": [
    "f.close()"
   ]
  },
  {
   "cell_type": "code",
   "execution_count": 9,
   "metadata": {},
   "outputs": [
    {
     "name": "stdout",
     "output_type": "stream",
     "text": [
      "101049525.91770463\n"
     ]
    }
   ],
   "source": [
    "print(card)"
   ]
  },
  {
   "cell_type": "code",
   "execution_count": 10,
   "metadata": {},
   "outputs": [
    {
     "name": "stdout",
     "output_type": "stream",
     "text": [
      "0.18384776310850234\n"
     ]
    }
   ],
   "source": [
    "print(err)"
   ]
  },
  {
   "cell_type": "markdown",
   "metadata": {},
   "source": [
    "# Universal Hash Function "
   ]
  },
  {
   "cell_type": "code",
   "execution_count": 3,
   "metadata": {},
   "outputs": [],
   "source": [
    "p=4294967311\n",
    "a=np.random.randint(1,high=p,dtype='int64')\n",
    "b=np.random.randint(0,high=p,dtype='int64')\n",
    "n=2**32\n",
    "def hash_function_2(esadecimal,a=a,b=b):\n",
    "    x=int(esadecimal,16)\n",
    "    out=((a*x+b)%p)%n\n",
    "    return '{:032b}'.format(out)"
   ]
  },
  {
   "cell_type": "code",
   "execution_count": 6,
   "metadata": {},
   "outputs": [
    {
     "name": "stderr",
     "output_type": "stream",
     "text": [
      "100%|█████████████████████████| 139000000/139000000 [50:28<00:00, 45895.85it/s]\n"
     ]
    }
   ],
   "source": [
    "card,err=hyper_log_log_version2(f)"
   ]
  },
  {
   "cell_type": "code",
   "execution_count": 8,
   "metadata": {},
   "outputs": [
    {
     "name": "stdout",
     "output_type": "stream",
     "text": [
      "60783598.077401005\n"
     ]
    }
   ],
   "source": [
    "print(card)"
   ]
  },
  {
   "cell_type": "markdown",
   "metadata": {},
   "source": [
    "# Question 3 - Sorting Algorithm"
   ]
  },
  {
   "cell_type": "markdown",
   "metadata": {},
   "source": [
    "Given an array with **A** with n integer numbers, we define : \n",
    "\n",
    "> $ s = min{ A[1], ..., A[n] }$ -> the minimum value of the array, \n",
    "\n",
    "> $ b = max { A[1], ..., A[n] }$ -> the maximum value of the array,\n",
    "\n",
    "> $ r= b-s$ -> the difference between max and min value\n",
    "\n",
    "We create a second vector $B$ of length r+1 which contains the number of times that each value from s to b appears in $A$ .In this way the first element of $B$ represent the number of times that $s=min(A)$ appears ,consequently $B[i]$ represent the number of times that $i+min(A)$ appears in $A$. After visiting $A$ , starting from $B[0]$ we write on $A$ ,$B[i]$ copies of the value $i+min(A)$.\n",
    "\n",
    "The complexity can be found looking ot the python code of this algorithm."
   ]
  },
  {
   "cell_type": "code",
   "execution_count": 45,
   "metadata": {},
   "outputs": [],
   "source": [
    "def sorting(A):\n",
    "    print('Initial array                      ',A)\n",
    "    s=min(A)\n",
    "    b=max(A)\n",
    "    r=b-s\n",
    "    B=[0]*(r+1)\n",
    "    \n",
    "    for i in range(len(A)):\n",
    "        B[A[i]-s]+=1\n",
    "    print('Temporary array of the occurencies ',B)\n",
    "    j=0\n",
    "    for i in range(r+1):\n",
    "        while B[i]!=0:\n",
    "            A[j]=i+s\n",
    "            B[i]-=1\n",
    "            j+=1\n",
    "    print('Ordered array                      ',A)"
   ]
  },
  {
   "cell_type": "code",
   "execution_count": 48,
   "metadata": {},
   "outputs": [],
   "source": [
    "C=[4,2,8,10,3,3,5,6]"
   ]
  },
  {
   "cell_type": "code",
   "execution_count": 49,
   "metadata": {},
   "outputs": [
    {
     "name": "stdout",
     "output_type": "stream",
     "text": [
      "Initial array                       [4, 2, 8, 10, 3, 3, 5, 6]\n",
      "Temporary array of the occurencies  [1, 2, 1, 1, 1, 0, 1, 0, 1]\n",
      "Ordered array                       [2, 3, 3, 4, 5, 6, 8, 10]\n"
     ]
    }
   ],
   "source": [
    "sorting(C)"
   ]
  },
  {
   "cell_type": "markdown",
   "metadata": {},
   "source": [
    "As we can see in the code we have to looking for the min and max ,this operations have a complexity of $O(n)$ while we have to visit all the array A.(Here we use buit-in function but in general we can calculate min and max visiting A only one time).\n",
    "\n",
    "For creating B we need an other time n operations.\n",
    "\n",
    "Then the last for look requires r+1 operations for overwriting A.\n",
    "\n",
    "Leaving out constant operations such as {print,assignment,index incresement...},the final complexity is $O(n+r)$\n",
    "\n"
   ]
  }
 ],
 "metadata": {
  "kernelspec": {
   "display_name": "Python 3",
   "language": "python",
   "name": "python3"
  },
  "language_info": {
   "codemirror_mode": {
    "name": "ipython",
    "version": 3
   },
   "file_extension": ".py",
   "mimetype": "text/x-python",
   "name": "python",
   "nbconvert_exporter": "python",
   "pygments_lexer": "ipython3",
   "version": "3.8.3"
  }
 },
 "nbformat": 4,
 "nbformat_minor": 4
}
