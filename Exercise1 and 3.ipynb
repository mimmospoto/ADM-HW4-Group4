{
 "cells": [
  {
   "cell_type": "markdown",
   "metadata": {},
   "source": [
    "# Question 1-Hashing\n"
   ]
  },
  {
   "cell_type": "code",
   "execution_count": 1,
   "metadata": {},
   "outputs": [],
   "source": [
    "import math\n",
    "import statistics\n",
    "import numpy as np\n",
    "from tqdm import tqdm"
   ]
  },
  {
   "cell_type": "markdown",
   "metadata": {},
   "source": [
    "We decide to implement a particular hash function called ***DOT HASH FUNCTION***\n",
    "Steps:\n",
    "* 1. We fixed a large prime number , in our case $4294967311$ \n",
    "* 2. Divide each esadecimal number of the file ***hash.txt*** in 32 elements and put them into an array $x$\n",
    "* 3. Generate 32 random number from 0 to the chosen prime number.\n",
    "* 4. Calculate hash function as $h_a(x)=(\\sum_{i=0}^{32} a_i x_i)mod p $"
   ]
  },
  {
   "cell_type": "code",
   "execution_count": 166,
   "metadata": {},
   "outputs": [],
   "source": [
    "n=4294967311\n",
    "coeff=np.random.randint(1,high=2**32-1,size=32,dtype='int64')\n",
    "d={ 'a':10,'b':11,'c':12,'d':13,'e':14,'f':15}\n",
    "\n",
    "def hash_function_2(s,n=n,coeff=coeff):\n",
    "    out=0\n",
    "    x=[]\n",
    "    \n",
    "    for elem in s:\n",
    "        if elem in d:\n",
    "            x.append(d[elem])\n",
    "        else:\n",
    "            x.append(int(elem))\n",
    "    \n",
    "    x=np.array(x)\n",
    "    out=np.dot(x,coeff)\n",
    "    \n",
    "    return '{:032b}'.format(out%n)"
   ]
  },
  {
   "cell_type": "markdown",
   "metadata": {},
   "source": [
    "The hash function defined above maps esadecimal integers to binary number with 32 digits."
   ]
  },
  {
   "cell_type": "markdown",
   "metadata": {},
   "source": [
    "# Hyper log log"
   ]
  },
  {
   "cell_type": "markdown",
   "metadata": {},
   "source": [
    "Since we work with binary number of 32 bits the recommended number bits allocated to the buckets is 12,in this way we have $2^12=4096$ different buckets. For each binary number we count the number of consecutive $0$ after the five bits reseved for the buckets.Then we store the max result **k** obtained in the corrispondent bucket.\n",
    "Once we have processed all the inputs we calculate the number of unique values with the formula\n",
    "\n",
    "$E=\\alpha_m m^2(\\sum_{j=1}^{m}2^{-M_j})^{-1}$  where $m$ is the number of buckets and $\\alpha$ = $0.7213\\over(1+ \\frac{1.079} {m})$ for 4096 buckets.\n",
    "\n",
    "The corrispondent error is $err$ =${1.04}\\over{\\sqrt(m)}$, so it is fixed for each number of buckets."
   ]
  },
  {
   "cell_type": "code",
   "execution_count": 188,
   "metadata": {},
   "outputs": [],
   "source": [
    "m=2**12 \n",
    "\n",
    "def hyper_log_log_version(f):\n",
    "    bucket=[0]*m                            \n",
    "    bucket_index=0\n",
    "    for i in tqdm(range(139000000)):       \n",
    "        riga=f.readline().strip('\\n')\n",
    "        a=hash_function_2(riga)\n",
    "        bucket_index=0\n",
    "        bucket_index=int(a[:12],2) \n",
    "        \n",
    "        cont_zero=0                           \n",
    "        j=12 \n",
    "        try:     \n",
    "            while a[j]== '0':\n",
    "                cont_zero +=1\n",
    "                j +=1\n",
    "                if j == 32:\n",
    "                    break\n",
    "        except:\n",
    "            print(a)\n",
    "        \n",
    "        if bucket[bucket_index]==0: \n",
    "            bucket[bucket_index]=cont_zero\n",
    "        else:\n",
    "            bucket[bucket_index]=max(bucket[bucket_index],cont_zero)\n",
    "                \n",
    "    M = np.array(bucket)\n",
    "    s = np.sum(np.float_power(2, -M))**-1\n",
    "    \n",
    "    alpha = 0.7213/(1+1.079/m)             #alpha\n",
    "    card=alpha*(m**2)*s                    #cardinality\n",
    "    err=1.04/math.sqrt(m)                  #error\n",
    "    \n",
    "    return card,err"
   ]
  },
  {
   "cell_type": "code",
   "execution_count": 189,
   "metadata": {},
   "outputs": [],
   "source": [
    "f=open('hash.txt','r', encoding='utf-8')"
   ]
  },
  {
   "cell_type": "code",
   "execution_count": 190,
   "metadata": {
    "scrolled": true
   },
   "outputs": [
    {
     "name": "stderr",
     "output_type": "stream",
     "text": [
      "100%|██████████| 139000000/139000000 [36:36<00:00, 63275.85it/s] \n"
     ]
    }
   ],
   "source": [
    "card,err=hyper_log_log_version(f)"
   ]
  },
  {
   "cell_type": "code",
   "execution_count": 191,
   "metadata": {},
   "outputs": [],
   "source": [
    "f.close()"
   ]
  },
  {
   "cell_type": "code",
   "execution_count": 192,
   "metadata": {},
   "outputs": [
    {
     "name": "stdout",
     "output_type": "stream",
     "text": [
      "63810458.31323689\n"
     ]
    }
   ],
   "source": [
    "print(card)"
   ]
  },
  {
   "cell_type": "code",
   "execution_count": 194,
   "metadata": {},
   "outputs": [
    {
     "name": "stdout",
     "output_type": "stream",
     "text": [
      "0.01625\n"
     ]
    }
   ],
   "source": [
    "print(err)"
   ]
  },
  {
   "cell_type": "markdown",
   "metadata": {},
   "source": [
    "# Question 3 - Sorting Algorithm"
   ]
  },
  {
   "cell_type": "markdown",
   "metadata": {},
   "source": [
    "Given an array with **A** with n integer numbers, we define : \n",
    "\n",
    "> $ s = min{ A[1], ..., A[n] }$ -> the minimum value of the array, \n",
    "\n",
    "> $ b = max { A[1], ..., A[n] }$ -> the maximum value of the array,\n",
    "\n",
    "> $ r= b-s$ -> the difference between max and min value\n",
    "\n",
    "We create a second vector $B$ of length r+1 which contains the number of times that each value from s to b appears in $A$ .In this way the first element of $B$ represent the number of times that $s=min(A)$ appears ,consequently $B[i]$ represent the number of times that $i+min(A)$ appears in $A$. After visiting $A$ , starting from $B[0]$ we write on $A$ ,$B[i]$ copies of the value $i+min(A)$.\n",
    "\n",
    "The complexity can be found looking ot the python code of this algorithm."
   ]
  },
  {
   "cell_type": "code",
   "execution_count": 45,
   "metadata": {},
   "outputs": [],
   "source": [
    "def sorting(A):\n",
    "    print('Initial array                      ',A)\n",
    "    s=min(A)\n",
    "    b=max(A)\n",
    "    r=b-s\n",
    "    B=[0]*(r+1)\n",
    "    \n",
    "    for i in range(len(A)):\n",
    "        B[A[i]-s]+=1\n",
    "    print('Temporary array of the occurencies ',B)\n",
    "    j=0\n",
    "    for i in range(r+1):\n",
    "        while B[i]!=0:\n",
    "            A[j]=i+s\n",
    "            B[i]-=1\n",
    "            j+=1\n",
    "    print('Ordered array                      ',A)"
   ]
  },
  {
   "cell_type": "code",
   "execution_count": 48,
   "metadata": {},
   "outputs": [],
   "source": [
    "C=[4,2,8,10,3,3,5,6]"
   ]
  },
  {
   "cell_type": "code",
   "execution_count": 49,
   "metadata": {},
   "outputs": [
    {
     "name": "stdout",
     "output_type": "stream",
     "text": [
      "Initial array                       [4, 2, 8, 10, 3, 3, 5, 6]\n",
      "Temporary array of the occurencies  [1, 2, 1, 1, 1, 0, 1, 0, 1]\n",
      "Ordered array                       [2, 3, 3, 4, 5, 6, 8, 10]\n"
     ]
    }
   ],
   "source": [
    "sorting(C)"
   ]
  },
  {
   "cell_type": "markdown",
   "metadata": {},
   "source": [
    "As we can see in the code we have to looking for the min and max ,this operations have a complexity of $O(n)$ while we have to visit all the array A.(Here we use buit-in function but in general we can calculate min and max visiting A only one time).\n",
    "\n",
    "For creating B we need an other time n operations.\n",
    "\n",
    "Then the last for look requires r+1 operations for overwriting A.\n",
    "\n",
    "Leaving out constant operations such as {print,assignment,index incresement...},the final complexity is $O(n+r)$\n",
    "\n"
   ]
  }
 ],
 "metadata": {
  "kernelspec": {
   "display_name": "Python 3",
   "language": "python",
   "name": "python3"
  },
  "language_info": {
   "codemirror_mode": {
    "name": "ipython",
    "version": 3
   },
   "file_extension": ".py",
   "mimetype": "text/x-python",
   "name": "python",
   "nbconvert_exporter": "python",
   "pygments_lexer": "ipython3",
   "version": "3.7.7"
  }
 },
 "nbformat": 4,
 "nbformat_minor": 4
}
