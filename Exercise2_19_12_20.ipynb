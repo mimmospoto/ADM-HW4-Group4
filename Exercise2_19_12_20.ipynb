{
 "cells": [
  {
   "cell_type": "markdown",
   "metadata": {},
   "source": [
    "# Clustering"
   ]
  },
  {
   "cell_type": "code",
   "execution_count": 8,
   "metadata": {},
   "outputs": [],
   "source": [
    "# Useful libraries\n",
    "import pandas as pd\n",
    "import pickle\n",
    "import ast\n",
    "from tqdm import tqdm\n",
    "from collections import Counter\n",
    "from collections import defaultdict\n",
    "from nltk.corpus import stopwords\n",
    "from nltk.tokenize import word_tokenize\n",
    "from nltk.stem import SnowballStemmer\n",
    "from nltk.tokenize import RegexpTokenizer\n",
    "import numpy as np\n",
    "from scipy import sparse\n",
    "import matplotlib.pyplot as plt\n",
    "import scipy.sparse as sp\n",
    "tqdm.pandas()"
   ]
  },
  {
   "cell_type": "markdown",
   "metadata": {},
   "source": [
    "# Read the dataset"
   ]
  },
  {
   "cell_type": "code",
   "execution_count": 2,
   "metadata": {},
   "outputs": [],
   "source": [
    "df=pd.read_csv('Reviews.csv')"
   ]
  },
  {
   "cell_type": "code",
   "execution_count": 3,
   "metadata": {},
   "outputs": [
    {
     "data": {
      "text/html": [
       "<div>\n",
       "<style scoped>\n",
       "    .dataframe tbody tr th:only-of-type {\n",
       "        vertical-align: middle;\n",
       "    }\n",
       "\n",
       "    .dataframe tbody tr th {\n",
       "        vertical-align: top;\n",
       "    }\n",
       "\n",
       "    .dataframe thead th {\n",
       "        text-align: right;\n",
       "    }\n",
       "</style>\n",
       "<table border=\"1\" class=\"dataframe\">\n",
       "  <thead>\n",
       "    <tr style=\"text-align: right;\">\n",
       "      <th></th>\n",
       "      <th>Id</th>\n",
       "      <th>ProductId</th>\n",
       "      <th>UserId</th>\n",
       "      <th>ProfileName</th>\n",
       "      <th>HelpfulnessNumerator</th>\n",
       "      <th>HelpfulnessDenominator</th>\n",
       "      <th>Score</th>\n",
       "      <th>Time</th>\n",
       "      <th>Summary</th>\n",
       "      <th>Text</th>\n",
       "    </tr>\n",
       "  </thead>\n",
       "  <tbody>\n",
       "    <tr>\n",
       "      <th>0</th>\n",
       "      <td>1</td>\n",
       "      <td>B001E4KFG0</td>\n",
       "      <td>A3SGXH7AUHU8GW</td>\n",
       "      <td>delmartian</td>\n",
       "      <td>1</td>\n",
       "      <td>1</td>\n",
       "      <td>5</td>\n",
       "      <td>1303862400</td>\n",
       "      <td>Good Quality Dog Food</td>\n",
       "      <td>I have bought several of the Vitality canned d...</td>\n",
       "    </tr>\n",
       "    <tr>\n",
       "      <th>1</th>\n",
       "      <td>2</td>\n",
       "      <td>B00813GRG4</td>\n",
       "      <td>A1D87F6ZCVE5NK</td>\n",
       "      <td>dll pa</td>\n",
       "      <td>0</td>\n",
       "      <td>0</td>\n",
       "      <td>1</td>\n",
       "      <td>1346976000</td>\n",
       "      <td>Not as Advertised</td>\n",
       "      <td>Product arrived labeled as Jumbo Salted Peanut...</td>\n",
       "    </tr>\n",
       "    <tr>\n",
       "      <th>2</th>\n",
       "      <td>3</td>\n",
       "      <td>B000LQOCH0</td>\n",
       "      <td>ABXLMWJIXXAIN</td>\n",
       "      <td>Natalia Corres \"Natalia Corres\"</td>\n",
       "      <td>1</td>\n",
       "      <td>1</td>\n",
       "      <td>4</td>\n",
       "      <td>1219017600</td>\n",
       "      <td>\"Delight\" says it all</td>\n",
       "      <td>This is a confection that has been around a fe...</td>\n",
       "    </tr>\n",
       "    <tr>\n",
       "      <th>3</th>\n",
       "      <td>4</td>\n",
       "      <td>B000UA0QIQ</td>\n",
       "      <td>A395BORC6FGVXV</td>\n",
       "      <td>Karl</td>\n",
       "      <td>3</td>\n",
       "      <td>3</td>\n",
       "      <td>2</td>\n",
       "      <td>1307923200</td>\n",
       "      <td>Cough Medicine</td>\n",
       "      <td>If you are looking for the secret ingredient i...</td>\n",
       "    </tr>\n",
       "    <tr>\n",
       "      <th>4</th>\n",
       "      <td>5</td>\n",
       "      <td>B006K2ZZ7K</td>\n",
       "      <td>A1UQRSCLF8GW1T</td>\n",
       "      <td>Michael D. Bigham \"M. Wassir\"</td>\n",
       "      <td>0</td>\n",
       "      <td>0</td>\n",
       "      <td>5</td>\n",
       "      <td>1350777600</td>\n",
       "      <td>Great taffy</td>\n",
       "      <td>Great taffy at a great price.  There was a wid...</td>\n",
       "    </tr>\n",
       "  </tbody>\n",
       "</table>\n",
       "</div>"
      ],
      "text/plain": [
       "   Id   ProductId          UserId                      ProfileName  \\\n",
       "0   1  B001E4KFG0  A3SGXH7AUHU8GW                       delmartian   \n",
       "1   2  B00813GRG4  A1D87F6ZCVE5NK                           dll pa   \n",
       "2   3  B000LQOCH0   ABXLMWJIXXAIN  Natalia Corres \"Natalia Corres\"   \n",
       "3   4  B000UA0QIQ  A395BORC6FGVXV                             Karl   \n",
       "4   5  B006K2ZZ7K  A1UQRSCLF8GW1T    Michael D. Bigham \"M. Wassir\"   \n",
       "\n",
       "   HelpfulnessNumerator  HelpfulnessDenominator  Score        Time  \\\n",
       "0                     1                       1      5  1303862400   \n",
       "1                     0                       0      1  1346976000   \n",
       "2                     1                       1      4  1219017600   \n",
       "3                     3                       3      2  1307923200   \n",
       "4                     0                       0      5  1350777600   \n",
       "\n",
       "                 Summary                                               Text  \n",
       "0  Good Quality Dog Food  I have bought several of the Vitality canned d...  \n",
       "1      Not as Advertised  Product arrived labeled as Jumbo Salted Peanut...  \n",
       "2  \"Delight\" says it all  This is a confection that has been around a fe...  \n",
       "3         Cough Medicine  If you are looking for the secret ingredient i...  \n",
       "4            Great taffy  Great taffy at a great price.  There was a wid...  "
      ]
     },
     "execution_count": 3,
     "metadata": {},
     "output_type": "execute_result"
    }
   ],
   "source": [
    "df.head()"
   ]
  },
  {
   "cell_type": "markdown",
   "metadata": {},
   "source": [
    "Number of unique products"
   ]
  },
  {
   "cell_type": "code",
   "execution_count": 4,
   "metadata": {},
   "outputs": [
    {
     "data": {
      "text/plain": [
       "74258"
      ]
     },
     "execution_count": 4,
     "metadata": {},
     "output_type": "execute_result"
    }
   ],
   "source": [
    "df.ProductId.nunique()"
   ]
  },
  {
   "cell_type": "markdown",
   "metadata": {},
   "source": [
    "Number of total reviews"
   ]
  },
  {
   "cell_type": "code",
   "execution_count": 5,
   "metadata": {},
   "outputs": [
    {
     "data": {
      "text/plain": [
       "568454"
      ]
     },
     "execution_count": 5,
     "metadata": {},
     "output_type": "execute_result"
    }
   ],
   "source": [
    "len(df)"
   ]
  },
  {
   "cell_type": "markdown",
   "metadata": {},
   "source": [
    "Throught a deep analysis on the products we noted that there are some duplicates ,for example the same User published the same rewiew at the same time for products which belong to the same family but having different flavour(chocolate,nut,vanilla...) or different size packaging(package of 8,16,32 pieces).We decide to mantain only one unique review for this family product."
   ]
  },
  {
   "cell_type": "code",
   "execution_count": 6,
   "metadata": {},
   "outputs": [],
   "source": [
    "sorted_data=df.sort_values('ProductId', axis=0, ascending=True, inplace=False, kind='quicksort', na_position='last')"
   ]
  },
  {
   "cell_type": "code",
   "execution_count": 8,
   "metadata": {},
   "outputs": [
    {
     "data": {
      "text/plain": [
       "(393933, 10)"
      ]
     },
     "execution_count": 8,
     "metadata": {},
     "output_type": "execute_result"
    }
   ],
   "source": [
    "final=sorted_data.drop_duplicates(subset={\"UserId\",\"ProfileName\",\"Time\",\"Text\"}, keep='first', inplace=False)\n",
    "final.shape"
   ]
  },
  {
   "cell_type": "code",
   "execution_count": 20,
   "metadata": {},
   "outputs": [
    {
     "data": {
      "text/html": [
       "<div>\n",
       "<style scoped>\n",
       "    .dataframe tbody tr th:only-of-type {\n",
       "        vertical-align: middle;\n",
       "    }\n",
       "\n",
       "    .dataframe tbody tr th {\n",
       "        vertical-align: top;\n",
       "    }\n",
       "\n",
       "    .dataframe thead th {\n",
       "        text-align: right;\n",
       "    }\n",
       "</style>\n",
       "<table border=\"1\" class=\"dataframe\">\n",
       "  <thead>\n",
       "    <tr style=\"text-align: right;\">\n",
       "      <th></th>\n",
       "      <th>Id</th>\n",
       "      <th>ProductId</th>\n",
       "      <th>UserId</th>\n",
       "      <th>ProfileName</th>\n",
       "      <th>HelpfulnessNumerator</th>\n",
       "      <th>HelpfulnessDenominator</th>\n",
       "      <th>Score</th>\n",
       "      <th>Time</th>\n",
       "      <th>Summary</th>\n",
       "      <th>Text</th>\n",
       "    </tr>\n",
       "  </thead>\n",
       "  <tbody>\n",
       "    <tr>\n",
       "      <th>150528</th>\n",
       "      <td>150529</td>\n",
       "      <td>0006641040</td>\n",
       "      <td>A25ACLV5KPB4W</td>\n",
       "      <td>Matt Hetling \"Matt\"</td>\n",
       "      <td>0</td>\n",
       "      <td>1</td>\n",
       "      <td>4</td>\n",
       "      <td>1108425600</td>\n",
       "      <td>Nice cadence, catchy rhymes</td>\n",
       "      <td>In June&lt;br /&gt;I saw a charming group&lt;br /&gt;of ro...</td>\n",
       "    </tr>\n",
       "    <tr>\n",
       "      <th>150506</th>\n",
       "      <td>150507</td>\n",
       "      <td>0006641040</td>\n",
       "      <td>A1S4A3IQ2MU7V4</td>\n",
       "      <td>sally sue \"sally sue\"</td>\n",
       "      <td>1</td>\n",
       "      <td>1</td>\n",
       "      <td>4</td>\n",
       "      <td>1191456000</td>\n",
       "      <td>chicken soup with rice months</td>\n",
       "      <td>This is a fun way for children to learn their ...</td>\n",
       "    </tr>\n",
       "    <tr>\n",
       "      <th>150505</th>\n",
       "      <td>150506</td>\n",
       "      <td>0006641040</td>\n",
       "      <td>A2IW4PEEKO2R0U</td>\n",
       "      <td>Tracy</td>\n",
       "      <td>1</td>\n",
       "      <td>1</td>\n",
       "      <td>4</td>\n",
       "      <td>1194739200</td>\n",
       "      <td>Love the book, miss the hard cover version</td>\n",
       "      <td>I grew up reading these Sendak books, and watc...</td>\n",
       "    </tr>\n",
       "    <tr>\n",
       "      <th>150504</th>\n",
       "      <td>150505</td>\n",
       "      <td>0006641040</td>\n",
       "      <td>A2PTSM496CF40Z</td>\n",
       "      <td>Jason A. Teeple \"Nobody made a greater mistak...</td>\n",
       "      <td>1</td>\n",
       "      <td>1</td>\n",
       "      <td>4</td>\n",
       "      <td>1210809600</td>\n",
       "      <td>A classic</td>\n",
       "      <td>Get the movie or sound track and sing along wi...</td>\n",
       "    </tr>\n",
       "    <tr>\n",
       "      <th>150503</th>\n",
       "      <td>150504</td>\n",
       "      <td>0006641040</td>\n",
       "      <td>AQEYF1AXARWJZ</td>\n",
       "      <td>Les Sinclair \"book maven\"</td>\n",
       "      <td>1</td>\n",
       "      <td>1</td>\n",
       "      <td>4</td>\n",
       "      <td>1212278400</td>\n",
       "      <td>Chicken Soup with Rice</td>\n",
       "      <td>A very entertaining rhyming story--cleaver and...</td>\n",
       "    </tr>\n",
       "  </tbody>\n",
       "</table>\n",
       "</div>"
      ],
      "text/plain": [
       "            Id   ProductId          UserId  \\\n",
       "150528  150529  0006641040   A25ACLV5KPB4W   \n",
       "150506  150507  0006641040  A1S4A3IQ2MU7V4   \n",
       "150505  150506  0006641040  A2IW4PEEKO2R0U   \n",
       "150504  150505  0006641040  A2PTSM496CF40Z   \n",
       "150503  150504  0006641040   AQEYF1AXARWJZ   \n",
       "\n",
       "                                             ProfileName  \\\n",
       "150528                               Matt Hetling \"Matt\"   \n",
       "150506                             sally sue \"sally sue\"   \n",
       "150505                                             Tracy   \n",
       "150504  Jason A. Teeple \"Nobody made a greater mistak...   \n",
       "150503                         Les Sinclair \"book maven\"   \n",
       "\n",
       "        HelpfulnessNumerator  HelpfulnessDenominator  Score        Time  \\\n",
       "150528                     0                       1      4  1108425600   \n",
       "150506                     1                       1      4  1191456000   \n",
       "150505                     1                       1      4  1194739200   \n",
       "150504                     1                       1      4  1210809600   \n",
       "150503                     1                       1      4  1212278400   \n",
       "\n",
       "                                           Summary  \\\n",
       "150528                 Nice cadence, catchy rhymes   \n",
       "150506               chicken soup with rice months   \n",
       "150505  Love the book, miss the hard cover version   \n",
       "150504                                   A classic   \n",
       "150503                      Chicken Soup with Rice   \n",
       "\n",
       "                                                     Text  \n",
       "150528  In June<br />I saw a charming group<br />of ro...  \n",
       "150506  This is a fun way for children to learn their ...  \n",
       "150505  I grew up reading these Sendak books, and watc...  \n",
       "150504  Get the movie or sound track and sing along wi...  \n",
       "150503  A very entertaining rhyming story--cleaver and...  "
      ]
     },
     "execution_count": 20,
     "metadata": {},
     "output_type": "execute_result"
    }
   ],
   "source": [
    "final.head()"
   ]
  },
  {
   "cell_type": "markdown",
   "metadata": {},
   "source": [
    "Then we decide to merge all the reviews written by different Users but refered to the same product.This passage is necessary for the future clustering operations,otherwise the same product can belong to differet clusters."
   ]
  },
  {
   "cell_type": "code",
   "execution_count": 10,
   "metadata": {},
   "outputs": [],
   "source": [
    "final_series=final.groupby('ProductId').Text.apply(lambda x :','.join(x))"
   ]
  },
  {
   "cell_type": "code",
   "execution_count": 11,
   "metadata": {},
   "outputs": [],
   "source": [
    "final_df=pd.DataFrame(final_series).reset_index()"
   ]
  },
  {
   "cell_type": "code",
   "execution_count": 12,
   "metadata": {},
   "outputs": [
    {
     "data": {
      "text/html": [
       "<div>\n",
       "<style scoped>\n",
       "    .dataframe tbody tr th:only-of-type {\n",
       "        vertical-align: middle;\n",
       "    }\n",
       "\n",
       "    .dataframe tbody tr th {\n",
       "        vertical-align: top;\n",
       "    }\n",
       "\n",
       "    .dataframe thead th {\n",
       "        text-align: right;\n",
       "    }\n",
       "</style>\n",
       "<table border=\"1\" class=\"dataframe\">\n",
       "  <thead>\n",
       "    <tr style=\"text-align: right;\">\n",
       "      <th></th>\n",
       "      <th>ProductId</th>\n",
       "      <th>Text</th>\n",
       "    </tr>\n",
       "  </thead>\n",
       "  <tbody>\n",
       "    <tr>\n",
       "      <th>0</th>\n",
       "      <td>0006641040</td>\n",
       "      <td>In June&lt;br /&gt;I saw a charming group&lt;br /&gt;of ro...</td>\n",
       "    </tr>\n",
       "    <tr>\n",
       "      <th>1</th>\n",
       "      <td>141278509X</td>\n",
       "      <td>This product by Archer Farms is the best drink...</td>\n",
       "    </tr>\n",
       "    <tr>\n",
       "      <th>2</th>\n",
       "      <td>2734888454</td>\n",
       "      <td>My dogs loves this chicken but its a product f...</td>\n",
       "    </tr>\n",
       "    <tr>\n",
       "      <th>3</th>\n",
       "      <td>2841233731</td>\n",
       "      <td>This book is easy to read and the ingredients ...</td>\n",
       "    </tr>\n",
       "    <tr>\n",
       "      <th>4</th>\n",
       "      <td>7310172001</td>\n",
       "      <td>My dogs love these treats. The only problems I...</td>\n",
       "    </tr>\n",
       "    <tr>\n",
       "      <th>...</th>\n",
       "      <td>...</td>\n",
       "      <td>...</td>\n",
       "    </tr>\n",
       "    <tr>\n",
       "      <th>67552</th>\n",
       "      <td>B009RSR8HO</td>\n",
       "      <td>I've been using Fat to Skinny Zero since it wa...</td>\n",
       "    </tr>\n",
       "    <tr>\n",
       "      <th>67553</th>\n",
       "      <td>B009SF0TN6</td>\n",
       "      <td>You have to try this sauce to believe it! It s...</td>\n",
       "    </tr>\n",
       "    <tr>\n",
       "      <th>67554</th>\n",
       "      <td>B009SR4OQ2</td>\n",
       "      <td>I bought this Hazelnut Paste (Nocciola Spread)...</td>\n",
       "    </tr>\n",
       "    <tr>\n",
       "      <th>67555</th>\n",
       "      <td>B009WSNWC4</td>\n",
       "      <td>Purchased this product at a local store in NY ...</td>\n",
       "    </tr>\n",
       "    <tr>\n",
       "      <th>67556</th>\n",
       "      <td>B009WVB40S</td>\n",
       "      <td>I purchased this to send to my son who's away ...</td>\n",
       "    </tr>\n",
       "  </tbody>\n",
       "</table>\n",
       "<p>67557 rows × 2 columns</p>\n",
       "</div>"
      ],
      "text/plain": [
       "        ProductId                                               Text\n",
       "0      0006641040  In June<br />I saw a charming group<br />of ro...\n",
       "1      141278509X  This product by Archer Farms is the best drink...\n",
       "2      2734888454  My dogs loves this chicken but its a product f...\n",
       "3      2841233731  This book is easy to read and the ingredients ...\n",
       "4      7310172001  My dogs love these treats. The only problems I...\n",
       "...           ...                                                ...\n",
       "67552  B009RSR8HO  I've been using Fat to Skinny Zero since it wa...\n",
       "67553  B009SF0TN6  You have to try this sauce to believe it! It s...\n",
       "67554  B009SR4OQ2  I bought this Hazelnut Paste (Nocciola Spread)...\n",
       "67555  B009WSNWC4  Purchased this product at a local store in NY ...\n",
       "67556  B009WVB40S  I purchased this to send to my son who's away ...\n",
       "\n",
       "[67557 rows x 2 columns]"
      ]
     },
     "execution_count": 12,
     "metadata": {},
     "output_type": "execute_result"
    }
   ],
   "source": [
    "final_df"
   ]
  },
  {
   "cell_type": "markdown",
   "metadata": {},
   "source": [
    "# Preprocessing \n",
    "\n",
    "At this point we have an organized dataset and we can preprocess all the reviews,for example removing stopwords,normalizing and keep only the stem of each word.\n",
    "\n",
    "Then we decide to remove all the words with length of 2 or less ,because with a quickly visual analysis we discover that there are some writing mistakes made by the Users or some special review such : **'G-R-E-A-T-P-R-O-D-U-C-T'** and we don't want to consider this special cases."
   ]
  },
  {
   "cell_type": "code",
   "execution_count": 14,
   "metadata": {},
   "outputs": [
    {
     "name": "stderr",
     "output_type": "stream",
     "text": [
      "100%|███████████████████████████████████| 67557/67557 [08:45<00:00, 128.56it/s]\n"
     ]
    }
   ],
   "source": [
    "tokenizer = RegexpTokenizer(r'[a-z]+') \n",
    "stop_words = set(stopwords.words(\"english\"))\n",
    "stemmer= SnowballStemmer(\"english\") # PorterStemmer \n",
    "new_text = []\n",
    "for text in tqdm(final_df['Text']):\n",
    "    words=tokenizer.tokenize(text.lower())\n",
    "    tokens_without_sw = [stemmer.stem(word) for word in words if word not in stop_words]\n",
    "    for t in tokens_without_sw:\n",
    "        if len(t)<=2:\n",
    "            tokens_without_sw.remove(t)\n",
    "    new_text.append(tokens_without_sw)\n",
    "    "
   ]
  },
  {
   "cell_type": "code",
   "execution_count": 25,
   "metadata": {},
   "outputs": [],
   "source": [
    "final_df['Reviews_Text'] = new_text"
   ]
  },
  {
   "cell_type": "code",
   "execution_count": 26,
   "metadata": {},
   "outputs": [],
   "source": [
    "final_df.drop(columns=['Text'],inplace=True)"
   ]
  },
  {
   "cell_type": "code",
   "execution_count": 27,
   "metadata": {},
   "outputs": [
    {
     "data": {
      "text/html": [
       "<div>\n",
       "<style scoped>\n",
       "    .dataframe tbody tr th:only-of-type {\n",
       "        vertical-align: middle;\n",
       "    }\n",
       "\n",
       "    .dataframe tbody tr th {\n",
       "        vertical-align: top;\n",
       "    }\n",
       "\n",
       "    .dataframe thead th {\n",
       "        text-align: right;\n",
       "    }\n",
       "</style>\n",
       "<table border=\"1\" class=\"dataframe\">\n",
       "  <thead>\n",
       "    <tr style=\"text-align: right;\">\n",
       "      <th></th>\n",
       "      <th>ProductId</th>\n",
       "      <th>Reviews_Text</th>\n",
       "    </tr>\n",
       "  </thead>\n",
       "  <tbody>\n",
       "    <tr>\n",
       "      <th>0</th>\n",
       "      <td>0006641040</td>\n",
       "      <td>[june, saw, charm, group, rose, begin, droop, ...</td>\n",
       "    </tr>\n",
       "    <tr>\n",
       "      <th>1</th>\n",
       "      <td>141278509X</td>\n",
       "      <td>[product, archer, farm, best, drink, mix, ever...</td>\n",
       "    </tr>\n",
       "    <tr>\n",
       "      <th>2</th>\n",
       "      <td>2734888454</td>\n",
       "      <td>[dog, love, chicken, product, china, wont, buy...</td>\n",
       "    </tr>\n",
       "    <tr>\n",
       "      <th>3</th>\n",
       "      <td>2841233731</td>\n",
       "      <td>[book, easi, read, ingredi, avail, store, unli...</td>\n",
       "    </tr>\n",
       "    <tr>\n",
       "      <th>4</th>\n",
       "      <td>7310172001</td>\n",
       "      <td>[dog, love, treat, problem, encount, left, pow...</td>\n",
       "    </tr>\n",
       "  </tbody>\n",
       "</table>\n",
       "</div>"
      ],
      "text/plain": [
       "    ProductId                                       Reviews_Text\n",
       "0  0006641040  [june, saw, charm, group, rose, begin, droop, ...\n",
       "1  141278509X  [product, archer, farm, best, drink, mix, ever...\n",
       "2  2734888454  [dog, love, chicken, product, china, wont, buy...\n",
       "3  2841233731  [book, easi, read, ingredi, avail, store, unli...\n",
       "4  7310172001  [dog, love, treat, problem, encount, left, pow..."
      ]
     },
     "execution_count": 27,
     "metadata": {},
     "output_type": "execute_result"
    }
   ],
   "source": [
    "final_df.head()"
   ]
  },
  {
   "cell_type": "code",
   "execution_count": 28,
   "metadata": {},
   "outputs": [],
   "source": [
    "final_df.to_csv('Final_df.csv')"
   ]
  },
  {
   "cell_type": "markdown",
   "metadata": {},
   "source": [
    "## Upload the preprocessed dataset"
   ]
  },
  {
   "cell_type": "code",
   "execution_count": 3,
   "metadata": {},
   "outputs": [],
   "source": [
    "df=pd.read_csv('Final_df.csv',index_col=0)"
   ]
  },
  {
   "cell_type": "code",
   "execution_count": 4,
   "metadata": {},
   "outputs": [
    {
     "data": {
      "text/html": [
       "<div>\n",
       "<style scoped>\n",
       "    .dataframe tbody tr th:only-of-type {\n",
       "        vertical-align: middle;\n",
       "    }\n",
       "\n",
       "    .dataframe tbody tr th {\n",
       "        vertical-align: top;\n",
       "    }\n",
       "\n",
       "    .dataframe thead th {\n",
       "        text-align: right;\n",
       "    }\n",
       "</style>\n",
       "<table border=\"1\" class=\"dataframe\">\n",
       "  <thead>\n",
       "    <tr style=\"text-align: right;\">\n",
       "      <th></th>\n",
       "      <th>ProductId</th>\n",
       "      <th>Reviews_Text</th>\n",
       "    </tr>\n",
       "  </thead>\n",
       "  <tbody>\n",
       "    <tr>\n",
       "      <th>0</th>\n",
       "      <td>0006641040</td>\n",
       "      <td>['june', 'saw', 'charm', 'group', 'rose', 'beg...</td>\n",
       "    </tr>\n",
       "    <tr>\n",
       "      <th>1</th>\n",
       "      <td>141278509X</td>\n",
       "      <td>['product', 'archer', 'farm', 'best', 'drink',...</td>\n",
       "    </tr>\n",
       "    <tr>\n",
       "      <th>2</th>\n",
       "      <td>2734888454</td>\n",
       "      <td>['dog', 'love', 'chicken', 'product', 'china',...</td>\n",
       "    </tr>\n",
       "    <tr>\n",
       "      <th>3</th>\n",
       "      <td>2841233731</td>\n",
       "      <td>['book', 'easi', 'read', 'ingredi', 'avail', '...</td>\n",
       "    </tr>\n",
       "    <tr>\n",
       "      <th>4</th>\n",
       "      <td>7310172001</td>\n",
       "      <td>['dog', 'love', 'treat', 'problem', 'encount',...</td>\n",
       "    </tr>\n",
       "  </tbody>\n",
       "</table>\n",
       "</div>"
      ],
      "text/plain": [
       "    ProductId                                       Reviews_Text\n",
       "0  0006641040  ['june', 'saw', 'charm', 'group', 'rose', 'beg...\n",
       "1  141278509X  ['product', 'archer', 'farm', 'best', 'drink',...\n",
       "2  2734888454  ['dog', 'love', 'chicken', 'product', 'china',...\n",
       "3  2841233731  ['book', 'easi', 'read', 'ingredi', 'avail', '...\n",
       "4  7310172001  ['dog', 'love', 'treat', 'problem', 'encount',..."
      ]
     },
     "execution_count": 4,
     "metadata": {},
     "output_type": "execute_result"
    }
   ],
   "source": [
    "df.head()"
   ]
  },
  {
   "cell_type": "code",
   "execution_count": 7,
   "metadata": {},
   "outputs": [
    {
     "name": "stderr",
     "output_type": "stream",
     "text": [
      "100%|███████████████████████████████████| 67557/67557 [01:14<00:00, 909.86it/s]\n"
     ]
    }
   ],
   "source": [
    "#for reading the column Reviews_Text as list\n",
    "df['Reviews_Text']=df.Reviews_Text.progress_apply(lambda s: list(ast.literal_eval(s)))"
   ]
  },
  {
   "cell_type": "markdown",
   "metadata": {},
   "source": [
    "## Creating our TF_IDF\n",
    "First we count the number of documents in which every word appears ,this is useful for the computation of tfidf score."
   ]
  },
  {
   "cell_type": "code",
   "execution_count": 9,
   "metadata": {},
   "outputs": [
    {
     "name": "stderr",
     "output_type": "stream",
     "text": [
      "100%|██████████████████████████████████| 67557/67557 [00:09<00:00, 7390.93it/s]\n"
     ]
    }
   ],
   "source": [
    "# word_id:number of documents in which it is\n",
    "word_numberdoc = {}\n",
    "\n",
    "for text in tqdm(df['Reviews_Text']):\n",
    "    p = list(set(text))\n",
    "    for word in p:\n",
    "        if word in word_numberdoc:\n",
    "            word_numberdoc[word]+=1\n",
    "        else:\n",
    "            word_numberdoc[word]=1  \n"
   ]
  },
  {
   "cell_type": "code",
   "execution_count": 10,
   "metadata": {},
   "outputs": [
    {
     "data": {
      "text/plain": [
       "78973"
      ]
     },
     "execution_count": 10,
     "metadata": {},
     "output_type": "execute_result"
    }
   ],
   "source": [
    "len(word_numberdoc)"
   ]
  },
  {
   "cell_type": "code",
   "execution_count": null,
   "metadata": {},
   "outputs": [],
   "source": [
    "with open('word_numberdoc.pkl', 'wb') as handle:\n",
    "    pickle.dump(word_numberdoc, handle)"
   ]
  },
  {
   "cell_type": "markdown",
   "metadata": {},
   "source": [
    "We decide to mantain all that words that are at least in 10 reviews and at most in 100000 reviews. This choice is made because the words which are in few reviews aren't meaningful or they have a writing mistake. Instead words that appeas in too many reviews caracterize almost all the product so they aren't so important for the clustering. The result is saved in separated dict."
   ]
  },
  {
   "cell_type": "code",
   "execution_count": 16,
   "metadata": {},
   "outputs": [
    {
     "name": "stderr",
     "output_type": "stream",
     "text": [
      "100%|████████████████████████████████| 78973/78973 [00:00<00:00, 724480.37it/s]\n"
     ]
    }
   ],
   "source": [
    "word_numberdoc_useful = {}\n",
    "\n",
    "for key, value in tqdm(word_numberdoc.items()):\n",
    "    if value >= 10 and value <= 100000:\n",
    "        word_numberdoc_useful[key] = value"
   ]
  },
  {
   "cell_type": "code",
   "execution_count": 17,
   "metadata": {},
   "outputs": [
    {
     "data": {
      "text/plain": [
       "14573"
      ]
     },
     "execution_count": 17,
     "metadata": {},
     "output_type": "execute_result"
    }
   ],
   "source": [
    "len(word_numberdoc_useful)"
   ]
  },
  {
   "cell_type": "markdown",
   "metadata": {},
   "source": [
    "Excluding the words with low document frequency and with high frequency,we reduce the original number of words from approximately 78900 to 14573.\n"
   ]
  },
  {
   "cell_type": "code",
   "execution_count": null,
   "metadata": {},
   "outputs": [],
   "source": [
    "with open('word_numberdoc_useful.pkl', 'wb') as handle:\n",
    "    pickle.dump(word_numberdoc_useful, handle)"
   ]
  },
  {
   "cell_type": "code",
   "execution_count": 49,
   "metadata": {},
   "outputs": [],
   "source": [
    "with open('word_numberdoc_useful.pkl', 'rb') as handle:\n",
    "    word_numberdoc_useful = pickle.load(handle)"
   ]
  },
  {
   "cell_type": "markdown",
   "metadata": {},
   "source": [
    "We map all the word with an integer and save them in a vocabulary"
   ]
  },
  {
   "cell_type": "code",
   "execution_count": 18,
   "metadata": {},
   "outputs": [],
   "source": [
    "useful_vocabulary={}\n",
    "for i,word in enumerate(word_numberdoc_useful):\n",
    "    useful_vocabulary[word]=i    "
   ]
  },
  {
   "cell_type": "code",
   "execution_count": null,
   "metadata": {},
   "outputs": [],
   "source": [
    "with open('useful_vocabulary.pkl', 'wb') as handle:\n",
    "    pickle.dump(useful_vocabulary, handle)"
   ]
  },
  {
   "cell_type": "code",
   "execution_count": 6,
   "metadata": {},
   "outputs": [],
   "source": [
    "with open('useful_vocabulary.pkl', 'rb') as handle:\n",
    "    useful_vocabulary = pickle.load(handle)"
   ]
  },
  {
   "cell_type": "markdown",
   "metadata": {},
   "source": [
    "Only for this words we calculate the tfidf"
   ]
  },
  {
   "cell_type": "code",
   "execution_count": 20,
   "metadata": {},
   "outputs": [
    {
     "name": "stderr",
     "output_type": "stream",
     "text": [
      "100%|███████████████████████████████████| 67557/67557 [02:08<00:00, 524.36it/s]\n"
     ]
    }
   ],
   "source": [
    "# create an inverted index with tfidf scoring\n",
    "# - keys: index number of a word\n",
    "# - values: {book in which the word appears, score of the word with respect to the book}\n",
    "N_doc = len(df)\n",
    "tfidf = defaultdict(list)\n",
    "\n",
    "count = 0\n",
    "for text in tqdm(df['Reviews_Text']):\n",
    "    n=len(text)\n",
    "    n_ij=dict(Counter(text))\n",
    "    for word in n_ij:\n",
    "        if word in word_numberdoc_useful.keys():\n",
    "            tf=n_ij[word]/n\n",
    "            Idf=np.log(N_doc/word_numberdoc_useful[word])\n",
    "            tfidf[useful_vocabulary[word]].append((count,round(tf*Idf,5)))\n",
    "        \n",
    "    count += 1"
   ]
  },
  {
   "cell_type": "code",
   "execution_count": null,
   "metadata": {},
   "outputs": [],
   "source": [
    "with open('tfidf_useful_word.pkl', 'wb') as handle:\n",
    "    pickle.dump(tfidf, handle)"
   ]
  },
  {
   "cell_type": "code",
   "execution_count": null,
   "metadata": {},
   "outputs": [],
   "source": [
    "with open('tfidf_useful_word.pkl', 'rb') as handle:\n",
    "    a = pickle.load(handle)"
   ]
  },
  {
   "cell_type": "markdown",
   "metadata": {},
   "source": [
    "Once we have the tfidf we create a sparse matrix with size [number of reviews,number of features],the non-zero values are the tf_idf scores for that review and the corrispondent words which contains. "
   ]
  },
  {
   "cell_type": "code",
   "execution_count": 21,
   "metadata": {},
   "outputs": [
    {
     "name": "stderr",
     "output_type": "stream",
     "text": [
      "100%|██████████████████████████████████| 14573/14573 [00:12<00:00, 1143.36it/s]\n"
     ]
    }
   ],
   "source": [
    "rows, cols, vals = [], [], []\n",
    "for key, values in tqdm(tfidf.items()):\n",
    "    for value in values:\n",
    "        rows.append(value[0])\n",
    "        cols.append(key)\n",
    "        vals.append(value[1])\n",
    "\n",
    "X = sp.csr_matrix((vals, (rows, cols)))"
   ]
  },
  {
   "cell_type": "code",
   "execution_count": null,
   "metadata": {},
   "outputs": [],
   "source": [
    "sparse.save_npz('matrice.npz',X)"
   ]
  },
  {
   "cell_type": "code",
   "execution_count": null,
   "metadata": {},
   "outputs": [],
   "source": [
    "X=sparse.load_npz('matrice.npz')"
   ]
  },
  {
   "cell_type": "markdown",
   "metadata": {},
   "source": [
    "Here we import the SVD model for dimensionality reduction of sklearn,and we calculate the variance explained by different number of features to be able to find the number which explains more than the 60% of the variance."
   ]
  },
  {
   "cell_type": "code",
   "execution_count": 23,
   "metadata": {},
   "outputs": [],
   "source": [
    "from sklearn.decomposition import TruncatedSVD"
   ]
  },
  {
   "cell_type": "code",
   "execution_count": 26,
   "metadata": {
    "scrolled": true
   },
   "outputs": [
    {
     "name": "stderr",
     "output_type": "stream",
     "text": [
      "  9%|███▉                                       | 1/11 [00:02<00:25,  2.59s/it]"
     ]
    },
    {
     "name": "stdout",
     "output_type": "stream",
     "text": [
      "Number of components = 4 and explained variance = 0.023385617094432917\n"
     ]
    },
    {
     "name": "stderr",
     "output_type": "stream",
     "text": [
      "\r",
      " 18%|███████▊                                   | 2/11 [00:05<00:25,  2.78s/it]"
     ]
    },
    {
     "name": "stdout",
     "output_type": "stream",
     "text": [
      "Number of components = 10 and explained variance = 0.04500607212503198\n"
     ]
    },
    {
     "name": "stderr",
     "output_type": "stream",
     "text": [
      "\r",
      " 27%|███████████▋                               | 3/11 [00:09<00:25,  3.13s/it]"
     ]
    },
    {
     "name": "stdout",
     "output_type": "stream",
     "text": [
      "Number of components = 15 and explained variance = 0.057613480441508304\n"
     ]
    },
    {
     "name": "stderr",
     "output_type": "stream",
     "text": [
      "\r",
      " 36%|███████████████▋                           | 4/11 [00:14<00:25,  3.61s/it]"
     ]
    },
    {
     "name": "stdout",
     "output_type": "stream",
     "text": [
      "Number of components = 20 and explained variance = 0.06852667643123984\n"
     ]
    },
    {
     "name": "stderr",
     "output_type": "stream",
     "text": [
      "\r",
      " 45%|███████████████████▌                       | 5/11 [00:23<00:30,  5.16s/it]"
     ]
    },
    {
     "name": "stdout",
     "output_type": "stream",
     "text": [
      "Number of components = 50 and explained variance = 0.11703651141132171\n"
     ]
    },
    {
     "name": "stderr",
     "output_type": "stream",
     "text": [
      "\r",
      " 55%|███████████████████████▍                   | 6/11 [00:39<00:42,  8.42s/it]"
     ]
    },
    {
     "name": "stdout",
     "output_type": "stream",
     "text": [
      "Number of components = 100 and explained variance = 0.17219473986382458\n"
     ]
    },
    {
     "name": "stderr",
     "output_type": "stream",
     "text": [
      "\r",
      " 64%|███████████████████████████▎               | 7/11 [01:01<00:50, 12.61s/it]"
     ]
    },
    {
     "name": "stdout",
     "output_type": "stream",
     "text": [
      "Number of components = 150 and explained variance = 0.21427429162141387\n"
     ]
    },
    {
     "name": "stderr",
     "output_type": "stream",
     "text": [
      "\r",
      " 73%|███████████████████████████████▎           | 8/11 [01:31<00:53, 17.92s/it]"
     ]
    },
    {
     "name": "stdout",
     "output_type": "stream",
     "text": [
      "Number of components = 200 and explained variance = 0.24959195340012946\n"
     ]
    },
    {
     "name": "stderr",
     "output_type": "stream",
     "text": [
      "\r",
      " 82%|███████████████████████████████████▏       | 9/11 [04:45<02:20, 70.49s/it]"
     ]
    },
    {
     "name": "stdout",
     "output_type": "stream",
     "text": [
      "Number of components = 500 and explained variance = 0.3984632176121613\n"
     ]
    },
    {
     "name": "stderr",
     "output_type": "stream",
     "text": [
      "\r",
      " 91%|██████████████████████████████████████▏   | 10/11 [06:47<01:26, 86.06s/it]"
     ]
    },
    {
     "name": "stdout",
     "output_type": "stream",
     "text": [
      "Number of components = 700 and explained variance = 0.4688249605537563\n"
     ]
    },
    {
     "name": "stderr",
     "output_type": "stream",
     "text": [
      "\r",
      "100%|█████████████████████████████████████████| 11/11 [09:13<00:00, 104.01s/it]"
     ]
    },
    {
     "name": "stdout",
     "output_type": "stream",
     "text": [
      "Number of components = 800 and explained variance = 0.498891615334091\n"
     ]
    },
    {
     "name": "stderr",
     "output_type": "stream",
     "text": [
      "100%|██████████████████████████████████████████| 11/11 [09:13<00:00, 50.36s/it]\n"
     ]
    }
   ],
   "source": [
    "n_comp = [4,10,15,20,50,100,150,200,500,700,800] \n",
    "explained_ = [] \n",
    "for x in tqdm(n_comp):\n",
    "    svd = TruncatedSVD(n_components=x)\n",
    "    svd.fit(X)\n",
    "    explained_.append(svd.explained_variance_ratio_.sum())\n",
    "    print(\"Number of components = %r and explained variance = %r\"%(x,svd.explained_variance_ratio_.sum()))"
   ]
  },
  {
   "cell_type": "code",
   "execution_count": 36,
   "metadata": {},
   "outputs": [
    {
     "data": {
      "image/png": "[encoded data removed]",
      "text/plain": [
       "<Figure size 432x288 with 1 Axes>"
      ]
     },
     "metadata": {
      "needs_background": "light"
     },
     "output_type": "display_data"
    }
   ],
   "source": [
    "plt.plot(n_comp, explained_)\n",
    "plt.xlabel('Number of components')\n",
    "plt.ylabel(\"Explained Variance\")\n",
    "plt.title(\"SVD\")\n",
    "plt.show()"
   ]
  },
  {
   "cell_type": "markdown",
   "metadata": {},
   "source": [
    "## Using Tfidf of sklearn\n",
    "Import the built-in model of sklearn TFIDF"
   ]
  },
  {
   "cell_type": "code",
   "execution_count": 29,
   "metadata": {},
   "outputs": [],
   "source": [
    "from sklearn.feature_extraction.text import TfidfVectorizer"
   ]
  },
  {
   "cell_type": "markdown",
   "metadata": {},
   "source": [
    "We have to pass in input the list of all the reviews so we create it from the dataset"
   ]
  },
  {
   "cell_type": "code",
   "execution_count": 27,
   "metadata": {},
   "outputs": [
    {
     "name": "stderr",
     "output_type": "stream",
     "text": [
      "100%|███████████████████████████████████| 67557/67557 [04:34<00:00, 246.47it/s]\n"
     ]
    }
   ],
   "source": [
    "corpus = []\n",
    "for text in tqdm(df['Reviews_Text']):\n",
    "    corpus.append(' '.join(text))"
   ]
  },
  {
   "cell_type": "markdown",
   "metadata": {},
   "source": [
    "We fix the range of document frequecy as above:[10,100000] and repeat the same operations"
   ]
  },
  {
   "cell_type": "code",
   "execution_count": 30,
   "metadata": {},
   "outputs": [],
   "source": [
    "vectorizer = TfidfVectorizer(min_df=10,max_df=100000,use_idf= True)\n",
    "X_temp = vectorizer.fit_transform(corpus)"
   ]
  },
  {
   "cell_type": "code",
   "execution_count": 32,
   "metadata": {},
   "outputs": [
    {
     "name": "stderr",
     "output_type": "stream",
     "text": [
      "  9%|███▉                                       | 1/11 [00:02<00:28,  2.88s/it]"
     ]
    },
    {
     "name": "stdout",
     "output_type": "stream",
     "text": [
      "Number of components = 4 and explained variance = 0.05025905476733422\n"
     ]
    },
    {
     "name": "stderr",
     "output_type": "stream",
     "text": [
      "\r",
      " 18%|███████▊                                   | 2/11 [00:06<00:28,  3.11s/it]"
     ]
    },
    {
     "name": "stdout",
     "output_type": "stream",
     "text": [
      "Number of components = 10 and explained variance = 0.08452934320668629\n"
     ]
    },
    {
     "name": "stderr",
     "output_type": "stream",
     "text": [
      "\r",
      " 27%|███████████▋                               | 3/11 [00:10<00:27,  3.46s/it]"
     ]
    },
    {
     "name": "stdout",
     "output_type": "stream",
     "text": [
      "Number of components = 15 and explained variance = 0.10348777248014844\n"
     ]
    },
    {
     "name": "stderr",
     "output_type": "stream",
     "text": [
      "\r",
      " 36%|███████████████▋                           | 4/11 [00:15<00:27,  3.93s/it]"
     ]
    },
    {
     "name": "stdout",
     "output_type": "stream",
     "text": [
      "Number of components = 20 and explained variance = 0.11940362915397268\n"
     ]
    },
    {
     "name": "stderr",
     "output_type": "stream",
     "text": [
      "\r",
      " 45%|███████████████████▌                       | 5/11 [00:25<00:33,  5.66s/it]"
     ]
    },
    {
     "name": "stdout",
     "output_type": "stream",
     "text": [
      "Number of components = 50 and explained variance = 0.18680187147658403\n"
     ]
    },
    {
     "name": "stderr",
     "output_type": "stream",
     "text": [
      "\r",
      " 55%|███████████████████████▍                   | 6/11 [00:42<00:45,  9.17s/it]"
     ]
    },
    {
     "name": "stdout",
     "output_type": "stream",
     "text": [
      "Number of components = 100 and explained variance = 0.25749847347236615\n"
     ]
    },
    {
     "name": "stderr",
     "output_type": "stream",
     "text": [
      "\r",
      " 64%|███████████████████████████▎               | 7/11 [01:07<00:54, 13.68s/it]"
     ]
    },
    {
     "name": "stdout",
     "output_type": "stream",
     "text": [
      "Number of components = 150 and explained variance = 0.30837087222058773\n"
     ]
    },
    {
     "name": "stderr",
     "output_type": "stream",
     "text": [
      "\r",
      " 73%|███████████████████████████████▎           | 8/11 [01:40<00:58, 19.55s/it]"
     ]
    },
    {
     "name": "stdout",
     "output_type": "stream",
     "text": [
      "Number of components = 200 and explained variance = 0.3486179699038336\n"
     ]
    },
    {
     "name": "stderr",
     "output_type": "stream",
     "text": [
      "\r",
      " 82%|███████████████████████████████████▏       | 9/11 [05:03<02:29, 74.75s/it]"
     ]
    },
    {
     "name": "stdout",
     "output_type": "stream",
     "text": [
      "Number of components = 500 and explained variance = 0.5069566930440776\n"
     ]
    },
    {
     "name": "stderr",
     "output_type": "stream",
     "text": [
      "\r",
      " 91%|█████████████████████████████████████▎   | 10/11 [07:55<01:43, 103.68s/it]"
     ]
    },
    {
     "name": "stdout",
     "output_type": "stream",
     "text": [
      "Number of components = 700 and explained variance = 0.5743766567196257\n"
     ]
    },
    {
     "name": "stderr",
     "output_type": "stream",
     "text": [
      "\r",
      "100%|█████████████████████████████████████████| 11/11 [10:29<00:00, 118.77s/it]"
     ]
    },
    {
     "name": "stdout",
     "output_type": "stream",
     "text": [
      "Number of components = 800 and explained variance = 0.6019043277580844\n"
     ]
    },
    {
     "name": "stderr",
     "output_type": "stream",
     "text": [
      "100%|██████████████████████████████████████████| 11/11 [10:30<00:00, 57.31s/it]\n"
     ]
    }
   ],
   "source": [
    "n_comp = [4,10,15,20,50,100,150,200,500,700,800] \n",
    "explained = []\n",
    "for x in tqdm(n_comp):\n",
    "    svd = TruncatedSVD(n_components=x)\n",
    "    svd.fit(X_temp)\n",
    "    explained.append(svd.explained_variance_ratio_.sum())\n",
    "    print(\"Number of components = %r and explained variance = %r\"%(x,svd.explained_variance_ratio_.sum()))"
   ]
  },
  {
   "cell_type": "code",
   "execution_count": 37,
   "metadata": {},
   "outputs": [
    {
     "data": {
      "image/png": "[encoded data removed]",
      "text/plain": [
       "<Figure size 432x288 with 1 Axes>"
      ]
     },
     "metadata": {
      "needs_background": "light"
     },
     "output_type": "display_data"
    }
   ],
   "source": [
    "plt.plot(n_comp, explained)\n",
    "plt.xlabel('Number of components')\n",
    "plt.ylabel(\"Explained Variance\")\n",
    "plt.title(\"SVD\")\n",
    "plt.show()"
   ]
  },
  {
   "cell_type": "markdown",
   "metadata": {},
   "source": [
    "# Comparing results"
   ]
  },
  {
   "cell_type": "code",
   "execution_count": 40,
   "metadata": {},
   "outputs": [
    {
     "data": {
      "image/png": "[encoded data removed]",
      "text/plain": [
       "<Figure size 432x288 with 1 Axes>"
      ]
     },
     "metadata": {
      "needs_background": "light"
     },
     "output_type": "display_data"
    }
   ],
   "source": [
    "plt.plot(n_comp, explained_,color='r',label='fist result')\n",
    "plt.plot(n_comp, explained,color='g',label='second result')\n",
    "plt.grid()\n",
    "plt.legend()\n",
    "plt.show()"
   ]
  },
  {
   "cell_type": "markdown",
   "metadata": {},
   "source": [
    "Here we can see that the results obtaind from the SVD Truncated method for the reduction of the number of features, is slightly different if we apply it on the sparse matrix of **tf_idf** coefficients generated from scratch by us , and if we apply it on the sparse matrix returnd by the built in model of sklearn TfidfVectorizer which created automatically a TF-IDF matrix given a collection of documents. The reason of this is that TfidfVectorizer use a reweighting of inverse frequency and a sort of Laplace Smoothing to avoid division by zero. Taking into account the second result instead of represent each review with 14000 features we can represent them with only 800 features obtained vy SVD reduction dimensionality. "
   ]
  },
  {
   "cell_type": "markdown",
   "metadata": {},
   "source": [
    "## Find the best 800 features"
   ]
  },
  {
   "cell_type": "markdown",
   "metadata": {},
   "source": [
    "SVD dimension are linear combination of the original features.So for finding the 800 features that explain 60% od the data we:\n",
    "1. Obtain all the features(words) from the vectorizer.\n",
    "\n",
    "2. Use the svd_components which is a matrix of coefficient of each features are multiplied by.\n",
    "\n",
    "3. To obtain the top 800 we sort the first dimension of svd_components and we find the relative features"
   ]
  },
  {
   "cell_type": "code",
   "execution_count": 47,
   "metadata": {},
   "outputs": [],
   "source": [
    "features=vectorizer.get_feature_names()"
   ]
  },
  {
   "cell_type": "code",
   "execution_count": 49,
   "metadata": {},
   "outputs": [],
   "source": [
    "best_features = [features[i] for i in svd.components_[0].argsort()[::-1]]"
   ]
  },
  {
   "cell_type": "code",
   "execution_count": 60,
   "metadata": {},
   "outputs": [
    {
     "name": "stdout",
     "output_type": "stream",
     "text": [
      "['tea', 'tast', 'like', 'coffe', 'flavor', 'product', 'good', 'love', 'great', 'use', 'one', 'tri', 'food', 'get', 'make', 'order', 'chocol', 'amazon', 'buy', 'would', 'dog', 'price', 'bag', 'time', 'eat', 'realli', 'find', 'drink', 'store', 'much', 'box', 'best', 'sugar', 'littl', 'also', 'mix', 'cup', 'sweet', 'well', 'even', 'better', 'packag', 'sauc', 'purchas', 'candi', 'treat', 'year', 'brand', 'look', 'day', 'recommend', 'cat', 'bought', 'pack', 'ship', 'free', 'snack', 'delici', 'water', 'found', 'want', 'bar', 'hot', 'high', 'first', 'give', 'enjoy', 'add', 'favorit', 'nice', 'made', 'way', 'think', 'cooki', 'fresh', 'local', 'need', 'could', 'work', 'know', 'say', 'differ', 'perfect', 'milk', 'bit', 'organ', 'sinc', 'bottl', 'thing', 'lot', 'two', 'got', 'qualiti', 'stuff', 'salt', 'green', 'bean', 'ingredi', 'still', 'mani', 'cook', 'wonder', 'ever', 'keep', 'come', 'hard', 'alway', 'never', 'review', 'chicken', 'oil', 'item', 'rice', 'soup', 'easi', 'everi', 'someth', 'size', 'right', 'dri', 'seem', 'without', 'take', 'fruit', 'healthi', 'last', 'put', 'whole', 'arriv', 'back', 'natur', 'small', 'contain', 'smell', 'quick', 'less', 'ice', 'calori', 'long', 'tasti', 'groceri', 'gift', 'cereal', 'receiv', 'enough', 'excel', 'old', 'sure', 'definit', 'thank', 'bad', 'can', 'though', 'happi', 'howev', 'chees', 'chip', 'regular', 'butter', 'thought', 'month', 'strong', 'serv', 'kid', 'see', 'spice', 'open', 'blend', 'actual', 'roast', 'peanut', 'friend', 'pasta', 'quit', 'gluten', 'compani', 'feel', 'low', 'worth', 'disappoint', 'far', 'pretti', 'big', 'textur', 'star', 'expens', 'famili', 'expect', 'help', 'cracker', 'problem', 'vanilla', 'varieti', 'came', 'anoth', 'brew', 'per', 'usual', 'real', 'nut', 'case', 'almost', 'start', 'dark', 'amount', 'fat', 'avail', 'cost', 'save', 'new', 'meal', 'season', 'com', 'bitter', 'anyth', 'black', 'syrup', 'jar', 'home', 'light', 'diet', 'recip', 'cake', 'peopl', 'half', 'piec', 'powder', 'honey', 'around', 'sever', 'kind', 'reason', 'bake', 'pleas', 'top', 'cream', 'bread', 'carri', 'chew', 'may', 'morn', 'white', 'full', 'juic', 'money', 'absolut', 'spici', 'gum', 'week', 'hope', 'packet', 'husband', 'wish', 'away', 'abl', 'said', 'sweeten', 'coconut', 'deal', 'amaz', 'smooth', 'ounc', 'fast', 'prefer', 'protein', 'probabl', 'fill', 'pepper', 'minut', 'especi', 'meat', 'breakfast', 'live', 'corn', 'larg', 'color', 'noodl', 'noth', 'instead', 'three', 'cinnamon', 'almond', 'leav', 'lemon', 'health', 'rich', 'red', 'place', 'surpris', 'might', 'fine', 'glad', 'hand', 'compar', 'sell', 'salad', 'market', 'seed', 'dish', 'cheaper', 'pay', 'list', 'type', 'stick', 'ago', 'onlin', 'read', 'mayb', 'oliv', 'extra', 'mint', 'appl', 'care', 'stock', 'let', 'gave', 'end', 'satisfi', 'decid', 'heat', 'pound', 'least', 'hous', 'popcorn', 'decaf', 'next', 'call', 'went', 'fact', 'everyth', 'date', 'must', 'stop', 'orang', 'chang', 'other', 'wheat', 'son', 'second', 'ginger', 'potato', 'longer', 'www', 'origin', 'els', 'cold', 'plus', 'http', 'mouth', 'anyon', 'yummi', 'coupl', 'either', 'babi', 'version', 'yet', 'run', 'href', 'grain', 'conveni', 'everyon', 'exact', 'seller', 'feed', 'caffein', 'energi', 'offer', 'person', 'soft', 'slight', 'crunchi', 'salti', 'past', 'valu', 'includ', 'although', 'fan', 'servic', 'turn', 'super', 'christma', 'side', 'bite', 'tell', 'daughter', 'addit', 'beef', 'notic', 'tomato', 'etc', 'soy', 'total', 'weight', 'awesom', 'sodium', 'flour', 'took', 'line', 'part', 'melt', 'cherri', 'chai', 'shop', 'sometim', 'pop', 'brown', 'fish', 'special', 'ground', 'deliveri', 'aroma', 'normal', 'bulk', 'plastic', 'rather', 'mild', 'instant', 'believ', 'base', 'addict', 'bowl', 'chili', 'label', 'carb', 'goe', 'starbuck', 'experi', 'direct', 'garlic', 'strawberri', 'cut', 'cocoa', 'recent', 'sour', 'soda', 'choic', 'individu', 'wait', 'egg', 'pick', 'veget', 'deliv', 'altern', 'cannot', 'wife', 'french', 'oatmeal', 'artifici', 'fiber', 'plain', 'guess', 'close', 'sent', 'consist', 'hour', 'ask', 'return', 'life', 'wrap', 'smaller', 'prepar', 'pet', 'often', 'near', 'fantast', 'rememb', 'pot', 'lunch', 'search', 'caramel', 'custom', 'particular', 'issu', 'fair', 'wrong', 'continu', 'wast', 'combin', 'mean', 'nutrit', 'state', 'night', 'cours', 'pictur', 'sale', 'check', 'finish', 'subscrib', 'rate', 'stay', 'simpli', 'complet', 'four', 'someon', 'bodi', 'huge', 'sold', 'clean', 'raw', 'chewi', 'creami', 'restaur', 'singl', 'final', 'coat', 'unfortun', 'teeth', 'similar', 'replac', 'espresso', 'bone', 'note', 'dress', 'content', 'consid', 'easili', 'insid', 'certain', 'glass', 'supermarket', 'expir', 'granola', 'dip', 'becom', 'acid', 'bring', 'left', 'stomach', 'delight', 'extrem', 'saw', 'name', 'dinner', 'pleasant', 'area', 'microwav', 'result', 'pure', 'share', 'raspberri', 'except', 'veggi', 'tin', 'broken', 'blue', 'overal', 'ate', 'alreadi', 'fri', 'soon', 'jerki', 'sit', 'process', 'refresh', 'option', 'hit', 'eaten', 'suggest', 'set', 'machin', 'discov', 'aftertast', 'larger', 'descript', 'excit', 'berri', 'peach', 'balanc', 'miss', 'mine', 'licoric', 'stale', 'throw', 'seal', 'yes', 'hint', 'non', 'substitut', 'picki', 'vitamin', 'condit', 'loos', 'pod', 'gone', 'along', 'cheap', 'gummi', 'onion', 'effect', 'formula', 'thick', 'drop', 'world', 'allergi', 'suppos', 'idea', 'anywher', 'given', 'break', 'entir', 'dollar', 'parti', 'cover', 'pour', 'blueberri', 'batch', 'togeth', 'pouch', 'banana', 'due', 'gram', 'shape', 'point', 'crunch', 'crave', 'roll', 'five', 'send', 'plan', 'warm', 'switch', 'anyway', 'shipment', 'tuna', 'benefit', 'daili', 'difficult', 'thin', 'beat', 'liquid', 'clear', 'mustard', 'jelli', 'true', 'describ', 'provid', 'caus', 'opinion', 'quantiti', 'anymor', 'later', 'bold', 'slice', 'stevia', 'keurig', 'rest', 'mango', 'sampl', 'today', 'impress', 'told', 'salmon', 'count', 'lover', 'vinegar', 'happen', 'show', 'vet', 'truli', 'boil', 'done', 'import', 'mind', 'hazelnut', 'fun', 'mom', 'diabet', 'toast', 'lower', 'preserv', 'sourc', 'mother', 'bland', 'paid', 'hook', 'tini', 'puppi', 'pancak', 'chemic', 'pricey', 'kick', 'decent', 'drinker', 'lime', 'interest', 'italian', 'extract', 'summer', 'medium', 'steep', 'websit', 'curri', 'wine', 'follow', 'dessert', 'beauti', 'yogurt', 'six', 'tart', 'consum', 'sprinkl', 'twice', 'leaf', 'worri', 'oat', 'trip', 'plant', 'watch', 'seen', 'stir', 'easier', 'general', 'simpl', 'crisp', 'biscuit', 'smoke', 'within', 'mention', 'unless', 'costco', 'figur', 'hate', 'busi', 'weak', 'yum', 'pumpkin', 'sandwich', 'peppermint', 'steak', 'raisin', 'gourmet', 'futur', 'vegan', 'china', 'vendor', 'grill', 'maker', 'none', 'matter', 'kitchen', 'digest', 'complaint', 'healthier', 'hold', 'charg', 'advertis', 'wow', 'produc', 'prompt', 'basket', 'homemad', 'fit', 'previous', 'shake', 'travel', 'possibl', 'touch', 'pork', 'sort', 'cool', 'shelf', 'pie', 'overpow', 'uniqu', 'realiz', 'tradit', 'bottom', 'holiday', 'spread', 'horribl', 'readi', 'manufactur', 'refriger', 'short', 'beverag', 'terribl', 'immedi', 'present', 'unlik', 'birthday', 'brought', 'okay', 'spoon', 'agre', 'offic', 'doubl', 'allow', 'suppli', 'level', 'mess', 'broth', 'herb', 'serious', 'site', 'sea', 'style', 'main', 'remind', 'grind', 'thrill']\n"
     ]
    }
   ],
   "source": [
    "print(best_features[:800])"
   ]
  },
  {
   "cell_type": "code",
   "execution_count": 62,
   "metadata": {},
   "outputs": [],
   "source": [
    "with open('best_features.pkl', 'wb') as handle:\n",
    "    pickle.dump(best_features[:800], handle)"
   ]
  },
  {
   "cell_type": "code",
   "execution_count": null,
   "metadata": {},
   "outputs": [],
   "source": []
  },
  {
   "cell_type": "code",
   "execution_count": null,
   "metadata": {},
   "outputs": [],
   "source": []
  },
  {
   "cell_type": "code",
   "execution_count": null,
   "metadata": {},
   "outputs": [],
   "source": []
  },
  {
   "cell_type": "code",
   "execution_count": null,
   "metadata": {},
   "outputs": [],
   "source": []
  },
  {
   "cell_type": "code",
   "execution_count": null,
   "metadata": {},
   "outputs": [],
   "source": []
  },
  {
   "cell_type": "code",
   "execution_count": null,
   "metadata": {},
   "outputs": [],
   "source": []
  },
  {
   "cell_type": "code",
   "execution_count": null,
   "metadata": {},
   "outputs": [],
   "source": []
  },
  {
   "cell_type": "code",
   "execution_count": null,
   "metadata": {},
   "outputs": [],
   "source": []
  },
  {
   "cell_type": "code",
   "execution_count": null,
   "metadata": {},
   "outputs": [],
   "source": []
  },
  {
   "cell_type": "code",
   "execution_count": null,
   "metadata": {},
   "outputs": [],
   "source": []
  },
  {
   "cell_type": "code",
   "execution_count": null,
   "metadata": {},
   "outputs": [],
   "source": []
  },
  {
   "cell_type": "code",
   "execution_count": null,
   "metadata": {},
   "outputs": [],
   "source": []
  },
  {
   "cell_type": "code",
   "execution_count": null,
   "metadata": {},
   "outputs": [],
   "source": []
  }
 ],
 "metadata": {
  "kernelspec": {
   "display_name": "Python 3",
   "language": "python",
   "name": "python3"
  },
  "language_info": {
   "codemirror_mode": {
    "name": "ipython",
    "version": 3
   },
   "file_extension": ".py",
   "mimetype": "text/x-python",
   "name": "python",
   "nbconvert_exporter": "python",
   "pygments_lexer": "ipython3",
   "version": "3.8.3"
  }
 },
 "nbformat": 4,
 "nbformat_minor": 4
}
